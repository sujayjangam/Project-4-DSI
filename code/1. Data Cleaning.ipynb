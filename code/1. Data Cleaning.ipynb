{
 "cells": [
  {
   "cell_type": "markdown",
   "id": "ffe1fd9d",
   "metadata": {},
   "source": [
    "# Data Cleaning"
   ]
  },
  {
   "cell_type": "markdown",
   "id": "30034691",
   "metadata": {},
   "source": [
    "## Imports\n",
    "---"
   ]
  },
  {
   "cell_type": "code",
   "execution_count": 226,
   "id": "3c1bd5a5",
   "metadata": {},
   "outputs": [],
   "source": [
    "import numpy as np\n",
    "import pandas as pd\n",
    "\n",
    "from datetime import date\n",
    "from datetime import datetime\n"
   ]
  },
  {
   "cell_type": "markdown",
   "id": "1669a749",
   "metadata": {},
   "source": [
    "## Training Data\n",
    "---"
   ]
  },
  {
   "cell_type": "code",
   "execution_count": 307,
   "id": "cb9e64f5",
   "metadata": {},
   "outputs": [],
   "source": [
    "# reading in the training data\n",
    "train = pd.read_csv('../data/train.csv')"
   ]
  },
  {
   "cell_type": "code",
   "execution_count": 308,
   "id": "5484068d",
   "metadata": {},
   "outputs": [],
   "source": [
    "# making column names lower case\n",
    "train.columns = np.array([col.lower() for col in train.columns])"
   ]
  },
  {
   "cell_type": "code",
   "execution_count": 309,
   "id": "aa603088",
   "metadata": {},
   "outputs": [],
   "source": [
    "# dropping exact duplicates\n",
    "train = train.drop_duplicates()"
   ]
  },
  {
   "cell_type": "code",
   "execution_count": 310,
   "id": "81ddf184",
   "metadata": {},
   "outputs": [],
   "source": [
    "# converting date to datetime\n",
    "train['date'] = pd.to_datetime(train['date'])"
   ]
  },
  {
   "cell_type": "code",
   "execution_count": 311,
   "id": "ae073d5b",
   "metadata": {},
   "outputs": [],
   "source": [
    "# creating columns based on date\n",
    "train['year'] = train['date'].apply(lambda x: x.year)\n",
    "train['month'] = train['date'].apply(lambda x: x.month)\n",
    "train['week'] = train['date'].apply(lambda x: x.week)\n",
    "train['dayofweek'] = train['date'].apply(lambda x: x.dayofweek)"
   ]
  },
  {
   "cell_type": "code",
   "execution_count": 305,
   "id": "d0bc0d99",
   "metadata": {},
   "outputs": [],
   "source": [
    "# change dataset index to be by date and sort it from earliest to latest\n",
    "train.set_index('date', inplace=True)\n",
    "train.sort_index(inplace=True)"
   ]
  },
  {
   "cell_type": "code",
   "execution_count": 327,
   "id": "ebb063bf",
   "metadata": {},
   "outputs": [],
   "source": [
    "# save to file\n",
    "train.to_csv('../data/train_clean.csv')"
   ]
  },
  {
   "cell_type": "markdown",
   "id": "000a8a23",
   "metadata": {},
   "source": [
    "### Preliminary EDA"
   ]
  },
  {
   "cell_type": "code",
   "execution_count": 412,
   "id": "991aebc2",
   "metadata": {
    "scrolled": false
   },
   "outputs": [
    {
     "name": "stdout",
     "output_type": "stream",
     "text": [
      "The occurrence rate of West Nile Virus in the training data is 5.19%.\n"
     ]
    }
   ],
   "source": [
    "# prints the occurrence rate of West Nile Virus based on 'wvvpreset' column\n",
    "print(f\"The occurrence rate of West Nile Virus in the training data is {round(train['wnvpresent'].value_counts()[1] / train.shape[0] * 100, 2)}%.\")"
   ]
  },
  {
   "cell_type": "markdown",
   "id": "fe99477a",
   "metadata": {},
   "source": [
    "- Occurrence rate of target class (West Nile Virus occurring) is really low"
   ]
  },
  {
   "cell_type": "code",
   "execution_count": 349,
   "id": "18a7dd39",
   "metadata": {},
   "outputs": [
    {
     "data": {
      "text/plain": [
       "CULEX PIPIENS/RESTUANS    0.461054\n",
       "CULEX RESTUANS            0.275663\n",
       "CULEX PIPIENS             0.230991\n",
       "CULEX TERRITANS           0.022800\n",
       "CULEX SALINARIUS          0.008769\n",
       "CULEX TARSALIS            0.000619\n",
       "CULEX ERRATICUS           0.000103\n",
       "Name: species, dtype: float64"
      ]
     },
     "execution_count": 349,
     "metadata": {},
     "output_type": "execute_result"
    }
   ],
   "source": [
    "# displays the proportion of each unique value in test['species']\n",
    "train['species'].value_counts(normalize=True)"
   ]
  },
  {
   "cell_type": "markdown",
   "id": "10e35388",
   "metadata": {},
   "source": [
    "- Majority of species are `CULEX PIPIENS/RESTUANS`, `CULEX RESTUANS`, `CULEX PIPIENS` taking up ~97%\n",
    "- The other four species of `CULEX TERRITANS`, `CULEX SALINARIUS`, `CULEX TARSALIS`, and `CULEX ERRATICUS` comprise the remaining 3%"
   ]
  },
  {
   "cell_type": "markdown",
   "id": "8e29b08c",
   "metadata": {},
   "source": [
    "## Testing data\n",
    "---"
   ]
  },
  {
   "cell_type": "code",
   "execution_count": 340,
   "id": "f1a08078",
   "metadata": {},
   "outputs": [],
   "source": [
    "# reading in the testing data\n",
    "test = pd.read_csv('../data/test.csv')"
   ]
  },
  {
   "cell_type": "code",
   "execution_count": 341,
   "id": "faa90e0b",
   "metadata": {},
   "outputs": [],
   "source": [
    "# making column names lower case\n",
    "test.columns = np.array([col.lower() for col in test.columns])"
   ]
  },
  {
   "cell_type": "code",
   "execution_count": 344,
   "id": "7e595044",
   "metadata": {},
   "outputs": [],
   "source": [
    "# dropping exact duplicates\n",
    "test = test.drop_duplicates()"
   ]
  },
  {
   "cell_type": "code",
   "execution_count": 351,
   "id": "ae92be10",
   "metadata": {},
   "outputs": [],
   "source": [
    "# converting date to datetime\n",
    "test['date'] = pd.to_datetime(test['date'])"
   ]
  },
  {
   "cell_type": "code",
   "execution_count": 352,
   "id": "e7d25806",
   "metadata": {},
   "outputs": [],
   "source": [
    "# creating columns based on date\n",
    "test['year'] = test['date'].apply(lambda x: x.year)\n",
    "test['month'] = test['date'].apply(lambda x: x.month)\n",
    "test['week'] = test['date'].apply(lambda x: x.week)\n",
    "test['dayofweek'] = test['date'].apply(lambda x: x.dayofweek)"
   ]
  },
  {
   "cell_type": "code",
   "execution_count": 359,
   "id": "8f4c788e",
   "metadata": {},
   "outputs": [],
   "source": [
    "# dropping unnecessary column 'id'\n",
    "test.drop(columns='id', inplace=True)"
   ]
  },
  {
   "cell_type": "code",
   "execution_count": 361,
   "id": "e565ea3f",
   "metadata": {},
   "outputs": [],
   "source": [
    "# change dataset index to be by date and sort it from earliest to latest\n",
    "test.set_index('date', inplace=True)\n",
    "test.sort_index(inplace=True)"
   ]
  },
  {
   "cell_type": "code",
   "execution_count": 363,
   "id": "2c5bcb27",
   "metadata": {},
   "outputs": [],
   "source": [
    "# save to file\n",
    "test.to_csv('../data/test_clean.csv')"
   ]
  },
  {
   "cell_type": "markdown",
   "id": "2c034ca9",
   "metadata": {},
   "source": [
    "### Preliminary EDA"
   ]
  },
  {
   "cell_type": "code",
   "execution_count": 365,
   "id": "67ffa06c",
   "metadata": {},
   "outputs": [
    {
     "data": {
      "text/plain": [
       "CULEX PIPIENS/RESTUANS    0.132072\n",
       "CULEX RESTUANS            0.126147\n",
       "CULEX PIPIENS             0.124866\n",
       "CULEX SALINARIUS          0.123438\n",
       "CULEX TERRITANS           0.123404\n",
       "CULEX TARSALIS            0.123369\n",
       "UNSPECIFIED CULEX         0.123352\n",
       "CULEX ERRATICUS           0.123352\n",
       "Name: species, dtype: float64"
      ]
     },
     "execution_count": 365,
     "metadata": {},
     "output_type": "execute_result"
    }
   ],
   "source": [
    "# displays the proportion of each unique value in test['species']\n",
    "test['species'].value_counts(normalize=True)"
   ]
  },
  {
   "cell_type": "markdown",
   "id": "d5b81328",
   "metadata": {},
   "source": [
    "-  Test data has an equal distribution of each species of mosquito"
   ]
  },
  {
   "cell_type": "markdown",
   "id": "647ab591",
   "metadata": {},
   "source": [
    "# Spraying data\n",
    "---"
   ]
  },
  {
   "cell_type": "code",
   "execution_count": 374,
   "id": "3b90e18c",
   "metadata": {},
   "outputs": [],
   "source": [
    "# reading in the spraying data\n",
    "spray = pd.read_csv('../data/spray.csv')"
   ]
  },
  {
   "cell_type": "code",
   "execution_count": 375,
   "id": "5445fb46",
   "metadata": {},
   "outputs": [],
   "source": [
    "# making column names lower case\n",
    "spray.columns = np.array([col.lower() for col in spray.columns])"
   ]
  },
  {
   "cell_type": "code",
   "execution_count": 376,
   "id": "0b5e7230",
   "metadata": {},
   "outputs": [],
   "source": [
    "# dropping exact duplicates\n",
    "spray = spray.drop_duplicates()"
   ]
  },
  {
   "cell_type": "code",
   "execution_count": 380,
   "id": "a16896bf",
   "metadata": {},
   "outputs": [],
   "source": [
    "# converting date to datetime\n",
    "spray['date'] = pd.to_datetime(spray['date'])"
   ]
  },
  {
   "cell_type": "code",
   "execution_count": 381,
   "id": "1a076105",
   "metadata": {},
   "outputs": [],
   "source": [
    "# creating columns based on date\n",
    "spray['year'] = spray['date'].apply(lambda x: x.year)\n",
    "spray['month'] = spray['date'].apply(lambda x: x.month)\n",
    "spray['week'] = spray['date'].apply(lambda x: x.week)\n",
    "spray['dayofweek'] = spray['date'].apply(lambda x: x.dayofweek)"
   ]
  },
  {
   "cell_type": "code",
   "execution_count": 197,
   "id": "c4421459",
   "metadata": {},
   "outputs": [
    {
     "data": {
      "text/plain": [
       "date           0\n",
       "time         584\n",
       "latitude       0\n",
       "longitude      0\n",
       "dtype: int64"
      ]
     },
     "execution_count": 197,
     "metadata": {},
     "output_type": "execute_result"
    }
   ],
   "source": [
    "spray.isnull().sum()"
   ]
  },
  {
   "cell_type": "markdown",
   "id": "a4f166f4",
   "metadata": {},
   "source": [
    "584 null values of `time` were discovered."
   ]
  },
  {
   "cell_type": "code",
   "execution_count": 389,
   "id": "97c6b4f5",
   "metadata": {
    "scrolled": true
   },
   "outputs": [
    {
     "data": {
      "text/html": [
       "<div>\n",
       "<style scoped>\n",
       "    .dataframe tbody tr th:only-of-type {\n",
       "        vertical-align: middle;\n",
       "    }\n",
       "\n",
       "    .dataframe tbody tr th {\n",
       "        vertical-align: top;\n",
       "    }\n",
       "\n",
       "    .dataframe thead th {\n",
       "        text-align: right;\n",
       "    }\n",
       "</style>\n",
       "<table border=\"1\" class=\"dataframe\">\n",
       "  <thead>\n",
       "    <tr style=\"text-align: right;\">\n",
       "      <th></th>\n",
       "      <th>date</th>\n",
       "      <th>time</th>\n",
       "      <th>latitude</th>\n",
       "      <th>longitude</th>\n",
       "      <th>year</th>\n",
       "      <th>month</th>\n",
       "      <th>week</th>\n",
       "      <th>dayofweek</th>\n",
       "    </tr>\n",
       "  </thead>\n",
       "  <tbody>\n",
       "    <tr>\n",
       "      <th>1030</th>\n",
       "      <td>2011-09-07</td>\n",
       "      <td>NaN</td>\n",
       "      <td>41.987092</td>\n",
       "      <td>-87.794286</td>\n",
       "      <td>2011</td>\n",
       "      <td>9</td>\n",
       "      <td>36</td>\n",
       "      <td>2</td>\n",
       "    </tr>\n",
       "    <tr>\n",
       "      <th>1031</th>\n",
       "      <td>2011-09-07</td>\n",
       "      <td>NaN</td>\n",
       "      <td>41.987620</td>\n",
       "      <td>-87.794382</td>\n",
       "      <td>2011</td>\n",
       "      <td>9</td>\n",
       "      <td>36</td>\n",
       "      <td>2</td>\n",
       "    </tr>\n",
       "    <tr>\n",
       "      <th>1032</th>\n",
       "      <td>2011-09-07</td>\n",
       "      <td>NaN</td>\n",
       "      <td>41.988004</td>\n",
       "      <td>-87.794574</td>\n",
       "      <td>2011</td>\n",
       "      <td>9</td>\n",
       "      <td>36</td>\n",
       "      <td>2</td>\n",
       "    </tr>\n",
       "    <tr>\n",
       "      <th>1033</th>\n",
       "      <td>2011-09-07</td>\n",
       "      <td>NaN</td>\n",
       "      <td>41.988292</td>\n",
       "      <td>-87.795486</td>\n",
       "      <td>2011</td>\n",
       "      <td>9</td>\n",
       "      <td>36</td>\n",
       "      <td>2</td>\n",
       "    </tr>\n",
       "    <tr>\n",
       "      <th>1034</th>\n",
       "      <td>2011-09-07</td>\n",
       "      <td>NaN</td>\n",
       "      <td>41.988100</td>\n",
       "      <td>-87.796014</td>\n",
       "      <td>2011</td>\n",
       "      <td>9</td>\n",
       "      <td>36</td>\n",
       "      <td>2</td>\n",
       "    </tr>\n",
       "    <tr>\n",
       "      <th>...</th>\n",
       "      <td>...</td>\n",
       "      <td>...</td>\n",
       "      <td>...</td>\n",
       "      <td>...</td>\n",
       "      <td>...</td>\n",
       "      <td>...</td>\n",
       "      <td>...</td>\n",
       "      <td>...</td>\n",
       "    </tr>\n",
       "    <tr>\n",
       "      <th>1609</th>\n",
       "      <td>2011-09-07</td>\n",
       "      <td>NaN</td>\n",
       "      <td>41.995876</td>\n",
       "      <td>-87.811615</td>\n",
       "      <td>2011</td>\n",
       "      <td>9</td>\n",
       "      <td>36</td>\n",
       "      <td>2</td>\n",
       "    </tr>\n",
       "    <tr>\n",
       "      <th>1610</th>\n",
       "      <td>2011-09-07</td>\n",
       "      <td>NaN</td>\n",
       "      <td>41.995972</td>\n",
       "      <td>-87.810271</td>\n",
       "      <td>2011</td>\n",
       "      <td>9</td>\n",
       "      <td>36</td>\n",
       "      <td>2</td>\n",
       "    </tr>\n",
       "    <tr>\n",
       "      <th>1611</th>\n",
       "      <td>2011-09-07</td>\n",
       "      <td>NaN</td>\n",
       "      <td>41.995684</td>\n",
       "      <td>-87.810319</td>\n",
       "      <td>2011</td>\n",
       "      <td>9</td>\n",
       "      <td>36</td>\n",
       "      <td>2</td>\n",
       "    </tr>\n",
       "    <tr>\n",
       "      <th>1612</th>\n",
       "      <td>2011-09-07</td>\n",
       "      <td>NaN</td>\n",
       "      <td>41.994724</td>\n",
       "      <td>-87.810415</td>\n",
       "      <td>2011</td>\n",
       "      <td>9</td>\n",
       "      <td>36</td>\n",
       "      <td>2</td>\n",
       "    </tr>\n",
       "    <tr>\n",
       "      <th>1613</th>\n",
       "      <td>2011-09-07</td>\n",
       "      <td>NaN</td>\n",
       "      <td>41.993092</td>\n",
       "      <td>-87.810415</td>\n",
       "      <td>2011</td>\n",
       "      <td>9</td>\n",
       "      <td>36</td>\n",
       "      <td>2</td>\n",
       "    </tr>\n",
       "  </tbody>\n",
       "</table>\n",
       "<p>584 rows × 8 columns</p>\n",
       "</div>"
      ],
      "text/plain": [
       "           date time   latitude  longitude  year  month  week  dayofweek\n",
       "1030 2011-09-07  NaN  41.987092 -87.794286  2011      9    36          2\n",
       "1031 2011-09-07  NaN  41.987620 -87.794382  2011      9    36          2\n",
       "1032 2011-09-07  NaN  41.988004 -87.794574  2011      9    36          2\n",
       "1033 2011-09-07  NaN  41.988292 -87.795486  2011      9    36          2\n",
       "1034 2011-09-07  NaN  41.988100 -87.796014  2011      9    36          2\n",
       "...         ...  ...        ...        ...   ...    ...   ...        ...\n",
       "1609 2011-09-07  NaN  41.995876 -87.811615  2011      9    36          2\n",
       "1610 2011-09-07  NaN  41.995972 -87.810271  2011      9    36          2\n",
       "1611 2011-09-07  NaN  41.995684 -87.810319  2011      9    36          2\n",
       "1612 2011-09-07  NaN  41.994724 -87.810415  2011      9    36          2\n",
       "1613 2011-09-07  NaN  41.993092 -87.810415  2011      9    36          2\n",
       "\n",
       "[584 rows x 8 columns]"
      ]
     },
     "execution_count": 389,
     "metadata": {},
     "output_type": "execute_result"
    }
   ],
   "source": [
    "# display null rows\n",
    "spray[spray['time']!=spray['time']]"
   ]
  },
  {
   "cell_type": "code",
   "execution_count": 398,
   "id": "297d9d40",
   "metadata": {
    "scrolled": true
   },
   "outputs": [
    {
     "data": {
      "text/plain": [
       "2011-09-07    584\n",
       "Name: date, dtype: int64"
      ]
     },
     "execution_count": 398,
     "metadata": {},
     "output_type": "execute_result"
    }
   ],
   "source": [
    "# checking the number of unique values of dates for the null value rows\n",
    "spray[spray['time']!=spray['time']]['date'].value_counts()"
   ]
  },
  {
   "cell_type": "code",
   "execution_count": 400,
   "id": "4a5bafed",
   "metadata": {},
   "outputs": [
    {
     "data": {
      "text/plain": [
       "1573"
      ]
     },
     "execution_count": 400,
     "metadata": {},
     "output_type": "execute_result"
    }
   ],
   "source": [
    "# checking the number of occurences of the date of our null values\n",
    "spray[spray['date']== '2011-09-07'].shape[0]"
   ]
  },
  {
   "cell_type": "markdown",
   "id": "0f1b77ef",
   "metadata": {},
   "source": [
    "There are 584 null values for time on `2011-09-07` , more than a third of the total number of entries for that day."
   ]
  },
  {
   "cell_type": "markdown",
   "id": "32101809",
   "metadata": {},
   "source": [
    "The `time` column is not essential to our analysis as we only need to know on which day spraying occurred. As such, we will get rid of our null values by dropping the time column."
   ]
  },
  {
   "cell_type": "code",
   "execution_count": 403,
   "id": "b45ae6d1",
   "metadata": {},
   "outputs": [],
   "source": [
    "# Time not important, just the instance of spraying\n",
    "spray = spray.drop(columns='time')"
   ]
  },
  {
   "cell_type": "code",
   "execution_count": 406,
   "id": "67c38074",
   "metadata": {},
   "outputs": [],
   "source": [
    "# change dataset index to be by date and sort it from earliest to latest\n",
    "spray.set_index('date', inplace=True)\n",
    "spray.sort_index(inplace=True)"
   ]
  },
  {
   "cell_type": "code",
   "execution_count": null,
   "id": "2de4b44a",
   "metadata": {},
   "outputs": [],
   "source": [
    "# save to file\n",
    "spray.to_csv('../data/spray_clean.csv')"
   ]
  },
  {
   "cell_type": "code",
   "execution_count": null,
   "id": "e639bee5",
   "metadata": {},
   "outputs": [],
   "source": []
  }
 ],
 "metadata": {
  "kernelspec": {
   "display_name": "Python 3 (ipykernel)",
   "language": "python",
   "name": "python3"
  },
  "language_info": {
   "codemirror_mode": {
    "name": "ipython",
    "version": 3
   },
   "file_extension": ".py",
   "mimetype": "text/x-python",
   "name": "python",
   "nbconvert_exporter": "python",
   "pygments_lexer": "ipython3",
   "version": "3.9.7"
  }
 },
 "nbformat": 4,
 "nbformat_minor": 5
}
