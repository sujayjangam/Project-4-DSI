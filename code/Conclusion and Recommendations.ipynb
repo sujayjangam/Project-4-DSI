{
 "cells": [
  {
   "cell_type": "markdown",
   "id": "ce88a7f6",
   "metadata": {},
   "source": [
    "- Zenivex proper application\n",
    "    - 2013-08-08 wind speed was > 10 miles per hour and sprayinhg was still \n",
    "- Usage of"
   ]
  },
  {
   "cell_type": "markdown",
   "id": "b51bd4d0",
   "metadata": {},
   "source": []
  },
  {
   "cell_type": "code",
   "execution_count": null,
   "id": "0ac3bee2",
   "metadata": {},
   "outputs": [],
   "source": []
  }
 ],
 "metadata": {
  "kernelspec": {
   "display_name": "Python 3 (ipykernel)",
   "language": "python",
   "name": "python3"
  },
  "language_info": {
   "codemirror_mode": {
    "name": "ipython",
    "version": 3
   },
   "file_extension": ".py",
   "mimetype": "text/x-python",
   "name": "python",
   "nbconvert_exporter": "python",
   "pygments_lexer": "ipython3",
   "version": "3.9.7"
  }
 },
 "nbformat": 4,
 "nbformat_minor": 5
}
