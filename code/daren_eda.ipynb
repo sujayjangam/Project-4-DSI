{
 "cells": [
  {
   "cell_type": "markdown",
   "id": "ee6f8628",
   "metadata": {},
   "source": [
    "# EDA\n"
   ]
  },
  {
   "cell_type": "markdown",
   "id": "bc695902",
   "metadata": {},
   "source": [
    "## training data"
   ]
  },
  {
   "cell_type": "code",
   "execution_count": 2,
   "id": "90ce547e",
   "metadata": {},
   "outputs": [],
   "source": [
    "import pandas as pd\n",
    "import numpy as np\n",
    "import matplotlib.pyplot as plt\n",
    "import seaborn as sns\n",
    "import datetime as dt\n",
    "import re\n",
    "import math"
   ]
  },
  {
   "cell_type": "code",
   "execution_count": 52,
   "id": "07dc0970",
   "metadata": {},
   "outputs": [],
   "source": [
    "train = pd.read_csv('../data/train_clean.csv')"
   ]
  },
  {
   "cell_type": "code",
   "execution_count": 53,
   "id": "9fea5077",
   "metadata": {},
   "outputs": [],
   "source": [
    "train_no_spec_dup = train.drop_duplicates(subset=['date', 'address', 'block', 'street', 'trap',\n",
    "       'addressnumberandstreet', 'latitude', 'longitude', 'addressaccuracy',\n",
    "       'nummosquitos', 'wnvpresent', 'year', 'month', 'week', 'dayofweek'])"
   ]
  },
  {
   "cell_type": "code",
   "execution_count": 54,
   "id": "99318630",
   "metadata": {
    "scrolled": true
   },
   "outputs": [
    {
     "data": {
      "text/html": [
       "<div>\n",
       "<style scoped>\n",
       "    .dataframe tbody tr th:only-of-type {\n",
       "        vertical-align: middle;\n",
       "    }\n",
       "\n",
       "    .dataframe tbody tr th {\n",
       "        vertical-align: top;\n",
       "    }\n",
       "\n",
       "    .dataframe thead th {\n",
       "        text-align: right;\n",
       "    }\n",
       "</style>\n",
       "<table border=\"1\" class=\"dataframe\">\n",
       "  <thead>\n",
       "    <tr style=\"text-align: right;\">\n",
       "      <th></th>\n",
       "      <th>date</th>\n",
       "      <th>address</th>\n",
       "      <th>species</th>\n",
       "      <th>block</th>\n",
       "      <th>street</th>\n",
       "      <th>trap</th>\n",
       "      <th>addressnumberandstreet</th>\n",
       "      <th>latitude</th>\n",
       "      <th>longitude</th>\n",
       "      <th>addressaccuracy</th>\n",
       "      <th>nummosquitos</th>\n",
       "      <th>wnvpresent</th>\n",
       "      <th>year</th>\n",
       "      <th>month</th>\n",
       "      <th>week</th>\n",
       "      <th>dayofweek</th>\n",
       "    </tr>\n",
       "  </thead>\n",
       "  <tbody>\n",
       "    <tr>\n",
       "      <th>0</th>\n",
       "      <td>2007-05-29</td>\n",
       "      <td>4100 North Oak Park Avenue, Chicago, IL 60634,...</td>\n",
       "      <td>CULEX PIPIENS/RESTUANS</td>\n",
       "      <td>41</td>\n",
       "      <td>N OAK PARK AVE</td>\n",
       "      <td>T002</td>\n",
       "      <td>4100  N OAK PARK AVE, Chicago, IL</td>\n",
       "      <td>41.954690</td>\n",
       "      <td>-87.800991</td>\n",
       "      <td>9</td>\n",
       "      <td>1</td>\n",
       "      <td>0</td>\n",
       "      <td>2007</td>\n",
       "      <td>5</td>\n",
       "      <td>22</td>\n",
       "      <td>1</td>\n",
       "    </tr>\n",
       "    <tr>\n",
       "      <th>2</th>\n",
       "      <td>2007-05-29</td>\n",
       "      <td>6200 North Mandell Avenue, Chicago, IL 60646, USA</td>\n",
       "      <td>CULEX RESTUANS</td>\n",
       "      <td>62</td>\n",
       "      <td>N MANDELL AVE</td>\n",
       "      <td>T007</td>\n",
       "      <td>6200  N MANDELL AVE, Chicago, IL</td>\n",
       "      <td>41.994991</td>\n",
       "      <td>-87.769279</td>\n",
       "      <td>9</td>\n",
       "      <td>1</td>\n",
       "      <td>0</td>\n",
       "      <td>2007</td>\n",
       "      <td>5</td>\n",
       "      <td>22</td>\n",
       "      <td>1</td>\n",
       "    </tr>\n",
       "    <tr>\n",
       "      <th>3</th>\n",
       "      <td>2007-05-29</td>\n",
       "      <td>7900 West Foster Avenue, Chicago, IL 60656, USA</td>\n",
       "      <td>CULEX PIPIENS/RESTUANS</td>\n",
       "      <td>79</td>\n",
       "      <td>W FOSTER AVE</td>\n",
       "      <td>T015</td>\n",
       "      <td>7900  W FOSTER AVE, Chicago, IL</td>\n",
       "      <td>41.974089</td>\n",
       "      <td>-87.824812</td>\n",
       "      <td>8</td>\n",
       "      <td>1</td>\n",
       "      <td>0</td>\n",
       "      <td>2007</td>\n",
       "      <td>5</td>\n",
       "      <td>22</td>\n",
       "      <td>1</td>\n",
       "    </tr>\n",
       "    <tr>\n",
       "      <th>4</th>\n",
       "      <td>2007-05-29</td>\n",
       "      <td>7900 West Foster Avenue, Chicago, IL 60656, USA</td>\n",
       "      <td>CULEX RESTUANS</td>\n",
       "      <td>79</td>\n",
       "      <td>W FOSTER AVE</td>\n",
       "      <td>T015</td>\n",
       "      <td>7900  W FOSTER AVE, Chicago, IL</td>\n",
       "      <td>41.974089</td>\n",
       "      <td>-87.824812</td>\n",
       "      <td>8</td>\n",
       "      <td>4</td>\n",
       "      <td>0</td>\n",
       "      <td>2007</td>\n",
       "      <td>5</td>\n",
       "      <td>22</td>\n",
       "      <td>1</td>\n",
       "    </tr>\n",
       "    <tr>\n",
       "      <th>5</th>\n",
       "      <td>2007-05-29</td>\n",
       "      <td>1500 West Webster Avenue, Chicago, IL 60614, USA</td>\n",
       "      <td>CULEX RESTUANS</td>\n",
       "      <td>15</td>\n",
       "      <td>W WEBSTER AVE</td>\n",
       "      <td>T045</td>\n",
       "      <td>1500  W WEBSTER AVE, Chicago, IL</td>\n",
       "      <td>41.921600</td>\n",
       "      <td>-87.666455</td>\n",
       "      <td>8</td>\n",
       "      <td>2</td>\n",
       "      <td>0</td>\n",
       "      <td>2007</td>\n",
       "      <td>5</td>\n",
       "      <td>22</td>\n",
       "      <td>1</td>\n",
       "    </tr>\n",
       "    <tr>\n",
       "      <th>...</th>\n",
       "      <td>...</td>\n",
       "      <td>...</td>\n",
       "      <td>...</td>\n",
       "      <td>...</td>\n",
       "      <td>...</td>\n",
       "      <td>...</td>\n",
       "      <td>...</td>\n",
       "      <td>...</td>\n",
       "      <td>...</td>\n",
       "      <td>...</td>\n",
       "      <td>...</td>\n",
       "      <td>...</td>\n",
       "      <td>...</td>\n",
       "      <td>...</td>\n",
       "      <td>...</td>\n",
       "      <td>...</td>\n",
       "    </tr>\n",
       "    <tr>\n",
       "      <th>9688</th>\n",
       "      <td>2013-09-26</td>\n",
       "      <td>5100 West 72nd Street, Chicago, IL 60638, USA</td>\n",
       "      <td>CULEX PIPIENS/RESTUANS</td>\n",
       "      <td>51</td>\n",
       "      <td>W 72ND ST</td>\n",
       "      <td>T035</td>\n",
       "      <td>5100  W 72ND ST, Chicago, IL</td>\n",
       "      <td>41.763733</td>\n",
       "      <td>-87.742302</td>\n",
       "      <td>8</td>\n",
       "      <td>6</td>\n",
       "      <td>1</td>\n",
       "      <td>2013</td>\n",
       "      <td>9</td>\n",
       "      <td>39</td>\n",
       "      <td>3</td>\n",
       "    </tr>\n",
       "    <tr>\n",
       "      <th>9689</th>\n",
       "      <td>2013-09-26</td>\n",
       "      <td>5800 North Ridge Avenue, Chicago, IL 60660, USA</td>\n",
       "      <td>CULEX PIPIENS/RESTUANS</td>\n",
       "      <td>58</td>\n",
       "      <td>N RIDGE AVE</td>\n",
       "      <td>T231</td>\n",
       "      <td>5800  N RIDGE AVE, Chicago, IL</td>\n",
       "      <td>41.987280</td>\n",
       "      <td>-87.666066</td>\n",
       "      <td>8</td>\n",
       "      <td>5</td>\n",
       "      <td>0</td>\n",
       "      <td>2013</td>\n",
       "      <td>9</td>\n",
       "      <td>39</td>\n",
       "      <td>3</td>\n",
       "    </tr>\n",
       "    <tr>\n",
       "      <th>9690</th>\n",
       "      <td>2013-09-26</td>\n",
       "      <td>1700 North Ashland Avenue, Chicago, IL 60622, USA</td>\n",
       "      <td>CULEX PIPIENS/RESTUANS</td>\n",
       "      <td>17</td>\n",
       "      <td>N ASHLAND AVE</td>\n",
       "      <td>T232</td>\n",
       "      <td>1700  N ASHLAND AVE, Chicago, IL</td>\n",
       "      <td>41.912563</td>\n",
       "      <td>-87.668055</td>\n",
       "      <td>9</td>\n",
       "      <td>1</td>\n",
       "      <td>0</td>\n",
       "      <td>2013</td>\n",
       "      <td>9</td>\n",
       "      <td>39</td>\n",
       "      <td>3</td>\n",
       "    </tr>\n",
       "    <tr>\n",
       "      <th>9691</th>\n",
       "      <td>2013-09-26</td>\n",
       "      <td>7100 North Harlem Avenue, Chicago, IL 60631, USA</td>\n",
       "      <td>CULEX PIPIENS/RESTUANS</td>\n",
       "      <td>71</td>\n",
       "      <td>N HARLEM AVE</td>\n",
       "      <td>T233</td>\n",
       "      <td>7100  N HARLEM AVE, Chicago, IL</td>\n",
       "      <td>42.009876</td>\n",
       "      <td>-87.807277</td>\n",
       "      <td>9</td>\n",
       "      <td>5</td>\n",
       "      <td>0</td>\n",
       "      <td>2013</td>\n",
       "      <td>9</td>\n",
       "      <td>39</td>\n",
       "      <td>3</td>\n",
       "    </tr>\n",
       "    <tr>\n",
       "      <th>9692</th>\n",
       "      <td>2013-09-26</td>\n",
       "      <td>4200 West 65th Street, Chicago, IL 60621, USA</td>\n",
       "      <td>CULEX PIPIENS/RESTUANS</td>\n",
       "      <td>42</td>\n",
       "      <td>W 65TH ST</td>\n",
       "      <td>T235</td>\n",
       "      <td>4200  W 65TH ST, Chicago, IL</td>\n",
       "      <td>41.776428</td>\n",
       "      <td>-87.627096</td>\n",
       "      <td>8</td>\n",
       "      <td>1</td>\n",
       "      <td>0</td>\n",
       "      <td>2013</td>\n",
       "      <td>9</td>\n",
       "      <td>39</td>\n",
       "      <td>3</td>\n",
       "    </tr>\n",
       "  </tbody>\n",
       "</table>\n",
       "<p>8994 rows × 16 columns</p>\n",
       "</div>"
      ],
      "text/plain": [
       "            date                                            address  \\\n",
       "0     2007-05-29  4100 North Oak Park Avenue, Chicago, IL 60634,...   \n",
       "2     2007-05-29  6200 North Mandell Avenue, Chicago, IL 60646, USA   \n",
       "3     2007-05-29    7900 West Foster Avenue, Chicago, IL 60656, USA   \n",
       "4     2007-05-29    7900 West Foster Avenue, Chicago, IL 60656, USA   \n",
       "5     2007-05-29   1500 West Webster Avenue, Chicago, IL 60614, USA   \n",
       "...          ...                                                ...   \n",
       "9688  2013-09-26      5100 West 72nd Street, Chicago, IL 60638, USA   \n",
       "9689  2013-09-26    5800 North Ridge Avenue, Chicago, IL 60660, USA   \n",
       "9690  2013-09-26  1700 North Ashland Avenue, Chicago, IL 60622, USA   \n",
       "9691  2013-09-26   7100 North Harlem Avenue, Chicago, IL 60631, USA   \n",
       "9692  2013-09-26      4200 West 65th Street, Chicago, IL 60621, USA   \n",
       "\n",
       "                     species  block           street  trap  \\\n",
       "0     CULEX PIPIENS/RESTUANS     41   N OAK PARK AVE  T002   \n",
       "2             CULEX RESTUANS     62    N MANDELL AVE  T007   \n",
       "3     CULEX PIPIENS/RESTUANS     79     W FOSTER AVE  T015   \n",
       "4             CULEX RESTUANS     79     W FOSTER AVE  T015   \n",
       "5             CULEX RESTUANS     15    W WEBSTER AVE  T045   \n",
       "...                      ...    ...              ...   ...   \n",
       "9688  CULEX PIPIENS/RESTUANS     51        W 72ND ST  T035   \n",
       "9689  CULEX PIPIENS/RESTUANS     58      N RIDGE AVE  T231   \n",
       "9690  CULEX PIPIENS/RESTUANS     17    N ASHLAND AVE  T232   \n",
       "9691  CULEX PIPIENS/RESTUANS     71     N HARLEM AVE  T233   \n",
       "9692  CULEX PIPIENS/RESTUANS     42        W 65TH ST  T235   \n",
       "\n",
       "                 addressnumberandstreet   latitude  longitude  \\\n",
       "0     4100  N OAK PARK AVE, Chicago, IL  41.954690 -87.800991   \n",
       "2      6200  N MANDELL AVE, Chicago, IL  41.994991 -87.769279   \n",
       "3       7900  W FOSTER AVE, Chicago, IL  41.974089 -87.824812   \n",
       "4       7900  W FOSTER AVE, Chicago, IL  41.974089 -87.824812   \n",
       "5      1500  W WEBSTER AVE, Chicago, IL  41.921600 -87.666455   \n",
       "...                                 ...        ...        ...   \n",
       "9688       5100  W 72ND ST, Chicago, IL  41.763733 -87.742302   \n",
       "9689     5800  N RIDGE AVE, Chicago, IL  41.987280 -87.666066   \n",
       "9690   1700  N ASHLAND AVE, Chicago, IL  41.912563 -87.668055   \n",
       "9691    7100  N HARLEM AVE, Chicago, IL  42.009876 -87.807277   \n",
       "9692       4200  W 65TH ST, Chicago, IL  41.776428 -87.627096   \n",
       "\n",
       "      addressaccuracy  nummosquitos  wnvpresent  year  month  week  dayofweek  \n",
       "0                   9             1           0  2007      5    22          1  \n",
       "2                   9             1           0  2007      5    22          1  \n",
       "3                   8             1           0  2007      5    22          1  \n",
       "4                   8             4           0  2007      5    22          1  \n",
       "5                   8             2           0  2007      5    22          1  \n",
       "...               ...           ...         ...   ...    ...   ...        ...  \n",
       "9688                8             6           1  2013      9    39          3  \n",
       "9689                8             5           0  2013      9    39          3  \n",
       "9690                9             1           0  2013      9    39          3  \n",
       "9691                9             5           0  2013      9    39          3  \n",
       "9692                8             1           0  2013      9    39          3  \n",
       "\n",
       "[8994 rows x 16 columns]"
      ]
     },
     "execution_count": 54,
     "metadata": {},
     "output_type": "execute_result"
    }
   ],
   "source": [
    "train_no_spec_dup"
   ]
  },
  {
   "cell_type": "code",
   "execution_count": 6,
   "id": "9e339ad9",
   "metadata": {},
   "outputs": [
    {
     "data": {
      "text/plain": [
       "[<matplotlib.lines.Line2D at 0x24b08df4d30>]"
      ]
     },
     "execution_count": 6,
     "metadata": {},
     "output_type": "execute_result"
    },
    {
     "data": {
      "image/png": "[encoded data removed]",
      "text/plain": [
       "<Figure size 432x288 with 1 Axes>"
      ]
     },
     "metadata": {
      "needs_background": "light"
     },
     "output_type": "display_data"
    }
   ],
   "source": [
    "plt.plot(train_no_spec_dup['nummosquitos'].rolling(28).mean())"
   ]
  },
  {
   "cell_type": "markdown",
   "id": "2cf4b81a",
   "metadata": {},
   "source": [
    "### `date`, (`year`, `month`, `week`, `dayofweek`)"
   ]
  },
  {
   "cell_type": "code",
   "execution_count": 7,
   "id": "82c68112",
   "metadata": {},
   "outputs": [],
   "source": [
    "# check to see if there are missing dates\n",
    "missing_dates = pd.date_range(start = train_no_spec_dup['date'][0], end = train_no_spec_dup['date'][9692] ).difference(train['date'])"
   ]
  },
  {
   "cell_type": "code",
   "execution_count": 21,
   "id": "875cc7f0",
   "metadata": {},
   "outputs": [],
   "source": [
    "# make the values into a dataframe\n",
    "missing_dates = pd.DataFrame(missing_dates, columns=['missing_dates'])"
   ]
  },
  {
   "cell_type": "code",
   "execution_count": 23,
   "id": "a39669fe",
   "metadata": {},
   "outputs": [],
   "source": [
    "# calculate the year, month, week, day of week columns for our missing dates\n",
    "missing_dates['year'] = missing_dates['missing_dates'].apply(lambda x: x.year)\n",
    "missing_dates['month'] = missing_dates['missing_dates'].apply(lambda x: x.month)\n",
    "missing_dates['week'] = missing_dates['missing_dates'].apply(lambda x: x.week)\n",
    "missing_dates['dayofweek'] = missing_dates['missing_dates'].apply(lambda x: x.dayofweek)"
   ]
  },
  {
   "cell_type": "code",
   "execution_count": 38,
   "id": "0deeb52e",
   "metadata": {},
   "outputs": [
    {
     "data": {
      "text/plain": [
       "2007    184\n",
       "2008    366\n",
       "2009    339\n",
       "2010    365\n",
       "2011    347\n",
       "2012    366\n",
       "2013    251\n",
       "Name: year, dtype: int64"
      ]
     },
     "execution_count": 38,
     "metadata": {},
     "output_type": "execute_result"
    }
   ],
   "source": [
    "# Checking the value count for missing years\n",
    "missing_dates['year'].value_counts().sort_index()"
   ]
  },
  {
   "cell_type": "markdown",
   "id": "c58758f7",
   "metadata": {},
   "source": [
    "Our training data is missing data from each year. In particular, it looks like it is completely missing data from 2008, 2010, and 2012 as there are at least 365 days of missing dates in each of those years."
   ]
  },
  {
   "cell_type": "markdown",
   "id": "56e8c272",
   "metadata": {},
   "source": [
    "Just to confirm our observations, we can take the value counts from our training data itself.\n"
   ]
  },
  {
   "cell_type": "code",
   "execution_count": 37,
   "id": "4f476241",
   "metadata": {},
   "outputs": [
    {
     "data": {
      "text/plain": [
       "2007    3231\n",
       "2009    2139\n",
       "2011    2000\n",
       "2013    2323\n",
       "Name: year, dtype: int64"
      ]
     },
     "execution_count": 37,
     "metadata": {},
     "output_type": "execute_result"
    }
   ],
   "source": [
    "# checking the value counts for year in our training data\n",
    "train['year'].value_counts().sort_index()"
   ]
  },
  {
   "cell_type": "code",
   "execution_count": 50,
   "id": "cc8f9124",
   "metadata": {},
   "outputs": [
    {
     "data": {
      "text/plain": [
       "2007    2935\n",
       "2009    1957\n",
       "2011    1864\n",
       "2013    2238\n",
       "Name: year, dtype: int64"
      ]
     },
     "execution_count": 50,
     "metadata": {},
     "output_type": "execute_result"
    }
   ],
   "source": [
    "train_left['year'].value_counts().sort_index()"
   ]
  },
  {
   "cell_type": "code",
   "execution_count": 49,
   "id": "e189dcd0",
   "metadata": {},
   "outputs": [
    {
     "data": {
      "text/plain": [
       "[<matplotlib.lines.Line2D at 0x24b0e4c33a0>]"
      ]
     },
     "execution_count": 49,
     "metadata": {},
     "output_type": "execute_result"
    },
    {
     "data": {
      "image/png": "[encoded data removed]",
      "text/plain": [
       "<Figure size 432x288 with 1 Axes>"
      ]
     },
     "metadata": {
      "needs_background": "light"
     },
     "output_type": "display_data"
    }
   ],
   "source": [
    "plt.plot(train['year'].value_counts().sort_index())"
   ]
  },
  {
   "cell_type": "markdown",
   "id": "f63118ce",
   "metadata": {},
   "source": [
    "As we can see, 2008, 2010, and 2012 are completely missing from our training data."
   ]
  },
  {
   "cell_type": "code",
   "execution_count": 42,
   "id": "54f07815",
   "metadata": {
    "scrolled": true
   },
   "outputs": [
    {
     "data": {
      "text/plain": [
       "1     186\n",
       "2     170\n",
       "3     186\n",
       "4     180\n",
       "5     187\n",
       "6     189\n",
       "7     196\n",
       "8     191\n",
       "9     184\n",
       "10    183\n",
       "11    180\n",
       "12    186\n",
       "Name: month, dtype: int64"
      ]
     },
     "execution_count": 42,
     "metadata": {},
     "output_type": "execute_result"
    }
   ],
   "source": [
    "# checking the value count for missing months\n",
    "missing_dates['month'].value_counts().sort_index()"
   ]
  },
  {
   "cell_type": "markdown",
   "id": "7f6d6711",
   "metadata": {},
   "source": [
    "Missing months are roughly evenly distributed."
   ]
  },
  {
   "cell_type": "code",
   "execution_count": 43,
   "id": "95163285",
   "metadata": {},
   "outputs": [
    {
     "data": {
      "text/plain": [
       "5       83\n",
       "6     1487\n",
       "7     2427\n",
       "8     3308\n",
       "9     2112\n",
       "10     276\n",
       "Name: month, dtype: int64"
      ]
     },
     "execution_count": 43,
     "metadata": {},
     "output_type": "execute_result"
    }
   ],
   "source": [
    "# checking the value counts for month in our training data\n",
    "train['month'].value_counts().sort_index()"
   ]
  },
  {
   "cell_type": "code",
   "execution_count": 48,
   "id": "72650c87",
   "metadata": {},
   "outputs": [
    {
     "data": {
      "text/plain": [
       "[<matplotlib.lines.Line2D at 0x24b0e41b760>]"
      ]
     },
     "execution_count": 48,
     "metadata": {},
     "output_type": "execute_result"
    },
    {
     "data": {
      "image/png": "[encoded data removed]",
      "text/plain": [
       "<Figure size 432x288 with 1 Axes>"
      ]
     },
     "metadata": {
      "needs_background": "light"
     },
     "output_type": "display_data"
    }
   ],
   "source": [
    "plt.plot(train['month'].value_counts().sort_index())"
   ]
  },
  {
   "cell_type": "code",
   "execution_count": 51,
   "id": "68be6238",
   "metadata": {},
   "outputs": [
    {
     "data": {
      "text/plain": [
       "5       76\n",
       "6     1395\n",
       "7     2257\n",
       "8     3049\n",
       "9     1958\n",
       "10     259\n",
       "Name: month, dtype: int64"
      ]
     },
     "execution_count": 51,
     "metadata": {},
     "output_type": "execute_result"
    }
   ],
   "source": [
    "train_left['month'].value_counts().sort_index()"
   ]
  },
  {
   "cell_type": "markdown",
   "id": "1202afa8",
   "metadata": {},
   "source": [
    "However, the months in our training data is very much skewed in an almost normal distriubtion, with a far greater sample of August and the tails at March and October."
   ]
  },
  {
   "cell_type": "code",
   "execution_count": 33,
   "id": "efd905ff",
   "metadata": {
    "scrolled": true
   },
   "outputs": [
    {
     "data": {
      "text/plain": [
       "1     42\n",
       "2     42\n",
       "3     42\n",
       "4     42\n",
       "5     42\n",
       "6     42\n",
       "7     42\n",
       "8     42\n",
       "9     42\n",
       "10    42\n",
       "11    42\n",
       "12    42\n",
       "13    42\n",
       "14    42\n",
       "15    42\n",
       "16    42\n",
       "17    42\n",
       "18    42\n",
       "19    42\n",
       "20    42\n",
       "21    42\n",
       "22    46\n",
       "23    43\n",
       "24    46\n",
       "25    45\n",
       "26    42\n",
       "27    47\n",
       "28    42\n",
       "29    44\n",
       "30    43\n",
       "31    42\n",
       "32    43\n",
       "33    43\n",
       "34    44\n",
       "35    43\n",
       "36    44\n",
       "37    45\n",
       "38    43\n",
       "39    41\n",
       "40    40\n",
       "41    41\n",
       "42    42\n",
       "43    42\n",
       "44    42\n",
       "45    42\n",
       "46    42\n",
       "47    42\n",
       "48    42\n",
       "49    42\n",
       "50    42\n",
       "51    42\n",
       "52    42\n",
       "53     7\n",
       "Name: week, dtype: int64"
      ]
     },
     "execution_count": 33,
     "metadata": {},
     "output_type": "execute_result"
    }
   ],
   "source": [
    "# checking the value count for missing weeks\n",
    "missing_dates['week'].value_counts().sort_index()"
   ]
  },
  {
   "cell_type": "markdown",
   "id": "b245c1f8",
   "metadata": {},
   "source": [
    "Missing weeks are roughly evenly distributed, with the only exception to be the 53rd week which would be due to leap years."
   ]
  },
  {
   "cell_type": "code",
   "execution_count": 44,
   "id": "5dd95549",
   "metadata": {},
   "outputs": [
    {
     "data": {
      "text/plain": [
       "22      83\n",
       "23     376\n",
       "24     316\n",
       "25     329\n",
       "26     450\n",
       "27      90\n",
       "28     941\n",
       "29     554\n",
       "30     653\n",
       "31    1087\n",
       "32     678\n",
       "33     700\n",
       "34     724\n",
       "35     434\n",
       "36     378\n",
       "37     524\n",
       "38     646\n",
       "39     454\n",
       "40     250\n",
       "41      26\n",
       "Name: week, dtype: int64"
      ]
     },
     "execution_count": 44,
     "metadata": {},
     "output_type": "execute_result"
    }
   ],
   "source": [
    "# checking the value counts for week in our training data\n",
    "train['week'].value_counts().sort_index()"
   ]
  },
  {
   "cell_type": "code",
   "execution_count": 47,
   "id": "e8c85b8e",
   "metadata": {},
   "outputs": [
    {
     "data": {
      "text/plain": [
       "[<matplotlib.lines.Line2D at 0x24b0e43c070>]"
      ]
     },
     "execution_count": 47,
     "metadata": {},
     "output_type": "execute_result"
    },
    {
     "data": {
      "image/png": "[encoded data removed]",
      "text/plain": [
       "<Figure size 432x288 with 1 Axes>"
      ]
     },
     "metadata": {
      "needs_background": "light"
     },
     "output_type": "display_data"
    }
   ],
   "source": [
    "plt.plot(train['week'].value_counts().sort_index())"
   ]
  },
  {
   "cell_type": "markdown",
   "id": "16902f8c",
   "metadata": {},
   "source": [
    "The training data is highly irregular in terms of weeks. "
   ]
  },
  {
   "cell_type": "code",
   "execution_count": 45,
   "id": "e5957c74",
   "metadata": {},
   "outputs": [
    {
     "data": {
      "text/plain": [
       "0    317\n",
       "1    319\n",
       "2    320\n",
       "3    307\n",
       "4    295\n",
       "5    330\n",
       "6    330\n",
       "Name: dayofweek, dtype: int64"
      ]
     },
     "execution_count": 45,
     "metadata": {},
     "output_type": "execute_result"
    }
   ],
   "source": [
    "# checking the value count for missing days of week\n",
    "missing_dates['dayofweek'].value_counts().sort_index()"
   ]
  },
  {
   "cell_type": "code",
   "execution_count": 46,
   "id": "67699d35",
   "metadata": {},
   "outputs": [
    {
     "data": {
      "text/plain": [
       "0    1210\n",
       "1     983\n",
       "2    1438\n",
       "3    2403\n",
       "4    3659\n",
       "Name: dayofweek, dtype: int64"
      ]
     },
     "execution_count": 46,
     "metadata": {},
     "output_type": "execute_result"
    }
   ],
   "source": [
    "# checking the value counts for days of week in our training data\n",
    "train['dayofweek'].value_counts().sort_index()"
   ]
  },
  {
   "cell_type": "code",
   "execution_count": null,
   "id": "4b663e84",
   "metadata": {},
   "outputs": [],
   "source": []
  }
 ],
 "metadata": {
  "kernelspec": {
   "display_name": "Python 3 (ipykernel)",
   "language": "python",
   "name": "python3"
  },
  "language_info": {
   "codemirror_mode": {
    "name": "ipython",
    "version": 3
   },
   "file_extension": ".py",
   "mimetype": "text/x-python",
   "name": "python",
   "nbconvert_exporter": "python",
   "pygments_lexer": "ipython3",
   "version": "3.9.7"
  }
 },
 "nbformat": 4,
 "nbformat_minor": 5
}
