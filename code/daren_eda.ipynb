{
 "cells": [
  {
   "cell_type": "markdown",
   "id": "ee6f8628",
   "metadata": {},
   "source": [
    "# EDA\n"
   ]
  },
  {
   "cell_type": "markdown",
   "id": "1233f55d",
   "metadata": {},
   "source": [
    "## Table of contents\n",
    "1. [Training Data](#train)\n",
    "2. [Testing Data](#test)\n",
    "3. [Spraying Data](#spray)\n",
    "4. [Weather Data](#weather)\n"
   ]
  },
  {
   "cell_type": "markdown",
   "id": "e70df0f3",
   "metadata": {},
   "source": [
    "## External Research"
   ]
  },
  {
   "cell_type": "markdown",
   "id": "5ec09dda",
   "metadata": {},
   "source": [
    "## Imports\n",
    "---"
   ]
  },
  {
   "cell_type": "code",
   "execution_count": 1,
   "id": "31d64d87",
   "metadata": {},
   "outputs": [],
   "source": [
    "import pandas as pd\n",
    "import numpy as np\n",
    "import matplotlib.pyplot as plt\n",
    "import seaborn as sns\n",
    "import datetime as dt\n",
    "import re\n",
    "import math"
   ]
  },
  {
   "cell_type": "markdown",
   "id": "bc695902",
   "metadata": {},
   "source": [
    "## Training Data<a name=train></a>\n",
    "---"
   ]
  },
  {
   "cell_type": "code",
   "execution_count": 2,
   "id": "07dc0970",
   "metadata": {},
   "outputs": [],
   "source": [
    "train = pd.read_csv('../data/train_clean.csv')"
   ]
  },
  {
   "cell_type": "code",
   "execution_count": 3,
   "id": "9fea5077",
   "metadata": {},
   "outputs": [],
   "source": [
    "# defining a dataframe of training data where the species are \n",
    "train_no_spec_dup = train.drop_duplicates(subset=['date', 'address', 'block', 'street', 'trap',\n",
    "       'addressnumberandstreet', 'latitude', 'longitude', 'addressaccuracy',\n",
    "       'nummosquitos', 'wnvpresent', 'year', 'month', 'week', 'weekday'])"
   ]
  },
  {
   "cell_type": "code",
   "execution_count": 4,
   "id": "99318630",
   "metadata": {
    "scrolled": true
   },
   "outputs": [
    {
     "data": {
      "text/html": [
       "<div>\n",
       "<style scoped>\n",
       "    .dataframe tbody tr th:only-of-type {\n",
       "        vertical-align: middle;\n",
       "    }\n",
       "\n",
       "    .dataframe tbody tr th {\n",
       "        vertical-align: top;\n",
       "    }\n",
       "\n",
       "    .dataframe thead th {\n",
       "        text-align: right;\n",
       "    }\n",
       "</style>\n",
       "<table border=\"1\" class=\"dataframe\">\n",
       "  <thead>\n",
       "    <tr style=\"text-align: right;\">\n",
       "      <th></th>\n",
       "      <th>date</th>\n",
       "      <th>address</th>\n",
       "      <th>species</th>\n",
       "      <th>block</th>\n",
       "      <th>street</th>\n",
       "      <th>trap</th>\n",
       "      <th>addressnumberandstreet</th>\n",
       "      <th>latitude</th>\n",
       "      <th>longitude</th>\n",
       "      <th>addressaccuracy</th>\n",
       "      <th>nummosquitos</th>\n",
       "      <th>wnvpresent</th>\n",
       "      <th>year</th>\n",
       "      <th>month</th>\n",
       "      <th>week</th>\n",
       "      <th>weekday</th>\n",
       "    </tr>\n",
       "  </thead>\n",
       "  <tbody>\n",
       "    <tr>\n",
       "      <th>0</th>\n",
       "      <td>2007-05-29</td>\n",
       "      <td>4100 North Oak Park Avenue, Chicago, IL 60634,...</td>\n",
       "      <td>CULEX PIPIENS/RESTUANS</td>\n",
       "      <td>41</td>\n",
       "      <td>N OAK PARK AVE</td>\n",
       "      <td>T002</td>\n",
       "      <td>4100  N OAK PARK AVE, Chicago, IL</td>\n",
       "      <td>41.954690</td>\n",
       "      <td>-87.800991</td>\n",
       "      <td>9</td>\n",
       "      <td>1</td>\n",
       "      <td>0</td>\n",
       "      <td>2007</td>\n",
       "      <td>5</td>\n",
       "      <td>22</td>\n",
       "      <td>2</td>\n",
       "    </tr>\n",
       "    <tr>\n",
       "      <th>2</th>\n",
       "      <td>2007-05-29</td>\n",
       "      <td>6200 North Mandell Avenue, Chicago, IL 60646, USA</td>\n",
       "      <td>CULEX RESTUANS</td>\n",
       "      <td>62</td>\n",
       "      <td>N MANDELL AVE</td>\n",
       "      <td>T007</td>\n",
       "      <td>6200  N MANDELL AVE, Chicago, IL</td>\n",
       "      <td>41.994991</td>\n",
       "      <td>-87.769279</td>\n",
       "      <td>9</td>\n",
       "      <td>1</td>\n",
       "      <td>0</td>\n",
       "      <td>2007</td>\n",
       "      <td>5</td>\n",
       "      <td>22</td>\n",
       "      <td>2</td>\n",
       "    </tr>\n",
       "    <tr>\n",
       "      <th>3</th>\n",
       "      <td>2007-05-29</td>\n",
       "      <td>7900 West Foster Avenue, Chicago, IL 60656, USA</td>\n",
       "      <td>CULEX PIPIENS/RESTUANS</td>\n",
       "      <td>79</td>\n",
       "      <td>W FOSTER AVE</td>\n",
       "      <td>T015</td>\n",
       "      <td>7900  W FOSTER AVE, Chicago, IL</td>\n",
       "      <td>41.974089</td>\n",
       "      <td>-87.824812</td>\n",
       "      <td>8</td>\n",
       "      <td>1</td>\n",
       "      <td>0</td>\n",
       "      <td>2007</td>\n",
       "      <td>5</td>\n",
       "      <td>22</td>\n",
       "      <td>2</td>\n",
       "    </tr>\n",
       "    <tr>\n",
       "      <th>4</th>\n",
       "      <td>2007-05-29</td>\n",
       "      <td>7900 West Foster Avenue, Chicago, IL 60656, USA</td>\n",
       "      <td>CULEX RESTUANS</td>\n",
       "      <td>79</td>\n",
       "      <td>W FOSTER AVE</td>\n",
       "      <td>T015</td>\n",
       "      <td>7900  W FOSTER AVE, Chicago, IL</td>\n",
       "      <td>41.974089</td>\n",
       "      <td>-87.824812</td>\n",
       "      <td>8</td>\n",
       "      <td>4</td>\n",
       "      <td>0</td>\n",
       "      <td>2007</td>\n",
       "      <td>5</td>\n",
       "      <td>22</td>\n",
       "      <td>2</td>\n",
       "    </tr>\n",
       "    <tr>\n",
       "      <th>5</th>\n",
       "      <td>2007-05-29</td>\n",
       "      <td>1500 West Webster Avenue, Chicago, IL 60614, USA</td>\n",
       "      <td>CULEX RESTUANS</td>\n",
       "      <td>15</td>\n",
       "      <td>W WEBSTER AVE</td>\n",
       "      <td>T045</td>\n",
       "      <td>1500  W WEBSTER AVE, Chicago, IL</td>\n",
       "      <td>41.921600</td>\n",
       "      <td>-87.666455</td>\n",
       "      <td>8</td>\n",
       "      <td>2</td>\n",
       "      <td>0</td>\n",
       "      <td>2007</td>\n",
       "      <td>5</td>\n",
       "      <td>22</td>\n",
       "      <td>2</td>\n",
       "    </tr>\n",
       "    <tr>\n",
       "      <th>...</th>\n",
       "      <td>...</td>\n",
       "      <td>...</td>\n",
       "      <td>...</td>\n",
       "      <td>...</td>\n",
       "      <td>...</td>\n",
       "      <td>...</td>\n",
       "      <td>...</td>\n",
       "      <td>...</td>\n",
       "      <td>...</td>\n",
       "      <td>...</td>\n",
       "      <td>...</td>\n",
       "      <td>...</td>\n",
       "      <td>...</td>\n",
       "      <td>...</td>\n",
       "      <td>...</td>\n",
       "      <td>...</td>\n",
       "    </tr>\n",
       "    <tr>\n",
       "      <th>9688</th>\n",
       "      <td>2013-09-26</td>\n",
       "      <td>5100 West 72nd Street, Chicago, IL 60638, USA</td>\n",
       "      <td>CULEX PIPIENS/RESTUANS</td>\n",
       "      <td>51</td>\n",
       "      <td>W 72ND ST</td>\n",
       "      <td>T035</td>\n",
       "      <td>5100  W 72ND ST, Chicago, IL</td>\n",
       "      <td>41.763733</td>\n",
       "      <td>-87.742302</td>\n",
       "      <td>8</td>\n",
       "      <td>6</td>\n",
       "      <td>1</td>\n",
       "      <td>2013</td>\n",
       "      <td>9</td>\n",
       "      <td>39</td>\n",
       "      <td>4</td>\n",
       "    </tr>\n",
       "    <tr>\n",
       "      <th>9689</th>\n",
       "      <td>2013-09-26</td>\n",
       "      <td>5800 North Ridge Avenue, Chicago, IL 60660, USA</td>\n",
       "      <td>CULEX PIPIENS/RESTUANS</td>\n",
       "      <td>58</td>\n",
       "      <td>N RIDGE AVE</td>\n",
       "      <td>T231</td>\n",
       "      <td>5800  N RIDGE AVE, Chicago, IL</td>\n",
       "      <td>41.987280</td>\n",
       "      <td>-87.666066</td>\n",
       "      <td>8</td>\n",
       "      <td>5</td>\n",
       "      <td>0</td>\n",
       "      <td>2013</td>\n",
       "      <td>9</td>\n",
       "      <td>39</td>\n",
       "      <td>4</td>\n",
       "    </tr>\n",
       "    <tr>\n",
       "      <th>9690</th>\n",
       "      <td>2013-09-26</td>\n",
       "      <td>1700 North Ashland Avenue, Chicago, IL 60622, USA</td>\n",
       "      <td>CULEX PIPIENS/RESTUANS</td>\n",
       "      <td>17</td>\n",
       "      <td>N ASHLAND AVE</td>\n",
       "      <td>T232</td>\n",
       "      <td>1700  N ASHLAND AVE, Chicago, IL</td>\n",
       "      <td>41.912563</td>\n",
       "      <td>-87.668055</td>\n",
       "      <td>9</td>\n",
       "      <td>1</td>\n",
       "      <td>0</td>\n",
       "      <td>2013</td>\n",
       "      <td>9</td>\n",
       "      <td>39</td>\n",
       "      <td>4</td>\n",
       "    </tr>\n",
       "    <tr>\n",
       "      <th>9691</th>\n",
       "      <td>2013-09-26</td>\n",
       "      <td>7100 North Harlem Avenue, Chicago, IL 60631, USA</td>\n",
       "      <td>CULEX PIPIENS/RESTUANS</td>\n",
       "      <td>71</td>\n",
       "      <td>N HARLEM AVE</td>\n",
       "      <td>T233</td>\n",
       "      <td>7100  N HARLEM AVE, Chicago, IL</td>\n",
       "      <td>42.009876</td>\n",
       "      <td>-87.807277</td>\n",
       "      <td>9</td>\n",
       "      <td>5</td>\n",
       "      <td>0</td>\n",
       "      <td>2013</td>\n",
       "      <td>9</td>\n",
       "      <td>39</td>\n",
       "      <td>4</td>\n",
       "    </tr>\n",
       "    <tr>\n",
       "      <th>9692</th>\n",
       "      <td>2013-09-26</td>\n",
       "      <td>4200 West 65th Street, Chicago, IL 60621, USA</td>\n",
       "      <td>CULEX PIPIENS/RESTUANS</td>\n",
       "      <td>42</td>\n",
       "      <td>W 65TH ST</td>\n",
       "      <td>T235</td>\n",
       "      <td>4200  W 65TH ST, Chicago, IL</td>\n",
       "      <td>41.776428</td>\n",
       "      <td>-87.627096</td>\n",
       "      <td>8</td>\n",
       "      <td>1</td>\n",
       "      <td>0</td>\n",
       "      <td>2013</td>\n",
       "      <td>9</td>\n",
       "      <td>39</td>\n",
       "      <td>4</td>\n",
       "    </tr>\n",
       "  </tbody>\n",
       "</table>\n",
       "<p>8994 rows × 16 columns</p>\n",
       "</div>"
      ],
      "text/plain": [
       "            date                                            address  \\\n",
       "0     2007-05-29  4100 North Oak Park Avenue, Chicago, IL 60634,...   \n",
       "2     2007-05-29  6200 North Mandell Avenue, Chicago, IL 60646, USA   \n",
       "3     2007-05-29    7900 West Foster Avenue, Chicago, IL 60656, USA   \n",
       "4     2007-05-29    7900 West Foster Avenue, Chicago, IL 60656, USA   \n",
       "5     2007-05-29   1500 West Webster Avenue, Chicago, IL 60614, USA   \n",
       "...          ...                                                ...   \n",
       "9688  2013-09-26      5100 West 72nd Street, Chicago, IL 60638, USA   \n",
       "9689  2013-09-26    5800 North Ridge Avenue, Chicago, IL 60660, USA   \n",
       "9690  2013-09-26  1700 North Ashland Avenue, Chicago, IL 60622, USA   \n",
       "9691  2013-09-26   7100 North Harlem Avenue, Chicago, IL 60631, USA   \n",
       "9692  2013-09-26      4200 West 65th Street, Chicago, IL 60621, USA   \n",
       "\n",
       "                     species  block           street  trap  \\\n",
       "0     CULEX PIPIENS/RESTUANS     41   N OAK PARK AVE  T002   \n",
       "2             CULEX RESTUANS     62    N MANDELL AVE  T007   \n",
       "3     CULEX PIPIENS/RESTUANS     79     W FOSTER AVE  T015   \n",
       "4             CULEX RESTUANS     79     W FOSTER AVE  T015   \n",
       "5             CULEX RESTUANS     15    W WEBSTER AVE  T045   \n",
       "...                      ...    ...              ...   ...   \n",
       "9688  CULEX PIPIENS/RESTUANS     51        W 72ND ST  T035   \n",
       "9689  CULEX PIPIENS/RESTUANS     58      N RIDGE AVE  T231   \n",
       "9690  CULEX PIPIENS/RESTUANS     17    N ASHLAND AVE  T232   \n",
       "9691  CULEX PIPIENS/RESTUANS     71     N HARLEM AVE  T233   \n",
       "9692  CULEX PIPIENS/RESTUANS     42        W 65TH ST  T235   \n",
       "\n",
       "                 addressnumberandstreet   latitude  longitude  \\\n",
       "0     4100  N OAK PARK AVE, Chicago, IL  41.954690 -87.800991   \n",
       "2      6200  N MANDELL AVE, Chicago, IL  41.994991 -87.769279   \n",
       "3       7900  W FOSTER AVE, Chicago, IL  41.974089 -87.824812   \n",
       "4       7900  W FOSTER AVE, Chicago, IL  41.974089 -87.824812   \n",
       "5      1500  W WEBSTER AVE, Chicago, IL  41.921600 -87.666455   \n",
       "...                                 ...        ...        ...   \n",
       "9688       5100  W 72ND ST, Chicago, IL  41.763733 -87.742302   \n",
       "9689     5800  N RIDGE AVE, Chicago, IL  41.987280 -87.666066   \n",
       "9690   1700  N ASHLAND AVE, Chicago, IL  41.912563 -87.668055   \n",
       "9691    7100  N HARLEM AVE, Chicago, IL  42.009876 -87.807277   \n",
       "9692       4200  W 65TH ST, Chicago, IL  41.776428 -87.627096   \n",
       "\n",
       "      addressaccuracy  nummosquitos  wnvpresent  year  month  week  weekday  \n",
       "0                   9             1           0  2007      5    22        2  \n",
       "2                   9             1           0  2007      5    22        2  \n",
       "3                   8             1           0  2007      5    22        2  \n",
       "4                   8             4           0  2007      5    22        2  \n",
       "5                   8             2           0  2007      5    22        2  \n",
       "...               ...           ...         ...   ...    ...   ...      ...  \n",
       "9688                8             6           1  2013      9    39        4  \n",
       "9689                8             5           0  2013      9    39        4  \n",
       "9690                9             1           0  2013      9    39        4  \n",
       "9691                9             5           0  2013      9    39        4  \n",
       "9692                8             1           0  2013      9    39        4  \n",
       "\n",
       "[8994 rows x 16 columns]"
      ]
     },
     "execution_count": 4,
     "metadata": {},
     "output_type": "execute_result"
    }
   ],
   "source": [
    "train_no_spec_dup"
   ]
  },
  {
   "cell_type": "code",
   "execution_count": 5,
   "id": "9e339ad9",
   "metadata": {},
   "outputs": [
    {
     "data": {
      "text/plain": [
       "[<matplotlib.lines.Line2D at 0x2dc847170d0>]"
      ]
     },
     "execution_count": 5,
     "metadata": {},
     "output_type": "execute_result"
    },
    {
     "data": {
      "image/png": "[encoded data removed]",
      "text/plain": [
       "<Figure size 432x288 with 1 Axes>"
      ]
     },
     "metadata": {
      "needs_background": "light"
     },
     "output_type": "display_data"
    }
   ],
   "source": [
    "plt.plot(train['nummosquitos'].rolling(28).mean())"
   ]
  },
  {
   "cell_type": "markdown",
   "id": "2cf4b81a",
   "metadata": {},
   "source": [
    "### `date`, (`year`, `month`, `week`, `dayofweek`)"
   ]
  },
  {
   "cell_type": "code",
   "execution_count": 6,
   "id": "82c68112",
   "metadata": {},
   "outputs": [],
   "source": [
    "# check to see if there are missing dates\n",
    "missing_dates = pd.date_range(start = train_no_spec_dup['date'][0], end = train_no_spec_dup['date'][9692] ).difference(train['date'])"
   ]
  },
  {
   "cell_type": "code",
   "execution_count": 7,
   "id": "875cc7f0",
   "metadata": {},
   "outputs": [],
   "source": [
    "# make the values into a dataframe\n",
    "missing_dates = pd.DataFrame(missing_dates, columns=['missing_dates'])"
   ]
  },
  {
   "cell_type": "code",
   "execution_count": 8,
   "id": "11cefcae",
   "metadata": {},
   "outputs": [],
   "source": [
    "# calculate the year, month, week, day of week columns for our missing dates\n",
    "missing_dates['year'] = missing_dates['missing_dates'].apply(lambda x: x.year)\n",
    "missing_dates['month'] = missing_dates['missing_dates'].apply(lambda x: x.month)\n",
    "missing_dates['week'] = missing_dates['missing_dates'].apply(lambda x: x.week)\n",
    "missing_dates['weekday'] = missing_dates['missing_dates'].apply(dt.date.isoweekday)"
   ]
  },
  {
   "cell_type": "code",
   "execution_count": 9,
   "id": "0df436b1",
   "metadata": {},
   "outputs": [
    {
     "data": {
      "text/plain": [
       "2007    184\n",
       "2008    366\n",
       "2009    339\n",
       "2010    365\n",
       "2011    347\n",
       "2012    366\n",
       "2013    251\n",
       "Name: year, dtype: int64"
      ]
     },
     "execution_count": 9,
     "metadata": {},
     "output_type": "execute_result"
    }
   ],
   "source": [
    "# Checking the value count for missing years\n",
    "missing_dates['year'].value_counts().sort_index()"
   ]
  },
  {
   "cell_type": "markdown",
   "id": "5f647a78",
   "metadata": {},
   "source": [
    "Our training data is missing data from each year. In particular, it looks like it is completely missing data from 2008, 2010, and 2012 as there are at least 365 days of missing dates in each of those years."
   ]
  },
  {
   "cell_type": "markdown",
   "id": "2e614993",
   "metadata": {},
   "source": [
    "Just to confirm our observations, we can take the value counts from our training data itself.\n"
   ]
  },
  {
   "cell_type": "code",
   "execution_count": 10,
   "id": "e8c83c95",
   "metadata": {},
   "outputs": [
    {
     "data": {
      "text/plain": [
       "2007    2935\n",
       "2009    1957\n",
       "2011    1864\n",
       "2013    2238\n",
       "Name: year, dtype: int64"
      ]
     },
     "execution_count": 10,
     "metadata": {},
     "output_type": "execute_result"
    }
   ],
   "source": [
    "# checking the value counts for year in our training data\n",
    "train_no_spec_dup['year'].value_counts().sort_index()"
   ]
  },
  {
   "cell_type": "code",
   "execution_count": 173,
   "id": "6755d1fb",
   "metadata": {},
   "outputs": [
    {
     "data": {
      "text/plain": [
       "date                      503\n",
       "address                   503\n",
       "species                   503\n",
       "block                     503\n",
       "street                    503\n",
       "trap                      503\n",
       "addressnumberandstreet    503\n",
       "latitude                  503\n",
       "longitude                 503\n",
       "addressaccuracy           503\n",
       "nummosquitos              503\n",
       "wnvpresent                503\n",
       "year                      503\n",
       "month                     503\n",
       "week                      503\n",
       "weekday                   503\n",
       "dtype: int64"
      ]
     },
     "execution_count": 173,
     "metadata": {},
     "output_type": "execute_result"
    }
   ],
   "source": [
    "train[train['wnvpresent']==1].count()"
   ]
  },
  {
   "cell_type": "code",
   "execution_count": 170,
   "id": "e2f824aa",
   "metadata": {},
   "outputs": [
    {
     "data": {
      "text/plain": [
       "192"
      ]
     },
     "execution_count": 170,
     "metadata": {},
     "output_type": "execute_result"
    }
   ],
   "source": [
    "# finding percdnt\n",
    "train_no_spec_dup[(train_no_spec_dup['year']==2007) & (train_no_spec_dup['wnvpresent'] == 1)].shape[0]"
   ]
  },
  {
   "cell_type": "code",
   "execution_count": 91,
   "id": "180345cd",
   "metadata": {},
   "outputs": [
    {
     "data": {
      "text/plain": [
       "Text(0, 0.5, 'Number of Date Occurrences in Training Data')"
      ]
     },
     "execution_count": 91,
     "metadata": {},
     "output_type": "execute_result"
    },
    {
     "data": {
      "image/png": "[encoded data removed]",
      "text/plain": [
       "<Figure size 432x288 with 1 Axes>"
      ]
     },
     "metadata": {
      "needs_background": "light"
     },
     "output_type": "display_data"
    }
   ],
   "source": [
    "plt.tight_layout()\n",
    "plt.bar(train_no_spec_dup['year'].value_counts().sort_index().index,\n",
    "        train_no_spec_dup['year'].value_counts().sort_index())\n",
    "\n",
    "plt.xlabel('Year', labelpad=10, fontsize=12)\n",
    "plt.xticks(ticks=train_no_spec_dup['year'].value_counts().sort_index().index, \n",
    "           labels=['2007', '2009', '2011', '2013',])\n",
    "plt.ylabel('Number of Date Occurrences in Training Data', fontsize=12)"
   ]
  },
  {
   "cell_type": "markdown",
   "id": "33683b78",
   "metadata": {},
   "source": [
    "As we can see, 2008, 2010, and 2012 are completely missing from our training data."
   ]
  },
  {
   "cell_type": "code",
   "execution_count": 12,
   "id": "0367249a",
   "metadata": {
    "scrolled": true
   },
   "outputs": [
    {
     "data": {
      "text/plain": [
       "1     186\n",
       "2     170\n",
       "3     186\n",
       "4     180\n",
       "5     187\n",
       "6     189\n",
       "7     196\n",
       "8     191\n",
       "9     184\n",
       "10    183\n",
       "11    180\n",
       "12    186\n",
       "Name: month, dtype: int64"
      ]
     },
     "execution_count": 12,
     "metadata": {},
     "output_type": "execute_result"
    }
   ],
   "source": [
    "# checking the value count for missing months\n",
    "missing_dates['month'].value_counts().sort_index()"
   ]
  },
  {
   "cell_type": "markdown",
   "id": "f171b4f7",
   "metadata": {},
   "source": [
    "Missing months are roughly evenly distributed."
   ]
  },
  {
   "cell_type": "code",
   "execution_count": 13,
   "id": "6df0d281",
   "metadata": {
    "scrolled": true
   },
   "outputs": [
    {
     "data": {
      "text/plain": [
       "5       76\n",
       "6     1395\n",
       "7     2257\n",
       "8     3049\n",
       "9     1958\n",
       "10     259\n",
       "Name: month, dtype: int64"
      ]
     },
     "execution_count": 13,
     "metadata": {},
     "output_type": "execute_result"
    }
   ],
   "source": [
    "# checking the value counts for month in our training data\n",
    "train_no_spec_dup['month'].value_counts().sort_index()"
   ]
  },
  {
   "cell_type": "code",
   "execution_count": 92,
   "id": "d1d62e29",
   "metadata": {},
   "outputs": [
    {
     "data": {
      "text/plain": [
       "Text(0, 0.5, 'Number of Date Occurrences in Training Data')"
      ]
     },
     "execution_count": 92,
     "metadata": {},
     "output_type": "execute_result"
    },
    {
     "data": {
      "image/png": "[encoded data removed]",
      "text/plain": [
       "<Figure size 432x288 with 1 Axes>"
      ]
     },
     "metadata": {
      "needs_background": "light"
     },
     "output_type": "display_data"
    }
   ],
   "source": [
    "plt.tight_layout()\n",
    "plt.bar(train_no_spec_dup['month'].value_counts().sort_index().index,\n",
    "        train_no_spec_dup['month'].value_counts().sort_index())\n",
    "plt.xlabel('Month', labelpad=10, fontsize=12)\n",
    "plt.xticks(ticks=train_no_spec_dup['month'].value_counts().sort_index().index, \n",
    "           labels=['May', 'June', 'July', 'August', 'September', 'October',])\n",
    "plt.ylabel('Number of Date Occurrences in Training Data', fontsize=12)"
   ]
  },
  {
   "cell_type": "markdown",
   "id": "01649983",
   "metadata": {},
   "source": [
    "However, the months in our training data is very much skewed in an almost normal distriubtion, with a far greater sample of August and the tail ends at May and October. This are the Summer and Autumn months for Chicago, presumably because there are few to no mosquitoes in Spring and Winter. But this means we have no data for Spring and Winter months."
   ]
  },
  {
   "cell_type": "code",
   "execution_count": 15,
   "id": "b5f5aba9",
   "metadata": {
    "scrolled": true
   },
   "outputs": [
    {
     "data": {
      "text/plain": [
       "1     42\n",
       "2     42\n",
       "3     42\n",
       "4     42\n",
       "5     42\n",
       "6     42\n",
       "7     42\n",
       "8     42\n",
       "9     42\n",
       "10    42\n",
       "11    42\n",
       "12    42\n",
       "13    42\n",
       "14    42\n",
       "15    42\n",
       "16    42\n",
       "17    42\n",
       "18    42\n",
       "19    42\n",
       "20    42\n",
       "21    42\n",
       "22    46\n",
       "23    43\n",
       "24    46\n",
       "25    45\n",
       "26    42\n",
       "27    47\n",
       "28    42\n",
       "29    44\n",
       "30    43\n",
       "31    42\n",
       "32    43\n",
       "33    43\n",
       "34    44\n",
       "35    43\n",
       "36    44\n",
       "37    45\n",
       "38    43\n",
       "39    41\n",
       "40    40\n",
       "41    41\n",
       "42    42\n",
       "43    42\n",
       "44    42\n",
       "45    42\n",
       "46    42\n",
       "47    42\n",
       "48    42\n",
       "49    42\n",
       "50    42\n",
       "51    42\n",
       "52    42\n",
       "53     7\n",
       "Name: week, dtype: int64"
      ]
     },
     "execution_count": 15,
     "metadata": {},
     "output_type": "execute_result"
    }
   ],
   "source": [
    "# checking the value count for missing weeks\n",
    "missing_dates['week'].value_counts().sort_index()"
   ]
  },
  {
   "cell_type": "markdown",
   "id": "17d4f42d",
   "metadata": {},
   "source": [
    "Missing weeks are roughly evenly distributed, with the only exception to be the 53rd week which would be due to leap years."
   ]
  },
  {
   "cell_type": "code",
   "execution_count": 16,
   "id": "dcee1201",
   "metadata": {},
   "outputs": [
    {
     "data": {
      "text/plain": [
       "22     76\n",
       "23    348\n",
       "24    299\n",
       "25    311\n",
       "26    421\n",
       "27     84\n",
       "28    896\n",
       "29    504\n",
       "30    605\n",
       "31    964\n",
       "32    636\n",
       "33    643\n",
       "34    683\n",
       "35    410\n",
       "36    348\n",
       "37    490\n",
       "38    593\n",
       "39    424\n",
       "40    234\n",
       "41     25\n",
       "Name: week, dtype: int64"
      ]
     },
     "execution_count": 16,
     "metadata": {},
     "output_type": "execute_result"
    }
   ],
   "source": [
    "# checking the value counts for week in our training data\n",
    "train_no_spec_dup['week'].value_counts().sort_index()"
   ]
  },
  {
   "cell_type": "code",
   "execution_count": 98,
   "id": "da436875",
   "metadata": {},
   "outputs": [
    {
     "data": {
      "text/plain": [
       "Text(0, 0.5, 'Number of Date Occurrences in Training Data')"
      ]
     },
     "execution_count": 98,
     "metadata": {},
     "output_type": "execute_result"
    },
    {
     "data": {
      "image/png": "[encoded data removed]",
      "text/plain": [
       "<Figure size 432x288 with 1 Axes>"
      ]
     },
     "metadata": {
      "needs_background": "light"
     },
     "output_type": "display_data"
    }
   ],
   "source": [
    "plt.tight_layout()\n",
    "plt.bar(train_no_spec_dup['week'].value_counts().sort_index().index,\n",
    "        train_no_spec_dup['week'].value_counts().sort_index())\n",
    "plt.xlabel('Week Beginning', labelpad=10, fontsize=12)\n",
    "plt.xticks(ticks=train_no_spec_dup['week'].value_counts().sort_index().index, \n",
    "           labels=['30/05', '06/06', '13/06', '20/06', '27/06', '04/07', '11/07', '18/07', '25/07', '01/08', '08/08', \n",
    "                   '15/08', '22/08', '29/08', '05/09', '12/09', '19/09', '26/09', '03/10', '10/10'], rotation=42)\n",
    "plt.ylabel('Number of Date Occurrences in Training Data', fontsize=12)"
   ]
  },
  {
   "cell_type": "markdown",
   "id": "01a5479e",
   "metadata": {},
   "source": [
    "The training data is highly irregular in terms of weeks. It only encompasses the last week of May (22nd week of the year) to the 1st week of October (41st week of the year). These number also correlate with the month value counts, as May and October are the months that occur most infrequently."
   ]
  },
  {
   "cell_type": "code",
   "execution_count": 18,
   "id": "5d77eca5",
   "metadata": {
    "scrolled": true
   },
   "outputs": [
    {
     "data": {
      "text/plain": [
       "1    317\n",
       "2    319\n",
       "3    320\n",
       "4    307\n",
       "5    295\n",
       "6    330\n",
       "7    330\n",
       "Name: weekday, dtype: int64"
      ]
     },
     "execution_count": 18,
     "metadata": {},
     "output_type": "execute_result"
    }
   ],
   "source": [
    "# checking the value count for missing days of week\n",
    "missing_dates['weekday'].value_counts().sort_index()"
   ]
  },
  {
   "cell_type": "markdown",
   "id": "a6bbc47b",
   "metadata": {},
   "source": [
    "Missing weekdays are roughly evenly distributed"
   ]
  },
  {
   "cell_type": "code",
   "execution_count": 19,
   "id": "a91bf94b",
   "metadata": {},
   "outputs": [
    {
     "data": {
      "text/plain": [
       "1    1129\n",
       "2     910\n",
       "3    1274\n",
       "4    2255\n",
       "5    3426\n",
       "Name: weekday, dtype: int64"
      ]
     },
     "execution_count": 19,
     "metadata": {},
     "output_type": "execute_result"
    }
   ],
   "source": [
    "# checking the value counts for days of week in our training data\n",
    "train_no_spec_dup['weekday'].value_counts().sort_index()"
   ]
  },
  {
   "cell_type": "code",
   "execution_count": 101,
   "id": "ca80f9e0",
   "metadata": {},
   "outputs": [
    {
     "data": {
      "text/plain": [
       "Text(0, 0.5, 'Number of Date Occurrences in Training Data')"
      ]
     },
     "execution_count": 101,
     "metadata": {},
     "output_type": "execute_result"
    },
    {
     "data": {
      "image/png": "[encoded data removed]",
      "text/plain": [
       "<Figure size 432x288 with 1 Axes>"
      ]
     },
     "metadata": {
      "needs_background": "light"
     },
     "output_type": "display_data"
    }
   ],
   "source": [
    "plt.tight_layout()\n",
    "plt.bar(train_no_spec_dup['weekday'].value_counts().sort_index().index,\n",
    "        train_no_spec_dup['weekday'].value_counts().sort_index())\n",
    "plt.xlabel('Day of Week', labelpad=10, fontsize=12)\n",
    "plt.xticks(ticks=train_no_spec_dup['weekday'].value_counts().sort_index().index, \n",
    "           labels=['Monday', 'Tuesday', 'Wednesday', 'Thursday', 'Friday'],)\n",
    "plt.ylabel('Number of Date Occurrences in Training Data', fontsize=12)"
   ]
  },
  {
   "cell_type": "markdown",
   "id": "59627716",
   "metadata": {},
   "source": [
    "Training data only has weekdays, with aTuesday being the least frequent occurrence and Friday being the most frequent occurrence "
   ]
  },
  {
   "cell_type": "markdown",
   "id": "85da067c",
   "metadata": {},
   "source": [
    "## Testing Data<a name=test></a>\n",
    "---"
   ]
  },
  {
   "cell_type": "code",
   "execution_count": 134,
   "id": "91c495ad",
   "metadata": {},
   "outputs": [],
   "source": [
    "test = pd.read_csv('../data/test_clean.csv')"
   ]
  },
  {
   "cell_type": "markdown",
   "id": "df2d4e3f",
   "metadata": {},
   "source": [
    "### `year`"
   ]
  },
  {
   "cell_type": "code",
   "execution_count": 150,
   "id": "b2cea17a",
   "metadata": {},
   "outputs": [
    {
     "data": {
      "text/plain": [
       "2007    3231\n",
       "2009    2139\n",
       "2011    2000\n",
       "2013    2323\n",
       "Name: year, dtype: int64"
      ]
     },
     "execution_count": 150,
     "metadata": {},
     "output_type": "execute_result"
    }
   ],
   "source": [
    "train['year'].value_counts().sort_index()"
   ]
  },
  {
   "cell_type": "code",
   "execution_count": 151,
   "id": "5c0c3106",
   "metadata": {
    "scrolled": true
   },
   "outputs": [
    {
     "data": {
      "text/plain": [
       "2008    30498\n",
       "2010    36557\n",
       "2012    27115\n",
       "2014    22123\n",
       "Name: year, dtype: int64"
      ]
     },
     "execution_count": 151,
     "metadata": {},
     "output_type": "execute_result"
    }
   ],
   "source": [
    "test['year'].value_counts().sort_index()"
   ]
  },
  {
   "cell_type": "markdown",
   "id": "dea5c5b3",
   "metadata": {},
   "source": [
    "### `month`"
   ]
  },
  {
   "cell_type": "code",
   "execution_count": 152,
   "id": "4d7673a4",
   "metadata": {},
   "outputs": [
    {
     "data": {
      "text/plain": [
       "5       83\n",
       "6     1487\n",
       "7     2427\n",
       "8     3308\n",
       "9     2112\n",
       "10     276\n",
       "Name: month, dtype: int64"
      ]
     },
     "execution_count": 152,
     "metadata": {},
     "output_type": "execute_result"
    }
   ],
   "source": [
    "train['month'].value_counts().sort_index()"
   ]
  },
  {
   "cell_type": "code",
   "execution_count": 153,
   "id": "a3c18bb2",
   "metadata": {
    "scrolled": true
   },
   "outputs": [
    {
     "data": {
      "text/plain": [
       "6     19478\n",
       "7     35665\n",
       "8     33115\n",
       "9     25612\n",
       "10     2423\n",
       "Name: month, dtype: int64"
      ]
     },
     "execution_count": 153,
     "metadata": {},
     "output_type": "execute_result"
    }
   ],
   "source": [
    "test['month'].value_counts().sort_index()"
   ]
  },
  {
   "cell_type": "markdown",
   "id": "819f9880",
   "metadata": {},
   "source": [
    "### `week`"
   ]
  },
  {
   "cell_type": "code",
   "execution_count": 154,
   "id": "6253918c",
   "metadata": {},
   "outputs": [
    {
     "data": {
      "text/plain": [
       "22      83\n",
       "23     376\n",
       "24     316\n",
       "25     329\n",
       "26     450\n",
       "27      90\n",
       "28     941\n",
       "29     554\n",
       "30     653\n",
       "31    1087\n",
       "32     678\n",
       "33     700\n",
       "34     724\n",
       "35     434\n",
       "36     378\n",
       "37     524\n",
       "38     646\n",
       "39     454\n",
       "40     250\n",
       "41      26\n",
       "Name: week, dtype: int64"
      ]
     },
     "execution_count": 154,
     "metadata": {},
     "output_type": "execute_result"
    }
   ],
   "source": [
    "train['week'].value_counts().sort_index()"
   ]
  },
  {
   "cell_type": "code",
   "execution_count": 155,
   "id": "42d29061",
   "metadata": {
    "scrolled": true
   },
   "outputs": [
    {
     "data": {
      "text/plain": [
       "22    1212\n",
       "23    3642\n",
       "24    4856\n",
       "25    4876\n",
       "26    7321\n",
       "27    3649\n",
       "28    8686\n",
       "29    7405\n",
       "30    9819\n",
       "31    7392\n",
       "32    7346\n",
       "33    8580\n",
       "34    7360\n",
       "35    7331\n",
       "36    4899\n",
       "37    8563\n",
       "38    7284\n",
       "39    3648\n",
       "40    2424\n",
       "Name: week, dtype: int64"
      ]
     },
     "execution_count": 155,
     "metadata": {},
     "output_type": "execute_result"
    }
   ],
   "source": [
    "test['week'].value_counts().sort_index()"
   ]
  },
  {
   "cell_type": "markdown",
   "id": "eca13cf1",
   "metadata": {},
   "source": [
    "### `weekday`"
   ]
  },
  {
   "cell_type": "code",
   "execution_count": 156,
   "id": "433231c8",
   "metadata": {},
   "outputs": [
    {
     "data": {
      "text/plain": [
       "1    1210\n",
       "2     983\n",
       "3    1438\n",
       "4    2403\n",
       "5    3659\n",
       "Name: weekday, dtype: int64"
      ]
     },
     "execution_count": 156,
     "metadata": {},
     "output_type": "execute_result"
    }
   ],
   "source": [
    "train['weekday'].value_counts().sort_index()"
   ]
  },
  {
   "cell_type": "code",
   "execution_count": 157,
   "id": "ed748e16",
   "metadata": {
    "scrolled": true
   },
   "outputs": [
    {
     "data": {
      "text/plain": [
       "1    17159\n",
       "2    13521\n",
       "3     6081\n",
       "4    41568\n",
       "5    37964\n",
       "Name: weekday, dtype: int64"
      ]
     },
     "execution_count": 157,
     "metadata": {},
     "output_type": "execute_result"
    }
   ],
   "source": [
    "test['weekday'].value_counts().sort_index()"
   ]
  },
  {
   "cell_type": "code",
   "execution_count": null,
   "id": "a3e2557d",
   "metadata": {},
   "outputs": [],
   "source": []
  },
  {
   "cell_type": "code",
   "execution_count": null,
   "id": "ccb8ec70",
   "metadata": {},
   "outputs": [],
   "source": []
  },
  {
   "cell_type": "markdown",
   "id": "5f3d85b6",
   "metadata": {},
   "source": [
    "## Spraying Data<a name=spray></a>\n",
    "---"
   ]
  },
  {
   "cell_type": "code",
   "execution_count": null,
   "id": "cf273539",
   "metadata": {},
   "outputs": [],
   "source": []
  },
  {
   "cell_type": "code",
   "execution_count": 21,
   "id": "8a5d3129",
   "metadata": {},
   "outputs": [],
   "source": [
    "# reading in the spraying data\n",
    "spray = pd.read_csv('../data/spray_clean.csv')"
   ]
  },
  {
   "cell_type": "code",
   "execution_count": 103,
   "id": "c1d08ad9",
   "metadata": {},
   "outputs": [
    {
     "data": {
      "text/html": [
       "<div>\n",
       "<style scoped>\n",
       "    .dataframe tbody tr th:only-of-type {\n",
       "        vertical-align: middle;\n",
       "    }\n",
       "\n",
       "    .dataframe tbody tr th {\n",
       "        vertical-align: top;\n",
       "    }\n",
       "\n",
       "    .dataframe thead th {\n",
       "        text-align: right;\n",
       "    }\n",
       "</style>\n",
       "<table border=\"1\" class=\"dataframe\">\n",
       "  <thead>\n",
       "    <tr style=\"text-align: right;\">\n",
       "      <th></th>\n",
       "      <th>date</th>\n",
       "      <th>latitude</th>\n",
       "      <th>longitude</th>\n",
       "      <th>year</th>\n",
       "      <th>month</th>\n",
       "      <th>week</th>\n",
       "      <th>weekday</th>\n",
       "    </tr>\n",
       "  </thead>\n",
       "  <tbody>\n",
       "    <tr>\n",
       "      <th>0</th>\n",
       "      <td>2011-08-29</td>\n",
       "      <td>42.391623</td>\n",
       "      <td>-88.089163</td>\n",
       "      <td>2011</td>\n",
       "      <td>8</td>\n",
       "      <td>35</td>\n",
       "      <td>1</td>\n",
       "    </tr>\n",
       "    <tr>\n",
       "      <th>1</th>\n",
       "      <td>2011-08-29</td>\n",
       "      <td>42.391348</td>\n",
       "      <td>-88.089163</td>\n",
       "      <td>2011</td>\n",
       "      <td>8</td>\n",
       "      <td>35</td>\n",
       "      <td>1</td>\n",
       "    </tr>\n",
       "    <tr>\n",
       "      <th>2</th>\n",
       "      <td>2011-08-29</td>\n",
       "      <td>42.391022</td>\n",
       "      <td>-88.089157</td>\n",
       "      <td>2011</td>\n",
       "      <td>8</td>\n",
       "      <td>35</td>\n",
       "      <td>1</td>\n",
       "    </tr>\n",
       "    <tr>\n",
       "      <th>3</th>\n",
       "      <td>2011-08-29</td>\n",
       "      <td>42.390637</td>\n",
       "      <td>-88.089158</td>\n",
       "      <td>2011</td>\n",
       "      <td>8</td>\n",
       "      <td>35</td>\n",
       "      <td>1</td>\n",
       "    </tr>\n",
       "    <tr>\n",
       "      <th>4</th>\n",
       "      <td>2011-08-29</td>\n",
       "      <td>42.390410</td>\n",
       "      <td>-88.088858</td>\n",
       "      <td>2011</td>\n",
       "      <td>8</td>\n",
       "      <td>35</td>\n",
       "      <td>1</td>\n",
       "    </tr>\n",
       "    <tr>\n",
       "      <th>...</th>\n",
       "      <td>...</td>\n",
       "      <td>...</td>\n",
       "      <td>...</td>\n",
       "      <td>...</td>\n",
       "      <td>...</td>\n",
       "      <td>...</td>\n",
       "      <td>...</td>\n",
       "    </tr>\n",
       "    <tr>\n",
       "      <th>14289</th>\n",
       "      <td>2013-09-05</td>\n",
       "      <td>42.006587</td>\n",
       "      <td>-87.812355</td>\n",
       "      <td>2013</td>\n",
       "      <td>9</td>\n",
       "      <td>36</td>\n",
       "      <td>4</td>\n",
       "    </tr>\n",
       "    <tr>\n",
       "      <th>14290</th>\n",
       "      <td>2013-09-05</td>\n",
       "      <td>42.006192</td>\n",
       "      <td>-87.816015</td>\n",
       "      <td>2013</td>\n",
       "      <td>9</td>\n",
       "      <td>36</td>\n",
       "      <td>4</td>\n",
       "    </tr>\n",
       "    <tr>\n",
       "      <th>14291</th>\n",
       "      <td>2013-09-05</td>\n",
       "      <td>42.006022</td>\n",
       "      <td>-87.817392</td>\n",
       "      <td>2013</td>\n",
       "      <td>9</td>\n",
       "      <td>36</td>\n",
       "      <td>4</td>\n",
       "    </tr>\n",
       "    <tr>\n",
       "      <th>14292</th>\n",
       "      <td>2013-09-05</td>\n",
       "      <td>42.005453</td>\n",
       "      <td>-87.817423</td>\n",
       "      <td>2013</td>\n",
       "      <td>9</td>\n",
       "      <td>36</td>\n",
       "      <td>4</td>\n",
       "    </tr>\n",
       "    <tr>\n",
       "      <th>14293</th>\n",
       "      <td>2013-09-05</td>\n",
       "      <td>42.004805</td>\n",
       "      <td>-87.817460</td>\n",
       "      <td>2013</td>\n",
       "      <td>9</td>\n",
       "      <td>36</td>\n",
       "      <td>4</td>\n",
       "    </tr>\n",
       "  </tbody>\n",
       "</table>\n",
       "<p>14294 rows × 7 columns</p>\n",
       "</div>"
      ],
      "text/plain": [
       "             date   latitude  longitude  year  month  week  weekday\n",
       "0      2011-08-29  42.391623 -88.089163  2011      8    35        1\n",
       "1      2011-08-29  42.391348 -88.089163  2011      8    35        1\n",
       "2      2011-08-29  42.391022 -88.089157  2011      8    35        1\n",
       "3      2011-08-29  42.390637 -88.089158  2011      8    35        1\n",
       "4      2011-08-29  42.390410 -88.088858  2011      8    35        1\n",
       "...           ...        ...        ...   ...    ...   ...      ...\n",
       "14289  2013-09-05  42.006587 -87.812355  2013      9    36        4\n",
       "14290  2013-09-05  42.006192 -87.816015  2013      9    36        4\n",
       "14291  2013-09-05  42.006022 -87.817392  2013      9    36        4\n",
       "14292  2013-09-05  42.005453 -87.817423  2013      9    36        4\n",
       "14293  2013-09-05  42.004805 -87.817460  2013      9    36        4\n",
       "\n",
       "[14294 rows x 7 columns]"
      ]
     },
     "execution_count": 103,
     "metadata": {},
     "output_type": "execute_result"
    }
   ],
   "source": [
    "spray"
   ]
  },
  {
   "cell_type": "code",
   "execution_count": 104,
   "id": "b7203fee",
   "metadata": {},
   "outputs": [],
   "source": [
    "spray_no_loc_dup = spray.drop_duplicates(subset=['date', 'year', 'month', 'week', 'weekday'])"
   ]
  },
  {
   "cell_type": "code",
   "execution_count": 108,
   "id": "152502d8",
   "metadata": {},
   "outputs": [
    {
     "data": {
      "text/html": [
       "<div>\n",
       "<style scoped>\n",
       "    .dataframe tbody tr th:only-of-type {\n",
       "        vertical-align: middle;\n",
       "    }\n",
       "\n",
       "    .dataframe tbody tr th {\n",
       "        vertical-align: top;\n",
       "    }\n",
       "\n",
       "    .dataframe thead th {\n",
       "        text-align: right;\n",
       "    }\n",
       "</style>\n",
       "<table border=\"1\" class=\"dataframe\">\n",
       "  <thead>\n",
       "    <tr style=\"text-align: right;\">\n",
       "      <th></th>\n",
       "      <th>date</th>\n",
       "      <th>latitude</th>\n",
       "      <th>longitude</th>\n",
       "      <th>year</th>\n",
       "      <th>month</th>\n",
       "      <th>week</th>\n",
       "      <th>weekday</th>\n",
       "    </tr>\n",
       "  </thead>\n",
       "  <tbody>\n",
       "    <tr>\n",
       "      <th>0</th>\n",
       "      <td>2011-08-29</td>\n",
       "      <td>42.391623</td>\n",
       "      <td>-88.089163</td>\n",
       "      <td>2011</td>\n",
       "      <td>8</td>\n",
       "      <td>35</td>\n",
       "      <td>1</td>\n",
       "    </tr>\n",
       "    <tr>\n",
       "      <th>95</th>\n",
       "      <td>2011-09-07</td>\n",
       "      <td>41.981433</td>\n",
       "      <td>-87.787777</td>\n",
       "      <td>2011</td>\n",
       "      <td>9</td>\n",
       "      <td>36</td>\n",
       "      <td>3</td>\n",
       "    </tr>\n",
       "    <tr>\n",
       "      <th>1668</th>\n",
       "      <td>2013-07-17</td>\n",
       "      <td>41.997728</td>\n",
       "      <td>-87.767532</td>\n",
       "      <td>2013</td>\n",
       "      <td>7</td>\n",
       "      <td>29</td>\n",
       "      <td>3</td>\n",
       "    </tr>\n",
       "    <tr>\n",
       "      <th>3870</th>\n",
       "      <td>2013-07-25</td>\n",
       "      <td>41.960520</td>\n",
       "      <td>-87.739783</td>\n",
       "      <td>2013</td>\n",
       "      <td>7</td>\n",
       "      <td>30</td>\n",
       "      <td>4</td>\n",
       "    </tr>\n",
       "    <tr>\n",
       "      <th>5477</th>\n",
       "      <td>2013-08-08</td>\n",
       "      <td>41.919128</td>\n",
       "      <td>-87.696737</td>\n",
       "      <td>2013</td>\n",
       "      <td>8</td>\n",
       "      <td>32</td>\n",
       "      <td>4</td>\n",
       "    </tr>\n",
       "    <tr>\n",
       "      <th>6672</th>\n",
       "      <td>2013-08-15</td>\n",
       "      <td>41.944718</td>\n",
       "      <td>-87.808187</td>\n",
       "      <td>2013</td>\n",
       "      <td>8</td>\n",
       "      <td>33</td>\n",
       "      <td>4</td>\n",
       "    </tr>\n",
       "    <tr>\n",
       "      <th>9340</th>\n",
       "      <td>2013-08-16</td>\n",
       "      <td>41.960033</td>\n",
       "      <td>-87.785495</td>\n",
       "      <td>2013</td>\n",
       "      <td>8</td>\n",
       "      <td>33</td>\n",
       "      <td>5</td>\n",
       "    </tr>\n",
       "    <tr>\n",
       "      <th>9481</th>\n",
       "      <td>2013-08-22</td>\n",
       "      <td>41.885083</td>\n",
       "      <td>-87.719797</td>\n",
       "      <td>2013</td>\n",
       "      <td>8</td>\n",
       "      <td>34</td>\n",
       "      <td>4</td>\n",
       "    </tr>\n",
       "    <tr>\n",
       "      <th>11068</th>\n",
       "      <td>2013-08-29</td>\n",
       "      <td>41.785637</td>\n",
       "      <td>-87.713003</td>\n",
       "      <td>2013</td>\n",
       "      <td>8</td>\n",
       "      <td>35</td>\n",
       "      <td>4</td>\n",
       "    </tr>\n",
       "    <tr>\n",
       "      <th>13370</th>\n",
       "      <td>2013-09-05</td>\n",
       "      <td>41.997975</td>\n",
       "      <td>-87.790912</td>\n",
       "      <td>2013</td>\n",
       "      <td>9</td>\n",
       "      <td>36</td>\n",
       "      <td>4</td>\n",
       "    </tr>\n",
       "  </tbody>\n",
       "</table>\n",
       "</div>"
      ],
      "text/plain": [
       "             date   latitude  longitude  year  month  week  weekday\n",
       "0      2011-08-29  42.391623 -88.089163  2011      8    35        1\n",
       "95     2011-09-07  41.981433 -87.787777  2011      9    36        3\n",
       "1668   2013-07-17  41.997728 -87.767532  2013      7    29        3\n",
       "3870   2013-07-25  41.960520 -87.739783  2013      7    30        4\n",
       "5477   2013-08-08  41.919128 -87.696737  2013      8    32        4\n",
       "6672   2013-08-15  41.944718 -87.808187  2013      8    33        4\n",
       "9340   2013-08-16  41.960033 -87.785495  2013      8    33        5\n",
       "9481   2013-08-22  41.885083 -87.719797  2013      8    34        4\n",
       "11068  2013-08-29  41.785637 -87.713003  2013      8    35        4\n",
       "13370  2013-09-05  41.997975 -87.790912  2013      9    36        4"
      ]
     },
     "execution_count": 108,
     "metadata": {},
     "output_type": "execute_result"
    }
   ],
   "source": [
    "spray_no_loc_dup"
   ]
  },
  {
   "cell_type": "markdown",
   "id": "e2006208",
   "metadata": {},
   "source": [
    "### `date`, (`year`, `month`, `week`, `dayofweek`)"
   ]
  },
  {
   "cell_type": "code",
   "execution_count": 22,
   "id": "14934ae3",
   "metadata": {},
   "outputs": [],
   "source": [
    "# check to see if there are missing dates\n",
    "missing_dates = pd.date_range(start = spray['date'][0], end = spray['date'][14293] ).difference(train['date'])"
   ]
  },
  {
   "cell_type": "code",
   "execution_count": 23,
   "id": "894b0b72",
   "metadata": {},
   "outputs": [],
   "source": [
    "# make the values into a dataframe\n",
    "missing_dates_spray = pd.DataFrame(missing_dates, columns=['missing_dates'])"
   ]
  },
  {
   "cell_type": "code",
   "execution_count": 24,
   "id": "e4f79346",
   "metadata": {},
   "outputs": [],
   "source": [
    "# calculate the year, month, week, day of week columns for our missing dates\n",
    "missing_dates_spray['year'] = missing_dates_spray['missing_dates'].apply(lambda x: x.year)\n",
    "missing_dates_spray['month'] = missing_dates_spray['missing_dates'].apply(lambda x: x.month)\n",
    "missing_dates_spray['week'] = missing_dates_spray['missing_dates'].apply(lambda x: x.week)\n",
    "missing_dates_spray['weekday'] = missing_dates_spray['missing_dates'].apply(dt.date.isoweekday)"
   ]
  },
  {
   "cell_type": "code",
   "execution_count": 111,
   "id": "545cce19",
   "metadata": {},
   "outputs": [
    {
     "data": {
      "text/plain": [
       "2007-05-29     25\n",
       "2007-06-05     60\n",
       "2007-06-26     69\n",
       "2007-06-29     46\n",
       "2007-07-02     74\n",
       "             ... \n",
       "2013-08-29    137\n",
       "2013-09-06    141\n",
       "2013-09-12    138\n",
       "2013-09-19    111\n",
       "2013-09-26     92\n",
       "Name: date, Length: 95, dtype: int64"
      ]
     },
     "execution_count": 111,
     "metadata": {},
     "output_type": "execute_result"
    }
   ],
   "source": [
    "train['date'].value_counts().sort_index()"
   ]
  },
  {
   "cell_type": "code",
   "execution_count": 26,
   "id": "dde5f7ce",
   "metadata": {},
   "outputs": [
    {
     "data": {
      "text/plain": [
       "2011    119\n",
       "2012    366\n",
       "2013    234\n",
       "Name: year, dtype: int64"
      ]
     },
     "execution_count": 26,
     "metadata": {},
     "output_type": "execute_result"
    }
   ],
   "source": [
    "# Checking the value count for missing years\n",
    "missing_dates_spray['year'].value_counts().sort_index()"
   ]
  },
  {
   "cell_type": "markdown",
   "id": "1fed7bc8",
   "metadata": {},
   "source": [
    "Our training data only stretches from 2011 to 2013. While 2011 and 2013 in our training data are incomplete, 2012 is completely missing; there should be no date in our spray data."
   ]
  },
  {
   "cell_type": "markdown",
   "id": "2b7ba392",
   "metadata": {},
   "source": [
    "Just to confirm our observations, we can take the value counts from our training data itself.\n"
   ]
  },
  {
   "cell_type": "code",
   "execution_count": 27,
   "id": "9b61b58c",
   "metadata": {},
   "outputs": [
    {
     "data": {
      "text/plain": [
       "2011     1668\n",
       "2013    12626\n",
       "Name: year, dtype: int64"
      ]
     },
     "execution_count": 27,
     "metadata": {},
     "output_type": "execute_result"
    }
   ],
   "source": [
    "# checking the value counts for year in our training data\n",
    "spray['year'].value_counts().sort_index()"
   ]
  },
  {
   "cell_type": "code",
   "execution_count": 102,
   "id": "9799f6e1",
   "metadata": {},
   "outputs": [
    {
     "data": {
      "text/plain": [
       "Text(0, 0.5, 'Number of Date Occurrences in Training Data')"
      ]
     },
     "execution_count": 102,
     "metadata": {},
     "output_type": "execute_result"
    },
    {
     "data": {
      "image/png": "[encoded data removed]",
      "text/plain": [
       "<Figure size 432x288 with 1 Axes>"
      ]
     },
     "metadata": {
      "needs_background": "light"
     },
     "output_type": "display_data"
    }
   ],
   "source": [
    "    plt.tight_layout()\n",
    "    plt.bar(spray['year'].value_counts().sort_index().index,\n",
    "            spray['year'].value_counts().sort_index())\n",
    "    plt.xlabel('Year', labelpad=10, fontsize=12)\n",
    "    plt.xticks(ticks=spray['year'].value_counts().sort_index().index, \n",
    "               labels=['2011', '2013'],)\n",
    "    plt.ylabel('Number of Date Occurrences in Spraying Data', fontsize=12)"
   ]
  },
  {
   "cell_type": "markdown",
   "id": "2dec63b8",
   "metadata": {},
   "source": [
    "As we can see, There is no spraying data for 2012."
   ]
  },
  {
   "cell_type": "code",
   "execution_count": 29,
   "id": "58e262f3",
   "metadata": {
    "scrolled": true
   },
   "outputs": [
    {
     "data": {
      "text/plain": [
       "1     62\n",
       "2     57\n",
       "3     62\n",
       "4     60\n",
       "5     62\n",
       "6     55\n",
       "7     58\n",
       "8     60\n",
       "9     59\n",
       "10    62\n",
       "11    60\n",
       "12    62\n",
       "Name: month, dtype: int64"
      ]
     },
     "execution_count": 29,
     "metadata": {},
     "output_type": "execute_result"
    }
   ],
   "source": [
    "# checking the value counts of missing months\n",
    "missing_dates_spray['month'].value_counts().sort_index()"
   ]
  },
  {
   "cell_type": "markdown",
   "id": "a86b51c7",
   "metadata": {},
   "source": [
    "Missing months are roughly evenly distributed."
   ]
  },
  {
   "cell_type": "code",
   "execution_count": 30,
   "id": "82e2ee03",
   "metadata": {
    "scrolled": true
   },
   "outputs": [
    {
     "data": {
      "text/plain": [
       "7    3809\n",
       "8    7988\n",
       "9    2497\n",
       "Name: month, dtype: int64"
      ]
     },
     "execution_count": 30,
     "metadata": {},
     "output_type": "execute_result"
    }
   ],
   "source": [
    "# checking the value counts of months in our spraying data\n",
    "spray['month'].value_counts().sort_index()"
   ]
  },
  {
   "cell_type": "code",
   "execution_count": 69,
   "id": "c8418f9f",
   "metadata": {},
   "outputs": [
    {
     "data": {
      "text/plain": [
       "Text(0, 0.5, 'Number of Spraying Occurrences')"
      ]
     },
     "execution_count": 69,
     "metadata": {},
     "output_type": "execute_result"
    },
    {
     "data": {
      "image/png": "[encoded data removed]",
      "text/plain": [
       "<Figure size 432x288 with 1 Axes>"
      ]
     },
     "metadata": {
      "needs_background": "light"
     },
     "output_type": "display_data"
    }
   ],
   "source": [
    "plt.bar(spray['month'].value_counts().sort_index().index,\n",
    "        spray['month'].value_counts().sort_index())\n",
    "plt.xlabel('Week Starting')\n",
    "plt.xticks(ticks=spray['month'].value_counts().sort_index().index, \n",
    "           labels=['July', 'August', 'September',])\n",
    "plt.ylabel('Number of Spraying Occurrences')"
   ]
  },
  {
   "cell_type": "markdown",
   "id": "973bc106",
   "metadata": {},
   "source": [
    "Although the 3 months that our spraying data consists of (July, August, and September) are typically the part of the [mosquito season](https://www.nbcchicago.com/news/local/chicago-named-one-of-the-worst-cities-for-mosquitoes-in-us/2517461/), it has been found that mosquito breeding season can begin as early as May and last through September, which means that we might see higher numbers of mosquitoes caught in May, June, the earlier weeks of June, and the later weeks of September when there has not been any spraying done to control the mosquito population."
   ]
  },
  {
   "cell_type": "code",
   "execution_count": 49,
   "id": "62cc44df",
   "metadata": {
    "scrolled": true
   },
   "outputs": [
    {
     "data": {
      "text/plain": [
       "1     14\n",
       "2     14\n",
       "3     14\n",
       "4     14\n",
       "5     14\n",
       "6     14\n",
       "7     14\n",
       "8     14\n",
       "9     14\n",
       "10    14\n",
       "11    14\n",
       "12    14\n",
       "13    14\n",
       "14    14\n",
       "15    14\n",
       "16    14\n",
       "17    14\n",
       "18    14\n",
       "19    14\n",
       "20    14\n",
       "21    14\n",
       "22    14\n",
       "23    13\n",
       "24    13\n",
       "25    13\n",
       "26    12\n",
       "27    14\n",
       "28    12\n",
       "29    13\n",
       "30    13\n",
       "31    13\n",
       "32    13\n",
       "33    13\n",
       "34    13\n",
       "35    18\n",
       "36    18\n",
       "37    12\n",
       "38    13\n",
       "39    13\n",
       "40    14\n",
       "41    14\n",
       "42    14\n",
       "43    14\n",
       "44    14\n",
       "45    14\n",
       "46    14\n",
       "47    14\n",
       "48    14\n",
       "49    14\n",
       "50    14\n",
       "51    14\n",
       "52    14\n",
       "Name: week, dtype: int64"
      ]
     },
     "execution_count": 49,
     "metadata": {},
     "output_type": "execute_result"
    }
   ],
   "source": [
    "# checking the value count for missing weeks\n",
    "missing_dates_spray['week'].value_counts().sort_index()"
   ]
  },
  {
   "cell_type": "markdown",
   "id": "e534fa59",
   "metadata": {},
   "source": [
    "Missing weeks are roughly evenly distributed."
   ]
  },
  {
   "cell_type": "code",
   "execution_count": 50,
   "id": "b1bb3ae4",
   "metadata": {
    "scrolled": true
   },
   "outputs": [
    {
     "data": {
      "text/plain": [
       "29    2202\n",
       "30    1607\n",
       "32    1195\n",
       "33    2809\n",
       "34    1587\n",
       "35    2397\n",
       "36    2497\n",
       "Name: week, dtype: int64"
      ]
     },
     "execution_count": 50,
     "metadata": {},
     "output_type": "execute_result"
    }
   ],
   "source": [
    "# checking the value counts for week in our training data\n",
    "spray['week'].value_counts().sort_index()"
   ]
  },
  {
   "cell_type": "code",
   "execution_count": 68,
   "id": "6264cca2",
   "metadata": {},
   "outputs": [
    {
     "data": {
      "text/plain": [
       "Text(0, 0.5, 'Number of Spraying Occurrences')"
      ]
     },
     "execution_count": 68,
     "metadata": {},
     "output_type": "execute_result"
    },
    {
     "data": {
      "image/png": "[encoded data removed]",
      "text/plain": [
       "<Figure size 432x288 with 1 Axes>"
      ]
     },
     "metadata": {
      "needs_background": "light"
     },
     "output_type": "display_data"
    }
   ],
   "source": [
    "plt.bar(spray['week'].value_counts().sort_index().index,\n",
    "        spray['week'].value_counts().sort_index())\n",
    "plt.xlabel('Week Starting')\n",
    "plt.xticks(ticks=spray['week'].value_counts().sort_index().index, \n",
    "           labels=['17/07', '24/07', '07/08', '14/08', '21/08', '28/08', '04/09'])\n",
    "plt.ylabel('Number of Spraying Occurrences')"
   ]
  },
  {
   "cell_type": "markdown",
   "id": "806baeff",
   "metadata": {},
   "source": [
    "The spraying data is highly irregular in terms of weeks. It only encompasses the 17th of July (29th week of the year) to the 4th of September (36th week of the year) while completely omitting the week beginning 31st of July (31st week of the year). This suggests that we should see an increase in the number of mosquitoes caught in the 1st week of August when compared to its neighbouring weeks."
   ]
  },
  {
   "cell_type": "code",
   "execution_count": 35,
   "id": "5425eed3",
   "metadata": {
    "scrolled": true
   },
   "outputs": [
    {
     "data": {
      "text/plain": [
       "1    104\n",
       "2    106\n",
       "3    106\n",
       "4     98\n",
       "5     95\n",
       "6    105\n",
       "7    105\n",
       "Name: weekday, dtype: int64"
      ]
     },
     "execution_count": 35,
     "metadata": {},
     "output_type": "execute_result"
    }
   ],
   "source": [
    "# checking the value count for missing days of week\n",
    "missing_dates_spray['weekday'].value_counts().sort_index()"
   ]
  },
  {
   "cell_type": "markdown",
   "id": "32862227",
   "metadata": {},
   "source": [
    "Missing weekdays are roughly evenly distributed"
   ]
  },
  {
   "cell_type": "code",
   "execution_count": 36,
   "id": "97100b27",
   "metadata": {},
   "outputs": [
    {
     "data": {
      "text/plain": [
       "1       95\n",
       "3     3775\n",
       "4    10283\n",
       "5      141\n",
       "Name: weekday, dtype: int64"
      ]
     },
     "execution_count": 36,
     "metadata": {},
     "output_type": "execute_result"
    }
   ],
   "source": [
    "# checking the value counts for days of week in our training data\n",
    "spray['weekday'].value_counts().sort_index()"
   ]
  },
  {
   "cell_type": "code",
   "execution_count": 73,
   "id": "61b667c6",
   "metadata": {},
   "outputs": [
    {
     "data": {
      "text/plain": [
       "Text(0, 0.5, 'Number of Spraying Occurrences')"
      ]
     },
     "execution_count": 73,
     "metadata": {},
     "output_type": "execute_result"
    },
    {
     "data": {
      "image/png": "[encoded data removed]",
      "text/plain": [
       "<Figure size 432x288 with 1 Axes>"
      ]
     },
     "metadata": {
      "needs_background": "light"
     },
     "output_type": "display_data"
    }
   ],
   "source": [
    "plt.tight_layout()\n",
    "plt.bar(spray['weekday'].value_counts().sort_index().index,\n",
    "        spray['weekday'].value_counts().sort_index())\n",
    "plt.xlabel('Weekday',)\n",
    "plt.xticks(ticks=spray['weekday'].value_counts().sort_index().index, \n",
    "           labels=['Monday', 'Wednesday', 'Thursday', 'Friday',])\n",
    "plt.ylabel('Number of Spraying Occurrences')"
   ]
  },
  {
   "cell_type": "markdown",
   "id": "d7c1d1a2",
   "metadata": {},
   "source": [
    "Spraying data only has weekdays, with no data for Tuesdays, and minimal data for Monday and Friday. Wednesday and Thursday by and large have the most data. As such, we should expect our model to make better predictions for Wednesdays and Thursdays given that the dates are within our spraying data months."
   ]
  },
  {
   "cell_type": "code",
   "execution_count": 133,
   "id": "3bf33663",
   "metadata": {
    "scrolled": true
   },
   "outputs": [
    {
     "data": {
      "text/plain": [
       "<matplotlib.legend.Legend at 0x2dc8effd310>"
      ]
     },
     "execution_count": 133,
     "metadata": {},
     "output_type": "execute_result"
    },
    {
     "data": {
      "image/png": "[encoded data removed]",
      "text/plain": [
       "<Figure size 432x288 with 1 Axes>"
      ]
     },
     "metadata": {
      "needs_background": "light"
     },
     "output_type": "display_data"
    }
   ],
   "source": [
    "# Plotting the distribution of spraying occurrences by date\n",
    "plt.tight_layout()\n",
    "plt.title('Distribution of Spraying Occurrences')\n",
    "plt.bar(spray[spray['year'] == 2011]['date'].value_counts().sort_index().index,\n",
    "        spray[spray['year'] == 2011]['date'].value_counts().sort_index())\n",
    "plt.bar(spray[spray['year'] == 2013]['date'].value_counts().sort_index().index,\n",
    "        spray[spray['year'] == 2013]['date'].value_counts().sort_index())\n",
    "plt.xlabel('Date', labelpad=10, fontsize=12)\n",
    "plt.xticks(ticks=spray['date'].value_counts().sort_index().index, \n",
    "           labels=spray['date'].value_counts().sort_index().index,\n",
    "           rotation=42)\n",
    "plt.ylabel('Number of Date Occurrences in Spraying Data', fontsize=12)\n",
    "plt.legend(['2011', '2013'])"
   ]
  },
  {
   "cell_type": "markdown",
   "id": "7cc383f5",
   "metadata": {},
   "source": [
    "From the above chart, we can see that in addition to our spraying data only consisting of 10 occurrences of spraying from 2011 to 2013, there is also a huge imbalance in our spraying data, with most of the spraying data being gathered from 2013."
   ]
  }
 ],
 "metadata": {
  "kernelspec": {
   "display_name": "Python 3 (ipykernel)",
   "language": "python",
   "name": "python3"
  },
  "language_info": {
   "codemirror_mode": {
    "name": "ipython",
    "version": 3
   },
   "file_extension": ".py",
   "mimetype": "text/x-python",
   "name": "python",
   "nbconvert_exporter": "python",
   "pygments_lexer": "ipython3",
   "version": "3.9.7"
  }
 },
 "nbformat": 4,
 "nbformat_minor": 5
}
