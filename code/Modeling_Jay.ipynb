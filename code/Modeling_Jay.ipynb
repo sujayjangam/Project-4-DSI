{
 "cells": [
  {
   "cell_type": "code",
   "execution_count": 1,
   "id": "0669e1c0",
   "metadata": {},
   "outputs": [
    {
     "name": "stderr",
     "output_type": "stream",
     "text": [
      "C:\\Users\\Jayy Jangam\\.conda\\envs\\dsi\\lib\\site-packages\\xgboost\\compat.py:36: FutureWarning: pandas.Int64Index is deprecated and will be removed from pandas in a future version. Use pandas.Index with the appropriate dtype instead.\n",
      "  from pandas import MultiIndex, Int64Index\n"
     ]
    }
   ],
   "source": [
    "import pandas as pd\n",
    "import numpy as np\n",
    "import matplotlib.pyplot as plt\n",
    "import seaborn as sns\n",
    "import datetime as dt\n",
    "import re\n",
    "import math\n",
    "import numpy as np\n",
    "import pandas as pd\n",
    "import matplotlib.pyplot as plt\n",
    "import requests\n",
    "import datetime as dt\n",
    "from dateutil.parser import *\n",
    "import random\n",
    "import time\n",
    "import json\n",
    "from numpy import argmax\n",
    "import warnings\n",
    "from sklearn.feature_extraction.text import CountVectorizer, TfidfVectorizer\n",
    "from sklearn.model_selection import train_test_split,cross_val_score, GridSearchCV, RandomizedSearchCV\n",
    "from sklearn.pipeline import Pipeline\n",
    "from sklearn.preprocessing import StandardScaler, PolynomialFeatures\n",
    "from sklearn.linear_model import LogisticRegression\n",
    "from sklearn.metrics import confusion_matrix, roc_auc_score,classification_report, roc_auc_score,accuracy_score, \\\n",
    "precision_score, f1_score, recall_score, roc_curve\n",
    "from sklearn.naive_bayes import MultinomialNB\n",
    "from sklearn.tree import DecisionTreeClassifier\n",
    "from sklearn.ensemble import RandomForestClassifier\n",
    "from sklearn.svm import SVC\n",
    "import re\n",
    "import seaborn as sns\n",
    "from imblearn.over_sampling import SMOTE \n",
    "\n",
    "from sklearn.ensemble import RandomForestClassifier, ExtraTreesClassifier, GradientBoostingClassifier, AdaBoostClassifier\n",
    "from xgboost import XGBClassifier\n",
    "\n",
    "%config InlineBackend.figure_format = 'retina'\n",
    "plt.rc('xtick', labelsize=12) \n",
    "plt.rc('ytick', labelsize=12)"
   ]
  },
  {
   "cell_type": "code",
   "execution_count": 2,
   "id": "6ac99645",
   "metadata": {},
   "outputs": [],
   "source": [
    "df_regression = pd.read_csv('../data/merged_train_final.csv')\n",
    "df_multi = pd.read_csv('../data/merged_train_multi.csv')"
   ]
  },
  {
   "cell_type": "code",
   "execution_count": 3,
   "id": "c27b2160",
   "metadata": {},
   "outputs": [],
   "source": [
    "test_df_regression = pd.read_csv('../data/merged_test_final.csv')\n",
    "test_df_multi = pd.read_csv('../data/merged_test_multi.csv')"
   ]
  },
  {
   "cell_type": "code",
   "execution_count": 4,
   "id": "7d022cce",
   "metadata": {},
   "outputs": [
    {
     "data": {
      "text/plain": [
       "0    0.948107\n",
       "1    0.051893\n",
       "Name: wnvpresent, dtype: float64"
      ]
     },
     "execution_count": 4,
     "metadata": {},
     "output_type": "execute_result"
    }
   ],
   "source": [
    "x = df_multi.drop(['wnvpresent'],axis=1)\n",
    "y = df_multi['wnvpresent']\n",
    "\n",
    "y.value_counts(normalize=True)"
   ]
  },
  {
   "cell_type": "code",
   "execution_count": 5,
   "id": "1fd2a62c",
   "metadata": {},
   "outputs": [],
   "source": [
    "x_train, x_test, y_train, y_test= train_test_split(x,y,random_state=42)\n",
    "\n",
    "ss = StandardScaler()\n",
    "x_train_sc = ss.fit_transform(x_train)\n",
    "x_test_sc = ss.transform(x_test)"
   ]
  },
  {
   "cell_type": "code",
   "execution_count": 6,
   "id": "697f1a32",
   "metadata": {},
   "outputs": [
    {
     "data": {
      "text/plain": [
       "0    0.5\n",
       "1    0.5\n",
       "Name: wnvpresent, dtype: float64"
      ]
     },
     "execution_count": 6,
     "metadata": {},
     "output_type": "execute_result"
    }
   ],
   "source": [
    "sm = SMOTE(random_state=42)\n",
    "\n",
    "x_train_sc, y_train = sm.fit_resample(x_train_sc,y_train)\n",
    "\n",
    "y_train.value_counts(normalize=True)"
   ]
  },
  {
   "cell_type": "code",
   "execution_count": 13,
   "id": "5d43ee11",
   "metadata": {},
   "outputs": [],
   "source": [
    "# Instantiate models\n",
    "models = {'lr': LogisticRegression(max_iter=5_000, random_state=42, solver='saga'),\n",
    "          'rf': RandomForestClassifier(random_state=42),\n",
    "          'gb': GradientBoostingClassifier(random_state=42),\n",
    "          'et': ExtraTreesClassifier(random_state=42),\n",
    "          'ada': AdaBoostClassifier(random_state=42),\n",
    "          'svm': SVC(random_state=42, probability=True),\n",
    "          'xgb': XGBClassifier(random_state=42)\n",
    "}"
   ]
  },
  {
   "cell_type": "code",
   "execution_count": 8,
   "id": "3ba6eca2",
   "metadata": {},
   "outputs": [],
   "source": [
    "# Function to run model -- input model\n",
    "def get_model_scores(model_name,\n",
    "                     mod, \n",
    "                     mod_params={}, \n",
    "                     grid_search=False):\n",
    "    \n",
    "    \"\"\"Function accepts following inputs:\n",
    "    Name of model (str), model to be used (str), \n",
    "    model params(dict, optional), grid_seach(boolean, optional)\n",
    "    If grid_search is True, then please also input the relevant \n",
    "    params for GridSearching\n",
    "    \"\"\"\n",
    "    \n",
    "    # empty dict for appending results\n",
    "    results = {}\n",
    "    \n",
    "    # instantiate pipe\n",
    "    pipe = Pipeline([\n",
    "            (mod, models[mod])\n",
    "            ])\n",
    "    \n",
    "    # check if GridSearch true or false\n",
    "    if grid_search:\n",
    "        \n",
    "        # combine vectorizer and mod params together\n",
    "        gs_params = {}\n",
    "        gs_params.update(mod_params)\n",
    "        \n",
    "        # instantiate GridSearchCV\n",
    "        gs = GridSearchCV(pipe, \n",
    "                          param_grid=gs_params,\n",
    "                          cv=5, \n",
    "                          verbose=2, \n",
    "                          n_jobs=-1)\n",
    "        \n",
    "        # fit model\n",
    "        gs.fit(x_train_sc, y_train)\n",
    "        pipe = gs\n",
    "        \n",
    "    else:\n",
    "        # else fit model\n",
    "        pipe.fit(x_train_sc, y_train)\n",
    "    \n",
    "    # create predictions and confusion matrix\n",
    "    predictions = pipe.predict(x_test_sc)\n",
    "    tn, fp, fn, tp = confusion_matrix(y_test, \n",
    "                                      predictions).ravel()\n",
    "    y_test_pred_prob = pipe.predict_proba(x_test_sc)[:,1]\n",
    "    y_train_pred_prob = pipe.predict_proba(x_train_sc)[:,1]\n",
    "\n",
    "    train_auc = roc_auc_score(y_train, y_train_pred_prob)\n",
    "    test_auc = roc_auc_score(y_test, y_test_pred_prob)\n",
    "    \n",
    "    # Retrieve metrics and add to results\n",
    "    results['model_name'] = model_name\n",
    "    results['model'] = mod\n",
    "    results['train_score'] = pipe.score(x_train_sc, y_train)\n",
    "    results['test_score'] = pipe.score(x_test_sc, y_test)\n",
    "    \n",
    "    results['recall'] = recall_score(y_test, \n",
    "                                     predictions)\n",
    "    \n",
    "    results['specificity'] = tn/(tn + fp)\n",
    "    \n",
    "    results['precision'] = precision_score(y_test, \n",
    "                                           predictions)\n",
    "    \n",
    "    results['train_auc'] = roc_auc_score(y_train, y_train_pred_prob)\n",
    "    results['test_auc'] = roc_auc_score(y_test, y_test_pred_prob)\n",
    "    \n",
    "    results['is_tuned'] = grid_search\n",
    "    \n",
    "    if grid_search:\n",
    "        print('BEST PARAMS-->')\n",
    "        display(pipe.best_params_)\n",
    "    \n",
    "    # add results to list for model evaluation later\n",
    "    model_eval.append(results)\n",
    "    \n",
    "    print('METRICS-->')\n",
    "    display(results)\n",
    "    \n",
    "    tn, fp, fn, tp = confusion_matrix(y_test, \n",
    "                                      predictions).ravel()\n",
    "    \n",
    "    print(f\"True Negatives: {tn}\")\n",
    "    print(f\"False Positives: {fp}\")\n",
    "    print(f\"False Negatives: {fn}\")\n",
    "    print(f\"True Positives: {tp}\")\n",
    "    \n",
    "    return pipe"
   ]
  },
  {
   "cell_type": "code",
   "execution_count": 9,
   "id": "ce484811",
   "metadata": {},
   "outputs": [],
   "source": [
    "# create list to store results\n",
    "model_eval =[]"
   ]
  },
  {
   "cell_type": "code",
   "execution_count": 10,
   "id": "9468937c",
   "metadata": {},
   "outputs": [
    {
     "name": "stdout",
     "output_type": "stream",
     "text": [
      "METRICS-->\n"
     ]
    },
    {
     "data": {
      "text/plain": [
       "{'model_name': 'lr_base_multi',\n",
       " 'model': 'lr',\n",
       " 'train_score': 0.8259796806966618,\n",
       " 'test_score': 0.775990099009901,\n",
       " 'recall': 0.6048387096774194,\n",
       " 'specificity': 0.7852173913043479,\n",
       " 'precision': 0.13181019332161686,\n",
       " 'train_auc': 0.8874044228083443,\n",
       " 'test_auc': 0.7729926367461429,\n",
       " 'is_tuned': False}"
      ]
     },
     "metadata": {},
     "output_type": "display_data"
    },
    {
     "name": "stdout",
     "output_type": "stream",
     "text": [
      "True Negatives: 1806\n",
      "False Positives: 494\n",
      "False Negatives: 49\n",
      "True Positives: 75\n"
     ]
    }
   ],
   "source": [
    "lr_base_multi = get_model_scores('lr_base_multi', 'lr')"
   ]
  },
  {
   "cell_type": "code",
   "execution_count": 11,
   "id": "a498db30",
   "metadata": {},
   "outputs": [
    {
     "name": "stdout",
     "output_type": "stream",
     "text": [
      "METRICS-->\n"
     ]
    },
    {
     "data": {
      "text/plain": [
       "{'model_name': 'svm_base_multi',\n",
       " 'model': 'svm',\n",
       " 'train_score': 0.9298984034833091,\n",
       " 'test_score': 0.8535478547854786,\n",
       " 'recall': 0.45161290322580644,\n",
       " 'specificity': 0.8752173913043478,\n",
       " 'precision': 0.16326530612244897,\n",
       " 'train_auc': 0.9783968162352202,\n",
       " 'test_auc': 0.777312412342216,\n",
       " 'is_tuned': False}"
      ]
     },
     "metadata": {},
     "output_type": "display_data"
    },
    {
     "name": "stdout",
     "output_type": "stream",
     "text": [
      "True Negatives: 2013\n",
      "False Positives: 287\n",
      "False Negatives: 68\n",
      "True Positives: 56\n"
     ]
    }
   ],
   "source": [
    "svm_base_multi = get_model_scores('svm_base_multi', 'svm')"
   ]
  },
  {
   "cell_type": "code",
   "execution_count": 14,
   "id": "c2270f7f",
   "metadata": {},
   "outputs": [
    {
     "name": "stderr",
     "output_type": "stream",
     "text": [
      "C:\\Users\\Jayy Jangam\\.conda\\envs\\dsi\\lib\\site-packages\\xgboost\\sklearn.py:1224: UserWarning: The use of label encoder in XGBClassifier is deprecated and will be removed in a future release. To remove this warning, do the following: 1) Pass option use_label_encoder=False when constructing XGBClassifier object; and 2) Encode your labels (y) as integers starting with 0, i.e. 0, 1, 2, ..., [num_class - 1].\n",
      "  warnings.warn(label_encoder_deprecation_msg, UserWarning)\n"
     ]
    },
    {
     "name": "stdout",
     "output_type": "stream",
     "text": [
      "[20:41:02] WARNING: C:/Users/Administrator/workspace/xgboost-win64_release_1.5.1/src/learner.cc:1115: Starting in XGBoost 1.3.0, the default evaluation metric used with the objective 'binary:logistic' was changed from 'error' to 'logloss'. Explicitly set eval_metric if you'd like to restore the old behavior.\n",
      "METRICS-->\n"
     ]
    },
    {
     "data": {
      "text/plain": [
       "{'model_name': 'xg_base_multi',\n",
       " 'model': 'xgb',\n",
       " 'train_score': 0.978011611030479,\n",
       " 'test_score': 0.9422442244224423,\n",
       " 'recall': 0.0967741935483871,\n",
       " 'specificity': 0.9878260869565217,\n",
       " 'precision': 0.3,\n",
       " 'train_auc': 0.9974362836276467,\n",
       " 'test_auc': 0.8528962131837308,\n",
       " 'is_tuned': False}"
      ]
     },
     "metadata": {},
     "output_type": "display_data"
    },
    {
     "name": "stdout",
     "output_type": "stream",
     "text": [
      "True Negatives: 2272\n",
      "False Positives: 28\n",
      "False Negatives: 112\n",
      "True Positives: 12\n"
     ]
    }
   ],
   "source": [
    "xg_base_multi = get_model_scores('xg_base_multi', 'xgb')"
   ]
  },
  {
   "cell_type": "code",
   "execution_count": 15,
   "id": "e455ed0a",
   "metadata": {},
   "outputs": [
    {
     "name": "stdout",
     "output_type": "stream",
     "text": [
      "METRICS-->\n"
     ]
    },
    {
     "data": {
      "text/plain": [
       "{'model_name': 'rf_base_multi',\n",
       " 'model': 'rf',\n",
       " 'train_score': 0.9918722786647315,\n",
       " 'test_score': 0.9434818481848185,\n",
       " 'recall': 0.07258064516129033,\n",
       " 'specificity': 0.9904347826086957,\n",
       " 'precision': 0.2903225806451613,\n",
       " 'train_auc': 0.9997484522487946,\n",
       " 'test_auc': 0.7970950210378681,\n",
       " 'is_tuned': False}"
      ]
     },
     "metadata": {},
     "output_type": "display_data"
    },
    {
     "name": "stdout",
     "output_type": "stream",
     "text": [
      "True Negatives: 2278\n",
      "False Positives: 22\n",
      "False Negatives: 115\n",
      "True Positives: 9\n"
     ]
    }
   ],
   "source": [
    "rf_base_multi = get_model_scores('rf_base_multi', 'rf')"
   ]
  },
  {
   "cell_type": "code",
   "execution_count": 16,
   "id": "e306a92c",
   "metadata": {},
   "outputs": [
    {
     "name": "stdout",
     "output_type": "stream",
     "text": [
      "METRICS-->\n"
     ]
    },
    {
     "data": {
      "text/plain": [
       "{'model_name': 'et_base_multi',\n",
       " 'model': 'et',\n",
       " 'train_score': 0.9918722786647315,\n",
       " 'test_score': 0.9426567656765676,\n",
       " 'recall': 0.06451612903225806,\n",
       " 'specificity': 0.99,\n",
       " 'precision': 0.25806451612903225,\n",
       " 'train_auc': 0.9998393056131918,\n",
       " 'test_auc': 0.70117110799439,\n",
       " 'is_tuned': False}"
      ]
     },
     "metadata": {},
     "output_type": "display_data"
    },
    {
     "name": "stdout",
     "output_type": "stream",
     "text": [
      "True Negatives: 2277\n",
      "False Positives: 23\n",
      "False Negatives: 116\n",
      "True Positives: 8\n"
     ]
    }
   ],
   "source": [
    "et_base_multi = get_model_scores('et_base_multi', 'et')"
   ]
  },
  {
   "cell_type": "code",
   "execution_count": 17,
   "id": "46b32cff",
   "metadata": {},
   "outputs": [
    {
     "name": "stdout",
     "output_type": "stream",
     "text": [
      "METRICS-->\n"
     ]
    },
    {
     "data": {
      "text/plain": [
       "{'model_name': 'gb_base_multi',\n",
       " 'model': 'gb',\n",
       " 'train_score': 0.9555152394775036,\n",
       " 'test_score': 0.9377062706270627,\n",
       " 'recall': 0.20161290322580644,\n",
       " 'specificity': 0.9773913043478261,\n",
       " 'precision': 0.3246753246753247,\n",
       " 'train_auc': 0.9905579909041311,\n",
       " 'test_auc': 0.8335729312762974,\n",
       " 'is_tuned': False}"
      ]
     },
     "metadata": {},
     "output_type": "display_data"
    },
    {
     "name": "stdout",
     "output_type": "stream",
     "text": [
      "True Negatives: 2248\n",
      "False Positives: 52\n",
      "False Negatives: 99\n",
      "True Positives: 25\n"
     ]
    }
   ],
   "source": [
    "gb_base_multi = get_model_scores('gb_base_multi', 'gb')"
   ]
  },
  {
   "cell_type": "code",
   "execution_count": 18,
   "id": "c82206e2",
   "metadata": {},
   "outputs": [
    {
     "name": "stdout",
     "output_type": "stream",
     "text": [
      "METRICS-->\n"
     ]
    },
    {
     "data": {
      "text/plain": [
       "{'model_name': 'ada_base_multi',\n",
       " 'model': 'ada',\n",
       " 'train_score': 0.9322931785195936,\n",
       " 'test_score': 0.9129537953795379,\n",
       " 'recall': 0.3870967741935484,\n",
       " 'specificity': 0.941304347826087,\n",
       " 'precision': 0.26229508196721313,\n",
       " 'train_auc': 0.9820600415823189,\n",
       " 'test_auc': 0.8415410238429173,\n",
       " 'is_tuned': False}"
      ]
     },
     "metadata": {},
     "output_type": "display_data"
    },
    {
     "name": "stdout",
     "output_type": "stream",
     "text": [
      "True Negatives: 2165\n",
      "False Positives: 135\n",
      "False Negatives: 76\n",
      "True Positives: 48\n"
     ]
    }
   ],
   "source": [
    "ada_base_multi = get_model_scores('ada_base_multi', 'ada')"
   ]
  },
  {
   "cell_type": "code",
   "execution_count": null,
   "id": "8b514439",
   "metadata": {},
   "outputs": [],
   "source": []
  },
  {
   "cell_type": "markdown",
   "id": "a2ba262c",
   "metadata": {},
   "source": [
    "## Using the Regression Dataset"
   ]
  },
  {
   "cell_type": "code",
   "execution_count": 19,
   "id": "8ae06a2d",
   "metadata": {},
   "outputs": [
    {
     "data": {
      "text/plain": [
       "0    0.948107\n",
       "1    0.051893\n",
       "Name: wnvpresent, dtype: float64"
      ]
     },
     "execution_count": 19,
     "metadata": {},
     "output_type": "execute_result"
    }
   ],
   "source": [
    "x = df_regression.drop(['wnvpresent'],axis=1)\n",
    "y = df_regression['wnvpresent']\n",
    "\n",
    "y.value_counts(normalize=True)"
   ]
  },
  {
   "cell_type": "code",
   "execution_count": 20,
   "id": "b0ae620d",
   "metadata": {},
   "outputs": [],
   "source": [
    "x_train, x_test, y_train, y_test= train_test_split(x,y,random_state=42)\n",
    "\n",
    "ss = StandardScaler()\n",
    "x_train_sc = ss.fit_transform(x_train)\n",
    "x_test_sc = ss.transform(x_test)"
   ]
  },
  {
   "cell_type": "code",
   "execution_count": 21,
   "id": "e06f1203",
   "metadata": {},
   "outputs": [
    {
     "data": {
      "text/plain": [
       "0    0.5\n",
       "1    0.5\n",
       "Name: wnvpresent, dtype: float64"
      ]
     },
     "execution_count": 21,
     "metadata": {},
     "output_type": "execute_result"
    }
   ],
   "source": [
    "sm = SMOTE(random_state=42)\n",
    "\n",
    "x_train_sc, y_train = sm.fit_resample(x_train_sc,y_train)\n",
    "\n",
    "y_train.value_counts(normalize=True)"
   ]
  },
  {
   "cell_type": "markdown",
   "id": "104cbedb",
   "metadata": {},
   "source": [
    "---"
   ]
  },
  {
   "cell_type": "code",
   "execution_count": 22,
   "id": "858b781a",
   "metadata": {},
   "outputs": [
    {
     "name": "stdout",
     "output_type": "stream",
     "text": [
      "METRICS-->\n"
     ]
    },
    {
     "data": {
      "text/plain": [
       "{'model_name': 'lr_base_reg',\n",
       " 'model': 'lr',\n",
       " 'train_score': 0.8057329462989841,\n",
       " 'test_score': 0.7541254125412541,\n",
       " 'recall': 0.5887096774193549,\n",
       " 'specificity': 0.7630434782608696,\n",
       " 'precision': 0.11812297734627832,\n",
       " 'train_auc': 0.8751527212826059,\n",
       " 'test_auc': 0.7461448106591865,\n",
       " 'is_tuned': False}"
      ]
     },
     "metadata": {},
     "output_type": "display_data"
    },
    {
     "name": "stdout",
     "output_type": "stream",
     "text": [
      "True Negatives: 1755\n",
      "False Positives: 545\n",
      "False Negatives: 51\n",
      "True Positives: 73\n"
     ]
    }
   ],
   "source": [
    "lr_base_reg = get_model_scores('lr_base_reg', 'lr')"
   ]
  },
  {
   "cell_type": "code",
   "execution_count": 23,
   "id": "2063e490",
   "metadata": {},
   "outputs": [
    {
     "name": "stdout",
     "output_type": "stream",
     "text": [
      "METRICS-->\n"
     ]
    },
    {
     "data": {
      "text/plain": [
       "{'model_name': 'svm_base_reg',\n",
       " 'model': 'svm',\n",
       " 'train_score': 0.9130624092888244,\n",
       " 'test_score': 0.8407590759075908,\n",
       " 'recall': 0.4274193548387097,\n",
       " 'specificity': 0.8630434782608696,\n",
       " 'precision': 0.14402173913043478,\n",
       " 'train_auc': 0.9712810577160058,\n",
       " 'test_auc': 0.7514708976157083,\n",
       " 'is_tuned': False}"
      ]
     },
     "metadata": {},
     "output_type": "display_data"
    },
    {
     "name": "stdout",
     "output_type": "stream",
     "text": [
      "True Negatives: 1985\n",
      "False Positives: 315\n",
      "False Negatives: 71\n",
      "True Positives: 53\n"
     ]
    }
   ],
   "source": [
    "svm_base_reg = get_model_scores('svm_base_reg', 'svm')"
   ]
  },
  {
   "cell_type": "code",
   "execution_count": 24,
   "id": "113b60eb",
   "metadata": {},
   "outputs": [
    {
     "name": "stdout",
     "output_type": "stream",
     "text": [
      "[20:44:28] WARNING: C:/Users/Administrator/workspace/xgboost-win64_release_1.5.1/src/learner.cc:1115: Starting in XGBoost 1.3.0, the default evaluation metric used with the objective 'binary:logistic' was changed from 'error' to 'logloss'. Explicitly set eval_metric if you'd like to restore the old behavior.\n"
     ]
    },
    {
     "name": "stderr",
     "output_type": "stream",
     "text": [
      "C:\\Users\\Jayy Jangam\\.conda\\envs\\dsi\\lib\\site-packages\\xgboost\\sklearn.py:1224: UserWarning: The use of label encoder in XGBClassifier is deprecated and will be removed in a future release. To remove this warning, do the following: 1) Pass option use_label_encoder=False when constructing XGBClassifier object; and 2) Encode your labels (y) as integers starting with 0, i.e. 0, 1, 2, ..., [num_class - 1].\n",
      "  warnings.warn(label_encoder_deprecation_msg, UserWarning)\n"
     ]
    },
    {
     "name": "stdout",
     "output_type": "stream",
     "text": [
      "METRICS-->\n"
     ]
    },
    {
     "data": {
      "text/plain": [
       "{'model_name': 'xg_base_reg',\n",
       " 'model': 'xgb',\n",
       " 'train_score': 0.9776487663280116,\n",
       " 'test_score': 0.9426567656765676,\n",
       " 'recall': 0.08064516129032258,\n",
       " 'specificity': 0.9891304347826086,\n",
       " 'precision': 0.2857142857142857,\n",
       " 'train_auc': 0.9971802490304831,\n",
       " 'test_auc': 0.8572072230014025,\n",
       " 'is_tuned': False}"
      ]
     },
     "metadata": {},
     "output_type": "display_data"
    },
    {
     "name": "stdout",
     "output_type": "stream",
     "text": [
      "True Negatives: 2275\n",
      "False Positives: 25\n",
      "False Negatives: 114\n",
      "True Positives: 10\n"
     ]
    }
   ],
   "source": [
    "xg_base_reg = get_model_scores('xg_base_reg', 'xgb')"
   ]
  },
  {
   "cell_type": "code",
   "execution_count": 25,
   "id": "673015ac",
   "metadata": {},
   "outputs": [
    {
     "name": "stdout",
     "output_type": "stream",
     "text": [
      "METRICS-->\n"
     ]
    },
    {
     "data": {
      "text/plain": [
       "{'model_name': 'rf_base_reg',\n",
       " 'model': 'rf',\n",
       " 'train_score': 0.9918722786647315,\n",
       " 'test_score': 0.9418316831683168,\n",
       " 'recall': 0.06451612903225806,\n",
       " 'specificity': 0.9891304347826086,\n",
       " 'precision': 0.24242424242424243,\n",
       " 'train_auc': 0.9997510643093522,\n",
       " 'test_auc': 0.7902559607293127,\n",
       " 'is_tuned': False}"
      ]
     },
     "metadata": {},
     "output_type": "display_data"
    },
    {
     "name": "stdout",
     "output_type": "stream",
     "text": [
      "True Negatives: 2275\n",
      "False Positives: 25\n",
      "False Negatives: 116\n",
      "True Positives: 8\n"
     ]
    }
   ],
   "source": [
    "rf_base_reg = get_model_scores('rf_base_reg', 'rf')"
   ]
  },
  {
   "cell_type": "code",
   "execution_count": 26,
   "id": "8c0b0992",
   "metadata": {},
   "outputs": [
    {
     "name": "stdout",
     "output_type": "stream",
     "text": [
      "METRICS-->\n"
     ]
    },
    {
     "data": {
      "text/plain": [
       "{'model_name': 'et_base_reg',\n",
       " 'model': 'et',\n",
       " 'train_score': 0.9918722786647315,\n",
       " 'test_score': 0.941006600660066,\n",
       " 'recall': 0.07258064516129033,\n",
       " 'specificity': 0.9878260869565217,\n",
       " 'precision': 0.24324324324324326,\n",
       " 'train_auc': 0.9998393056131918,\n",
       " 'test_auc': 0.6866374474053296,\n",
       " 'is_tuned': False}"
      ]
     },
     "metadata": {},
     "output_type": "display_data"
    },
    {
     "name": "stdout",
     "output_type": "stream",
     "text": [
      "True Negatives: 2272\n",
      "False Positives: 28\n",
      "False Negatives: 115\n",
      "True Positives: 9\n"
     ]
    }
   ],
   "source": [
    "et_base_reg = get_model_scores('et_base_reg', 'et')"
   ]
  },
  {
   "cell_type": "code",
   "execution_count": 27,
   "id": "1f2d3b07",
   "metadata": {},
   "outputs": [
    {
     "name": "stdout",
     "output_type": "stream",
     "text": [
      "METRICS-->\n"
     ]
    },
    {
     "data": {
      "text/plain": [
       "{'model_name': 'gb_base_reg',\n",
       " 'model': 'gb',\n",
       " 'train_score': 0.9613207547169811,\n",
       " 'test_score': 0.9389438943894389,\n",
       " 'recall': 0.12903225806451613,\n",
       " 'specificity': 0.9826086956521739,\n",
       " 'precision': 0.2857142857142857,\n",
       " 'train_auc': 0.9908925453055584,\n",
       " 'test_auc': 0.8262903225806452,\n",
       " 'is_tuned': False}"
      ]
     },
     "metadata": {},
     "output_type": "display_data"
    },
    {
     "name": "stdout",
     "output_type": "stream",
     "text": [
      "True Negatives: 2260\n",
      "False Positives: 40\n",
      "False Negatives: 108\n",
      "True Positives: 16\n"
     ]
    }
   ],
   "source": [
    "gb_base_reg = get_model_scores('gb_base_reg', 'gb')"
   ]
  },
  {
   "cell_type": "code",
   "execution_count": 28,
   "id": "62a72dc3",
   "metadata": {},
   "outputs": [
    {
     "name": "stdout",
     "output_type": "stream",
     "text": [
      "METRICS-->\n"
     ]
    },
    {
     "data": {
      "text/plain": [
       "{'model_name': 'ada_base_reg',\n",
       " 'model': 'ada',\n",
       " 'train_score': 0.9402757619738752,\n",
       " 'test_score': 0.9261551155115512,\n",
       " 'recall': 0.18548387096774194,\n",
       " 'specificity': 0.9660869565217391,\n",
       " 'precision': 0.22772277227722773,\n",
       " 'train_auc': 0.9831208330787979,\n",
       " 'test_auc': 0.8237394810659187,\n",
       " 'is_tuned': False}"
      ]
     },
     "metadata": {},
     "output_type": "display_data"
    },
    {
     "name": "stdout",
     "output_type": "stream",
     "text": [
      "True Negatives: 2222\n",
      "False Positives: 78\n",
      "False Negatives: 101\n",
      "True Positives: 23\n"
     ]
    }
   ],
   "source": [
    "ada_base_reg = get_model_scores('ada_base_reg', 'ada')"
   ]
  },
  {
   "cell_type": "markdown",
   "id": "ce3fa598",
   "metadata": {},
   "source": [
    "Now let's evaluate all our models and see which model, and which dataset has performed the best. Based on this, we will decide which models to further tune.<br>\n",
    "The main metrics we are looking for are `recall` and `test_auc`."
   ]
  },
  {
   "cell_type": "code",
   "execution_count": null,
   "id": "43987ba5",
   "metadata": {},
   "outputs": [],
   "source": []
  },
  {
   "cell_type": "code",
   "execution_count": 34,
   "id": "6ce0a04a",
   "metadata": {},
   "outputs": [],
   "source": [
    "model_scores = pd.DataFrame(model_eval)"
   ]
  },
  {
   "cell_type": "code",
   "execution_count": 35,
   "id": "42082ca2",
   "metadata": {},
   "outputs": [
    {
     "data": {
      "text/html": [
       "<div>\n",
       "<style scoped>\n",
       "    .dataframe tbody tr th:only-of-type {\n",
       "        vertical-align: middle;\n",
       "    }\n",
       "\n",
       "    .dataframe tbody tr th {\n",
       "        vertical-align: top;\n",
       "    }\n",
       "\n",
       "    .dataframe thead th {\n",
       "        text-align: right;\n",
       "    }\n",
       "</style>\n",
       "<table border=\"1\" class=\"dataframe\">\n",
       "  <thead>\n",
       "    <tr style=\"text-align: right;\">\n",
       "      <th></th>\n",
       "      <th>model_name</th>\n",
       "      <th>model</th>\n",
       "      <th>recall</th>\n",
       "      <th>test_auc</th>\n",
       "    </tr>\n",
       "  </thead>\n",
       "  <tbody>\n",
       "    <tr>\n",
       "      <th>0</th>\n",
       "      <td>lr_base_multi</td>\n",
       "      <td>lr</td>\n",
       "      <td>0.604839</td>\n",
       "      <td>0.772993</td>\n",
       "    </tr>\n",
       "    <tr>\n",
       "      <th>7</th>\n",
       "      <td>lr_base_reg</td>\n",
       "      <td>lr</td>\n",
       "      <td>0.588710</td>\n",
       "      <td>0.746145</td>\n",
       "    </tr>\n",
       "    <tr>\n",
       "      <th>1</th>\n",
       "      <td>svm_base_multi</td>\n",
       "      <td>svm</td>\n",
       "      <td>0.451613</td>\n",
       "      <td>0.777312</td>\n",
       "    </tr>\n",
       "    <tr>\n",
       "      <th>8</th>\n",
       "      <td>svm_base_reg</td>\n",
       "      <td>svm</td>\n",
       "      <td>0.427419</td>\n",
       "      <td>0.751471</td>\n",
       "    </tr>\n",
       "    <tr>\n",
       "      <th>6</th>\n",
       "      <td>ada_base_multi</td>\n",
       "      <td>ada</td>\n",
       "      <td>0.387097</td>\n",
       "      <td>0.841541</td>\n",
       "    </tr>\n",
       "    <tr>\n",
       "      <th>5</th>\n",
       "      <td>gb_base_multi</td>\n",
       "      <td>gb</td>\n",
       "      <td>0.201613</td>\n",
       "      <td>0.833573</td>\n",
       "    </tr>\n",
       "    <tr>\n",
       "      <th>13</th>\n",
       "      <td>ada_base_reg</td>\n",
       "      <td>ada</td>\n",
       "      <td>0.185484</td>\n",
       "      <td>0.823739</td>\n",
       "    </tr>\n",
       "    <tr>\n",
       "      <th>12</th>\n",
       "      <td>gb_base_reg</td>\n",
       "      <td>gb</td>\n",
       "      <td>0.129032</td>\n",
       "      <td>0.826290</td>\n",
       "    </tr>\n",
       "    <tr>\n",
       "      <th>2</th>\n",
       "      <td>xg_base_multi</td>\n",
       "      <td>xgb</td>\n",
       "      <td>0.096774</td>\n",
       "      <td>0.852896</td>\n",
       "    </tr>\n",
       "    <tr>\n",
       "      <th>9</th>\n",
       "      <td>xg_base_reg</td>\n",
       "      <td>xgb</td>\n",
       "      <td>0.080645</td>\n",
       "      <td>0.857207</td>\n",
       "    </tr>\n",
       "    <tr>\n",
       "      <th>3</th>\n",
       "      <td>rf_base_multi</td>\n",
       "      <td>rf</td>\n",
       "      <td>0.072581</td>\n",
       "      <td>0.797095</td>\n",
       "    </tr>\n",
       "    <tr>\n",
       "      <th>11</th>\n",
       "      <td>et_base_reg</td>\n",
       "      <td>et</td>\n",
       "      <td>0.072581</td>\n",
       "      <td>0.686637</td>\n",
       "    </tr>\n",
       "    <tr>\n",
       "      <th>10</th>\n",
       "      <td>rf_base_reg</td>\n",
       "      <td>rf</td>\n",
       "      <td>0.064516</td>\n",
       "      <td>0.790256</td>\n",
       "    </tr>\n",
       "    <tr>\n",
       "      <th>4</th>\n",
       "      <td>et_base_multi</td>\n",
       "      <td>et</td>\n",
       "      <td>0.064516</td>\n",
       "      <td>0.701171</td>\n",
       "    </tr>\n",
       "  </tbody>\n",
       "</table>\n",
       "</div>"
      ],
      "text/plain": [
       "        model_name model    recall  test_auc\n",
       "0    lr_base_multi    lr  0.604839  0.772993\n",
       "7      lr_base_reg    lr  0.588710  0.746145\n",
       "1   svm_base_multi   svm  0.451613  0.777312\n",
       "8     svm_base_reg   svm  0.427419  0.751471\n",
       "6   ada_base_multi   ada  0.387097  0.841541\n",
       "5    gb_base_multi    gb  0.201613  0.833573\n",
       "13    ada_base_reg   ada  0.185484  0.823739\n",
       "12     gb_base_reg    gb  0.129032  0.826290\n",
       "2    xg_base_multi   xgb  0.096774  0.852896\n",
       "9      xg_base_reg   xgb  0.080645  0.857207\n",
       "3    rf_base_multi    rf  0.072581  0.797095\n",
       "11     et_base_reg    et  0.072581  0.686637\n",
       "10     rf_base_reg    rf  0.064516  0.790256\n",
       "4    et_base_multi    et  0.064516  0.701171"
      ]
     },
     "execution_count": 35,
     "metadata": {},
     "output_type": "execute_result"
    }
   ],
   "source": [
    "model_scores.sort_values(by=['recall', 'test_auc'], ascending=False)[['model_name', 'model', \n",
    "                                                                          'recall', 'test_auc']]"
   ]
  },
  {
   "cell_type": "markdown",
   "id": "1a8f57a0",
   "metadata": {},
   "source": [
    "Since our scores are better using the dataset with features having multi-collinearity, we will continue using that dataset moving foward."
   ]
  },
  {
   "cell_type": "code",
   "execution_count": 36,
   "id": "02be4f8d",
   "metadata": {},
   "outputs": [],
   "source": [
    "model_scores.to_csv('../data/base_model_scores.csv')"
   ]
  },
  {
   "cell_type": "code",
   "execution_count": null,
   "id": "6115e4ba",
   "metadata": {},
   "outputs": [],
   "source": []
  },
  {
   "cell_type": "code",
   "execution_count": null,
   "id": "d4762043",
   "metadata": {},
   "outputs": [],
   "source": []
  },
  {
   "cell_type": "code",
   "execution_count": null,
   "id": "32f9d323",
   "metadata": {},
   "outputs": [],
   "source": []
  },
  {
   "cell_type": "code",
   "execution_count": null,
   "id": "14e5fe55",
   "metadata": {},
   "outputs": [],
   "source": []
  },
  {
   "cell_type": "code",
   "execution_count": 28,
   "id": "b03a44a6",
   "metadata": {},
   "outputs": [
    {
     "data": {
      "text/plain": [
       "0.9569264955894103"
      ]
     },
     "metadata": {},
     "output_type": "display_data"
    },
    {
     "data": {
      "text/plain": [
       "0.9585867361714451"
      ]
     },
     "metadata": {},
     "output_type": "display_data"
    },
    {
     "data": {
      "text/plain": [
       "0.9306930693069307"
      ]
     },
     "metadata": {},
     "output_type": "display_data"
    }
   ],
   "source": [
    "lr = LogisticRegression()\n",
    "\n",
    "lr_scores = cross_val_score(lr, x_train_sc , y_train, cv=5)\n",
    "\n",
    "lr.fit(x_train_sc,y_train)\n",
    "\n",
    "display(np.mean(lr_scores))\n",
    "\n",
    "display(lr.score(x_train_sc,y_train))\n",
    "\n",
    "display(lr.score(x_test_sc,y_test))"
   ]
  },
  {
   "cell_type": "code",
   "execution_count": 39,
   "id": "516b7b06",
   "metadata": {},
   "outputs": [],
   "source": [
    "predictions = lr.predict(x_test_sc)\n",
    "tn, fp, fn, tp = confusion_matrix(y_test, predictions).ravel()\n",
    "y_test_pred_prob = lr.predict_proba(x_test_sc)[:,1]\n",
    "y_train_pred_prob = lr.predict_proba(x_train_sc)[:,1]\n",
    "\n",
    "train_auc = roc_auc_score(y_train, y_train_pred_prob)\n",
    "test_auc = roc_auc_score(y_test, y_test_pred_prob)\n",
    "\n",
    "display(train_auc)\n",
    "display(test_auc)"
   ]
  },
  {
   "cell_type": "code",
   "execution_count": 44,
   "id": "9606e335",
   "metadata": {},
   "outputs": [
    {
     "data": {
      "text/plain": [
       "0.9556238522757143"
      ]
     },
     "metadata": {},
     "output_type": "display_data"
    },
    {
     "data": {
      "text/plain": [
       "0.9614827686070084"
      ]
     },
     "metadata": {},
     "output_type": "display_data"
    },
    {
     "data": {
      "text/plain": [
       "0.9352310231023102"
      ]
     },
     "metadata": {},
     "output_type": "display_data"
    }
   ],
   "source": [
    "svm = SVC(probability=True)\n",
    "\n",
    "svm_scores = cross_val_score(svm, x_train_sc , y_train, cv=5)\n",
    "\n",
    "svm.fit(x_train_sc,y_train)\n",
    "\n",
    "display(np.mean(svm_scores))\n",
    "\n",
    "display(svm.score(x_train_sc,y_train))\n",
    "\n",
    "display(svm.score(x_test_sc,y_test))"
   ]
  },
  {
   "cell_type": "code",
   "execution_count": 45,
   "id": "58773052",
   "metadata": {},
   "outputs": [
    {
     "data": {
      "text/plain": [
       "0.9937922123146546"
      ]
     },
     "metadata": {},
     "output_type": "display_data"
    },
    {
     "data": {
      "text/plain": [
       "0.7117353640230173"
      ]
     },
     "metadata": {},
     "output_type": "display_data"
    }
   ],
   "source": [
    "predictions = svm.predict(x_test_sc)\n",
    "tn, fp, fn, tp = confusion_matrix(y_test, predictions).ravel()\n",
    "y_test_pred_prob = svm.predict_proba(x_test_sc)[:,1]\n",
    "y_train_pred_prob = svm.predict_proba(x_train_sc)[:,1]\n",
    "\n",
    "train_auc = roc_auc_score(y_train, y_train_pred_prob)\n",
    "test_auc = roc_auc_score(y_test, y_test_pred_prob)\n",
    "\n",
    "display(train_auc)\n",
    "display(test_auc)"
   ]
  }
 ],
 "metadata": {
  "kernelspec": {
   "display_name": "Python 3 (ipykernel)",
   "language": "python",
   "name": "python3"
  },
  "language_info": {
   "codemirror_mode": {
    "name": "ipython",
    "version": 3
   },
   "file_extension": ".py",
   "mimetype": "text/x-python",
   "name": "python",
   "nbconvert_exporter": "python",
   "pygments_lexer": "ipython3",
   "version": "3.8.12"
  }
 },
 "nbformat": 4,
 "nbformat_minor": 5
}
