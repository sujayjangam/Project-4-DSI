{
 "cells": [
  {
   "cell_type": "markdown",
   "id": "8deb295b",
   "metadata": {},
   "source": [
    "# EDA"
   ]
  },
  {
   "cell_type": "markdown",
   "id": "f547830a",
   "metadata": {},
   "source": [
    "## Table of contents\n",
    "1. [Training Data](#train)\n",
    "2. [Testing Data](#test)\n",
    "3. [Spraying Data](#spray)\n",
    "4. [Weather Data](#weather)\n"
   ]
  },
  {
   "cell_type": "markdown",
   "id": "cc48212e",
   "metadata": {},
   "source": [
    "## External Research"
   ]
  },
  {
   "cell_type": "markdown",
   "id": "49c4acec",
   "metadata": {},
   "source": [
    "https://www.chicago.gov/city/en/depts/cdph/provdrs/healthy_living/news/2021/august/city-to-spray-insecticide-wednesday-to-kill-mosquitoes.html\n",
    "2021 mosquito spraying adulticide zenivax"
   ]
  },
  {
   "cell_type": "markdown",
   "id": "19130d7e",
   "metadata": {},
   "source": [
    "## Imports"
   ]
  },
  {
   "cell_type": "code",
   "execution_count": 1,
   "id": "6ee04d2a",
   "metadata": {},
   "outputs": [],
   "source": [
    "import pandas as pd\n",
    "import numpy as np\n",
    "import matplotlib.pyplot as plt\n",
    "import seaborn as sns\n",
    "import math\n",
    "import datetime as dt\n",
    "import re\n"
   ]
  },
  {
   "cell_type": "code",
   "execution_count": 2,
   "id": "b9af8951",
   "metadata": {},
   "outputs": [],
   "source": [
    "# Reading in the data\n",
    "test_clean = pd.read_csv('../data/test_clean.csv')\n",
    "train_clean = pd.read_csv('../data/train_clean.csv')\n",
    "weather_clean = pd.read_csv('../data/weather_Clean.csv')"
   ]
  },
  {
   "cell_type": "markdown",
   "id": "69f5a00c",
   "metadata": {},
   "source": [
    "## Training Data\n",
    "---"
   ]
  },
  {
   "cell_type": "code",
   "execution_count": 3,
   "id": "5eb070ec",
   "metadata": {},
   "outputs": [],
   "source": [
    "#function to convert coordinates to radians before calculating distance between 2 coordinates\n",
    "def get_distance(lat1, lon1, lat2, lon2):\n",
    "    \"\"\"\n",
    "    This function takes the latitudes and longitudes of two points and returns the distance between them in km where\n",
    "    - lat1: the latitude of the first point\n",
    "    - lon1: the longitude of the first point\n",
    "    - lat2: the latitude of the second point\n",
    "    - lon2: the longitude of the second point\n",
    "    - R: the radius of the Earth in km\n",
    "    - C: the central angle between the two points in radians\n",
    "    - temp: a temporary variable to account for 3 dimensionality\n",
    "    \"\"\"\n",
    "    R = 6373.0\n",
    "    lat1, lon1, lat2, lon2 = map(math.radians, [lat1, lon1, lat2, lon2])\n",
    "    dlon = lon2 - lon1\n",
    "    dlat = lat2 - lat1\n",
    "    temp = (\n",
    "         math.sin(dlat / 2) ** 2\n",
    "       + math.cos(lat1)\n",
    "       * math.cos(lat2)\n",
    "       * math.sin(dlon / 2) ** 2\n",
    "    )\n",
    "    C = (2 * math.atan2(math.sqrt(temp), math.sqrt(1 - temp)))\n",
    "    distance = R * C\n",
    "    return distance\n",
    "\n",
    "#function to calculate nearest station from trap according to distance\n",
    "def nearest_station(trap_lat, trap_lon):\n",
    "    \"\"\"\n",
    "    This function takes the latitude and longitude of a point (trap) and returns the station that the point is closer to \n",
    "    (station 1 or station 2)\n",
    "    - trap_lat: the latitude of the trap\n",
    "    - trap_lon: the longitude of the trap\n",
    "    - station1_lat: the latitude of station 1 = 41.995\n",
    "    - station1_lon: the longitude of station 1= -87.933\n",
    "    - station2_lat: the latitude of station 2 = 41.786\n",
    "    - station2_lon: the longitude of station 2 = -87.752\n",
    "    - dist_station1: the distance to station 1\n",
    "    - dist_station2: the distance to station 2\n",
    "    \"\"\"\n",
    "    station1_lat = 41.995\n",
    "    station1_lon = -87.933\n",
    "    station2_lat = 41.786\n",
    "    station2_lon = -87.752\n",
    "    #calculates trap distance with station 1 / 2\n",
    "    dist_station1 = get_distance(station1_lat,station1_lon,trap_lat,trap_lon)\n",
    "    dist_station2 = get_distance(station2_lat,station2_lon,trap_lat,trap_lon)\n",
    "    #comparing distances\n",
    "    if dist_station1 > dist_station2:\n",
    "        return 2\n",
    "    else:\n",
    "        return 1"
   ]
  },
  {
   "cell_type": "code",
   "execution_count": 4,
   "id": "4d966cf0",
   "metadata": {},
   "outputs": [],
   "source": [
    "\n",
    "train_clean['station'] = train_clean.apply(lambda x: nearest_station(x.latitude,x.longitude), axis = 1)\n",
    "test_clean['station'] = test_clean.apply(lambda x: nearest_station(x.latitude,x.longitude), axis = 1)\n",
    "train_clean['date'] = pd.to_datetime(train_clean['date'])\n",
    "test_clean['date'] = pd.to_datetime(test_clean['date'])\n",
    "\n",
    "weather_clean['date'] = pd.to_datetime(weather_clean['date'])\n",
    "\n"
   ]
  },
  {
   "cell_type": "code",
   "execution_count": 5,
   "id": "5adc06ed",
   "metadata": {},
   "outputs": [
    {
     "data": {
      "text/html": [
       "<div>\n",
       "<style scoped>\n",
       "    .dataframe tbody tr th:only-of-type {\n",
       "        vertical-align: middle;\n",
       "    }\n",
       "\n",
       "    .dataframe tbody tr th {\n",
       "        vertical-align: top;\n",
       "    }\n",
       "\n",
       "    .dataframe thead th {\n",
       "        text-align: right;\n",
       "    }\n",
       "</style>\n",
       "<table border=\"1\" class=\"dataframe\">\n",
       "  <thead>\n",
       "    <tr style=\"text-align: right;\">\n",
       "      <th></th>\n",
       "      <th>station</th>\n",
       "      <th>date</th>\n",
       "      <th>tmax</th>\n",
       "      <th>tmin</th>\n",
       "      <th>tavg</th>\n",
       "      <th>dewpoint</th>\n",
       "      <th>wetbulb</th>\n",
       "      <th>heat</th>\n",
       "      <th>cool</th>\n",
       "      <th>sunrise</th>\n",
       "      <th>...</th>\n",
       "      <th>preciptotal</th>\n",
       "      <th>stnpressure</th>\n",
       "      <th>sealevel</th>\n",
       "      <th>resultspeed</th>\n",
       "      <th>resultdir</th>\n",
       "      <th>avgspeed</th>\n",
       "      <th>year</th>\n",
       "      <th>month</th>\n",
       "      <th>week</th>\n",
       "      <th>weekday</th>\n",
       "    </tr>\n",
       "  </thead>\n",
       "  <tbody>\n",
       "    <tr>\n",
       "      <th>0</th>\n",
       "      <td>1</td>\n",
       "      <td>2007-05-01</td>\n",
       "      <td>83</td>\n",
       "      <td>50</td>\n",
       "      <td>67.0</td>\n",
       "      <td>51</td>\n",
       "      <td>56.0</td>\n",
       "      <td>0.0</td>\n",
       "      <td>2.0</td>\n",
       "      <td>04:48:00</td>\n",
       "      <td>...</td>\n",
       "      <td>0.000</td>\n",
       "      <td>29.10</td>\n",
       "      <td>29.82</td>\n",
       "      <td>1.7</td>\n",
       "      <td>27</td>\n",
       "      <td>9.2</td>\n",
       "      <td>2007</td>\n",
       "      <td>5</td>\n",
       "      <td>18</td>\n",
       "      <td>2</td>\n",
       "    </tr>\n",
       "    <tr>\n",
       "      <th>1</th>\n",
       "      <td>2</td>\n",
       "      <td>2007-05-01</td>\n",
       "      <td>84</td>\n",
       "      <td>52</td>\n",
       "      <td>68.0</td>\n",
       "      <td>51</td>\n",
       "      <td>57.0</td>\n",
       "      <td>0.0</td>\n",
       "      <td>3.0</td>\n",
       "      <td>04:48:00</td>\n",
       "      <td>...</td>\n",
       "      <td>0.000</td>\n",
       "      <td>29.18</td>\n",
       "      <td>29.82</td>\n",
       "      <td>2.7</td>\n",
       "      <td>25</td>\n",
       "      <td>9.6</td>\n",
       "      <td>2007</td>\n",
       "      <td>5</td>\n",
       "      <td>18</td>\n",
       "      <td>2</td>\n",
       "    </tr>\n",
       "    <tr>\n",
       "      <th>2</th>\n",
       "      <td>1</td>\n",
       "      <td>2007-05-02</td>\n",
       "      <td>59</td>\n",
       "      <td>42</td>\n",
       "      <td>51.0</td>\n",
       "      <td>42</td>\n",
       "      <td>47.0</td>\n",
       "      <td>14.0</td>\n",
       "      <td>0.0</td>\n",
       "      <td>04:47:00</td>\n",
       "      <td>...</td>\n",
       "      <td>0.000</td>\n",
       "      <td>29.38</td>\n",
       "      <td>30.09</td>\n",
       "      <td>13.0</td>\n",
       "      <td>4</td>\n",
       "      <td>13.4</td>\n",
       "      <td>2007</td>\n",
       "      <td>5</td>\n",
       "      <td>18</td>\n",
       "      <td>3</td>\n",
       "    </tr>\n",
       "    <tr>\n",
       "      <th>3</th>\n",
       "      <td>2</td>\n",
       "      <td>2007-05-02</td>\n",
       "      <td>60</td>\n",
       "      <td>43</td>\n",
       "      <td>52.0</td>\n",
       "      <td>42</td>\n",
       "      <td>47.0</td>\n",
       "      <td>13.0</td>\n",
       "      <td>0.0</td>\n",
       "      <td>04:47:00</td>\n",
       "      <td>...</td>\n",
       "      <td>0.000</td>\n",
       "      <td>29.44</td>\n",
       "      <td>30.08</td>\n",
       "      <td>13.3</td>\n",
       "      <td>2</td>\n",
       "      <td>13.4</td>\n",
       "      <td>2007</td>\n",
       "      <td>5</td>\n",
       "      <td>18</td>\n",
       "      <td>3</td>\n",
       "    </tr>\n",
       "    <tr>\n",
       "      <th>4</th>\n",
       "      <td>1</td>\n",
       "      <td>2007-05-03</td>\n",
       "      <td>66</td>\n",
       "      <td>46</td>\n",
       "      <td>56.0</td>\n",
       "      <td>40</td>\n",
       "      <td>48.0</td>\n",
       "      <td>9.0</td>\n",
       "      <td>0.0</td>\n",
       "      <td>04:46:00</td>\n",
       "      <td>...</td>\n",
       "      <td>0.000</td>\n",
       "      <td>29.39</td>\n",
       "      <td>30.12</td>\n",
       "      <td>11.7</td>\n",
       "      <td>7</td>\n",
       "      <td>11.9</td>\n",
       "      <td>2007</td>\n",
       "      <td>5</td>\n",
       "      <td>18</td>\n",
       "      <td>4</td>\n",
       "    </tr>\n",
       "    <tr>\n",
       "      <th>...</th>\n",
       "      <td>...</td>\n",
       "      <td>...</td>\n",
       "      <td>...</td>\n",
       "      <td>...</td>\n",
       "      <td>...</td>\n",
       "      <td>...</td>\n",
       "      <td>...</td>\n",
       "      <td>...</td>\n",
       "      <td>...</td>\n",
       "      <td>...</td>\n",
       "      <td>...</td>\n",
       "      <td>...</td>\n",
       "      <td>...</td>\n",
       "      <td>...</td>\n",
       "      <td>...</td>\n",
       "      <td>...</td>\n",
       "      <td>...</td>\n",
       "      <td>...</td>\n",
       "      <td>...</td>\n",
       "      <td>...</td>\n",
       "      <td>...</td>\n",
       "    </tr>\n",
       "    <tr>\n",
       "      <th>2939</th>\n",
       "      <td>2</td>\n",
       "      <td>2014-10-29</td>\n",
       "      <td>49</td>\n",
       "      <td>40</td>\n",
       "      <td>45.0</td>\n",
       "      <td>34</td>\n",
       "      <td>42.0</td>\n",
       "      <td>20.0</td>\n",
       "      <td>0.0</td>\n",
       "      <td>06:20:00</td>\n",
       "      <td>...</td>\n",
       "      <td>0.000</td>\n",
       "      <td>29.42</td>\n",
       "      <td>30.07</td>\n",
       "      <td>8.5</td>\n",
       "      <td>29</td>\n",
       "      <td>9.0</td>\n",
       "      <td>2014</td>\n",
       "      <td>10</td>\n",
       "      <td>44</td>\n",
       "      <td>3</td>\n",
       "    </tr>\n",
       "    <tr>\n",
       "      <th>2940</th>\n",
       "      <td>1</td>\n",
       "      <td>2014-10-30</td>\n",
       "      <td>51</td>\n",
       "      <td>32</td>\n",
       "      <td>42.0</td>\n",
       "      <td>34</td>\n",
       "      <td>40.0</td>\n",
       "      <td>23.0</td>\n",
       "      <td>0.0</td>\n",
       "      <td>06:22:00</td>\n",
       "      <td>...</td>\n",
       "      <td>0.000</td>\n",
       "      <td>29.34</td>\n",
       "      <td>30.09</td>\n",
       "      <td>5.1</td>\n",
       "      <td>24</td>\n",
       "      <td>5.5</td>\n",
       "      <td>2014</td>\n",
       "      <td>10</td>\n",
       "      <td>44</td>\n",
       "      <td>4</td>\n",
       "    </tr>\n",
       "    <tr>\n",
       "      <th>2941</th>\n",
       "      <td>2</td>\n",
       "      <td>2014-10-30</td>\n",
       "      <td>53</td>\n",
       "      <td>37</td>\n",
       "      <td>45.0</td>\n",
       "      <td>35</td>\n",
       "      <td>42.0</td>\n",
       "      <td>20.0</td>\n",
       "      <td>0.0</td>\n",
       "      <td>06:22:00</td>\n",
       "      <td>...</td>\n",
       "      <td>0.005</td>\n",
       "      <td>29.41</td>\n",
       "      <td>30.10</td>\n",
       "      <td>5.9</td>\n",
       "      <td>23</td>\n",
       "      <td>6.5</td>\n",
       "      <td>2014</td>\n",
       "      <td>10</td>\n",
       "      <td>44</td>\n",
       "      <td>4</td>\n",
       "    </tr>\n",
       "    <tr>\n",
       "      <th>2942</th>\n",
       "      <td>1</td>\n",
       "      <td>2014-10-31</td>\n",
       "      <td>47</td>\n",
       "      <td>33</td>\n",
       "      <td>40.0</td>\n",
       "      <td>25</td>\n",
       "      <td>33.0</td>\n",
       "      <td>25.0</td>\n",
       "      <td>0.0</td>\n",
       "      <td>06:23:00</td>\n",
       "      <td>...</td>\n",
       "      <td>0.030</td>\n",
       "      <td>29.49</td>\n",
       "      <td>30.20</td>\n",
       "      <td>22.6</td>\n",
       "      <td>34</td>\n",
       "      <td>22.9</td>\n",
       "      <td>2014</td>\n",
       "      <td>10</td>\n",
       "      <td>44</td>\n",
       "      <td>5</td>\n",
       "    </tr>\n",
       "    <tr>\n",
       "      <th>2943</th>\n",
       "      <td>2</td>\n",
       "      <td>2014-10-31</td>\n",
       "      <td>49</td>\n",
       "      <td>34</td>\n",
       "      <td>42.0</td>\n",
       "      <td>29</td>\n",
       "      <td>36.0</td>\n",
       "      <td>23.0</td>\n",
       "      <td>0.0</td>\n",
       "      <td>06:23:00</td>\n",
       "      <td>...</td>\n",
       "      <td>0.040</td>\n",
       "      <td>29.54</td>\n",
       "      <td>30.20</td>\n",
       "      <td>21.7</td>\n",
       "      <td>34</td>\n",
       "      <td>22.6</td>\n",
       "      <td>2014</td>\n",
       "      <td>10</td>\n",
       "      <td>44</td>\n",
       "      <td>5</td>\n",
       "    </tr>\n",
       "  </tbody>\n",
       "</table>\n",
       "<p>2944 rows × 22 columns</p>\n",
       "</div>"
      ],
      "text/plain": [
       "      station       date  tmax  tmin  tavg  dewpoint  wetbulb  heat  cool  \\\n",
       "0           1 2007-05-01    83    50  67.0        51     56.0   0.0   2.0   \n",
       "1           2 2007-05-01    84    52  68.0        51     57.0   0.0   3.0   \n",
       "2           1 2007-05-02    59    42  51.0        42     47.0  14.0   0.0   \n",
       "3           2 2007-05-02    60    43  52.0        42     47.0  13.0   0.0   \n",
       "4           1 2007-05-03    66    46  56.0        40     48.0   9.0   0.0   \n",
       "...       ...        ...   ...   ...   ...       ...      ...   ...   ...   \n",
       "2939        2 2014-10-29    49    40  45.0        34     42.0  20.0   0.0   \n",
       "2940        1 2014-10-30    51    32  42.0        34     40.0  23.0   0.0   \n",
       "2941        2 2014-10-30    53    37  45.0        35     42.0  20.0   0.0   \n",
       "2942        1 2014-10-31    47    33  40.0        25     33.0  25.0   0.0   \n",
       "2943        2 2014-10-31    49    34  42.0        29     36.0  23.0   0.0   \n",
       "\n",
       "       sunrise  ... preciptotal stnpressure  sealevel  resultspeed  resultdir  \\\n",
       "0     04:48:00  ...       0.000       29.10     29.82          1.7         27   \n",
       "1     04:48:00  ...       0.000       29.18     29.82          2.7         25   \n",
       "2     04:47:00  ...       0.000       29.38     30.09         13.0          4   \n",
       "3     04:47:00  ...       0.000       29.44     30.08         13.3          2   \n",
       "4     04:46:00  ...       0.000       29.39     30.12         11.7          7   \n",
       "...        ...  ...         ...         ...       ...          ...        ...   \n",
       "2939  06:20:00  ...       0.000       29.42     30.07          8.5         29   \n",
       "2940  06:22:00  ...       0.000       29.34     30.09          5.1         24   \n",
       "2941  06:22:00  ...       0.005       29.41     30.10          5.9         23   \n",
       "2942  06:23:00  ...       0.030       29.49     30.20         22.6         34   \n",
       "2943  06:23:00  ...       0.040       29.54     30.20         21.7         34   \n",
       "\n",
       "      avgspeed  year  month  week  weekday  \n",
       "0          9.2  2007      5    18        2  \n",
       "1          9.6  2007      5    18        2  \n",
       "2         13.4  2007      5    18        3  \n",
       "3         13.4  2007      5    18        3  \n",
       "4         11.9  2007      5    18        4  \n",
       "...        ...   ...    ...   ...      ...  \n",
       "2939       9.0  2014     10    44        3  \n",
       "2940       5.5  2014     10    44        4  \n",
       "2941       6.5  2014     10    44        4  \n",
       "2942      22.9  2014     10    44        5  \n",
       "2943      22.6  2014     10    44        5  \n",
       "\n",
       "[2944 rows x 22 columns]"
      ]
     },
     "execution_count": 5,
     "metadata": {},
     "output_type": "execute_result"
    }
   ],
   "source": [
    "weather_clean"
   ]
  },
  {
   "cell_type": "code",
   "execution_count": 6,
   "id": "543d2fd1",
   "metadata": {},
   "outputs": [],
   "source": [
    "# Creating a merged dataset of weather and train dataframes\n",
    "weather_train_df = pd.merge(train_clean, weather_clean, on =['station', 'year','date', 'month', 'week', 'weekday'])"
   ]
  },
  {
   "cell_type": "code",
   "execution_count": 7,
   "id": "b64c30b9",
   "metadata": {},
   "outputs": [
    {
     "data": {
      "text/html": [
       "<div>\n",
       "<style scoped>\n",
       "    .dataframe tbody tr th:only-of-type {\n",
       "        vertical-align: middle;\n",
       "    }\n",
       "\n",
       "    .dataframe tbody tr th {\n",
       "        vertical-align: top;\n",
       "    }\n",
       "\n",
       "    .dataframe thead th {\n",
       "        text-align: right;\n",
       "    }\n",
       "</style>\n",
       "<table border=\"1\" class=\"dataframe\">\n",
       "  <thead>\n",
       "    <tr style=\"text-align: right;\">\n",
       "      <th></th>\n",
       "      <th>date</th>\n",
       "      <th>address</th>\n",
       "      <th>species</th>\n",
       "      <th>block</th>\n",
       "      <th>street</th>\n",
       "      <th>trap</th>\n",
       "      <th>addressnumberandstreet</th>\n",
       "      <th>latitude</th>\n",
       "      <th>longitude</th>\n",
       "      <th>addressaccuracy</th>\n",
       "      <th>...</th>\n",
       "      <th>cool</th>\n",
       "      <th>sunrise</th>\n",
       "      <th>sunset</th>\n",
       "      <th>codesum</th>\n",
       "      <th>preciptotal</th>\n",
       "      <th>stnpressure</th>\n",
       "      <th>sealevel</th>\n",
       "      <th>resultspeed</th>\n",
       "      <th>resultdir</th>\n",
       "      <th>avgspeed</th>\n",
       "    </tr>\n",
       "  </thead>\n",
       "  <tbody>\n",
       "    <tr>\n",
       "      <th>0</th>\n",
       "      <td>2007-05-29</td>\n",
       "      <td>4100 North Oak Park Avenue, Chicago, IL 60634,...</td>\n",
       "      <td>CULEX PIPIENS/RESTUANS</td>\n",
       "      <td>41</td>\n",
       "      <td>N OAK PARK AVE</td>\n",
       "      <td>T002</td>\n",
       "      <td>4100  N OAK PARK AVE, Chicago, IL</td>\n",
       "      <td>41.954690</td>\n",
       "      <td>-87.800991</td>\n",
       "      <td>9</td>\n",
       "      <td>...</td>\n",
       "      <td>9.0</td>\n",
       "      <td>04:21:00</td>\n",
       "      <td>19:17:00</td>\n",
       "      <td>['BR', 'HZ']</td>\n",
       "      <td>0.0</td>\n",
       "      <td>29.39</td>\n",
       "      <td>30.11</td>\n",
       "      <td>5.8</td>\n",
       "      <td>18</td>\n",
       "      <td>6.5</td>\n",
       "    </tr>\n",
       "    <tr>\n",
       "      <th>1</th>\n",
       "      <td>2007-05-29</td>\n",
       "      <td>4100 North Oak Park Avenue, Chicago, IL 60634,...</td>\n",
       "      <td>CULEX RESTUANS</td>\n",
       "      <td>41</td>\n",
       "      <td>N OAK PARK AVE</td>\n",
       "      <td>T002</td>\n",
       "      <td>4100  N OAK PARK AVE, Chicago, IL</td>\n",
       "      <td>41.954690</td>\n",
       "      <td>-87.800991</td>\n",
       "      <td>9</td>\n",
       "      <td>...</td>\n",
       "      <td>9.0</td>\n",
       "      <td>04:21:00</td>\n",
       "      <td>19:17:00</td>\n",
       "      <td>['BR', 'HZ']</td>\n",
       "      <td>0.0</td>\n",
       "      <td>29.39</td>\n",
       "      <td>30.11</td>\n",
       "      <td>5.8</td>\n",
       "      <td>18</td>\n",
       "      <td>6.5</td>\n",
       "    </tr>\n",
       "    <tr>\n",
       "      <th>2</th>\n",
       "      <td>2007-05-29</td>\n",
       "      <td>6200 North Mandell Avenue, Chicago, IL 60646, USA</td>\n",
       "      <td>CULEX RESTUANS</td>\n",
       "      <td>62</td>\n",
       "      <td>N MANDELL AVE</td>\n",
       "      <td>T007</td>\n",
       "      <td>6200  N MANDELL AVE, Chicago, IL</td>\n",
       "      <td>41.994991</td>\n",
       "      <td>-87.769279</td>\n",
       "      <td>9</td>\n",
       "      <td>...</td>\n",
       "      <td>9.0</td>\n",
       "      <td>04:21:00</td>\n",
       "      <td>19:17:00</td>\n",
       "      <td>['BR', 'HZ']</td>\n",
       "      <td>0.0</td>\n",
       "      <td>29.39</td>\n",
       "      <td>30.11</td>\n",
       "      <td>5.8</td>\n",
       "      <td>18</td>\n",
       "      <td>6.5</td>\n",
       "    </tr>\n",
       "    <tr>\n",
       "      <th>3</th>\n",
       "      <td>2007-05-29</td>\n",
       "      <td>7900 West Foster Avenue, Chicago, IL 60656, USA</td>\n",
       "      <td>CULEX PIPIENS/RESTUANS</td>\n",
       "      <td>79</td>\n",
       "      <td>W FOSTER AVE</td>\n",
       "      <td>T015</td>\n",
       "      <td>7900  W FOSTER AVE, Chicago, IL</td>\n",
       "      <td>41.974089</td>\n",
       "      <td>-87.824812</td>\n",
       "      <td>8</td>\n",
       "      <td>...</td>\n",
       "      <td>9.0</td>\n",
       "      <td>04:21:00</td>\n",
       "      <td>19:17:00</td>\n",
       "      <td>['BR', 'HZ']</td>\n",
       "      <td>0.0</td>\n",
       "      <td>29.39</td>\n",
       "      <td>30.11</td>\n",
       "      <td>5.8</td>\n",
       "      <td>18</td>\n",
       "      <td>6.5</td>\n",
       "    </tr>\n",
       "    <tr>\n",
       "      <th>4</th>\n",
       "      <td>2007-05-29</td>\n",
       "      <td>7900 West Foster Avenue, Chicago, IL 60656, USA</td>\n",
       "      <td>CULEX RESTUANS</td>\n",
       "      <td>79</td>\n",
       "      <td>W FOSTER AVE</td>\n",
       "      <td>T015</td>\n",
       "      <td>7900  W FOSTER AVE, Chicago, IL</td>\n",
       "      <td>41.974089</td>\n",
       "      <td>-87.824812</td>\n",
       "      <td>8</td>\n",
       "      <td>...</td>\n",
       "      <td>9.0</td>\n",
       "      <td>04:21:00</td>\n",
       "      <td>19:17:00</td>\n",
       "      <td>['BR', 'HZ']</td>\n",
       "      <td>0.0</td>\n",
       "      <td>29.39</td>\n",
       "      <td>30.11</td>\n",
       "      <td>5.8</td>\n",
       "      <td>18</td>\n",
       "      <td>6.5</td>\n",
       "    </tr>\n",
       "  </tbody>\n",
       "</table>\n",
       "<p>5 rows × 33 columns</p>\n",
       "</div>"
      ],
      "text/plain": [
       "        date                                            address  \\\n",
       "0 2007-05-29  4100 North Oak Park Avenue, Chicago, IL 60634,...   \n",
       "1 2007-05-29  4100 North Oak Park Avenue, Chicago, IL 60634,...   \n",
       "2 2007-05-29  6200 North Mandell Avenue, Chicago, IL 60646, USA   \n",
       "3 2007-05-29    7900 West Foster Avenue, Chicago, IL 60656, USA   \n",
       "4 2007-05-29    7900 West Foster Avenue, Chicago, IL 60656, USA   \n",
       "\n",
       "                  species  block           street  trap  \\\n",
       "0  CULEX PIPIENS/RESTUANS     41   N OAK PARK AVE  T002   \n",
       "1          CULEX RESTUANS     41   N OAK PARK AVE  T002   \n",
       "2          CULEX RESTUANS     62    N MANDELL AVE  T007   \n",
       "3  CULEX PIPIENS/RESTUANS     79     W FOSTER AVE  T015   \n",
       "4          CULEX RESTUANS     79     W FOSTER AVE  T015   \n",
       "\n",
       "              addressnumberandstreet   latitude  longitude  addressaccuracy  \\\n",
       "0  4100  N OAK PARK AVE, Chicago, IL  41.954690 -87.800991                9   \n",
       "1  4100  N OAK PARK AVE, Chicago, IL  41.954690 -87.800991                9   \n",
       "2   6200  N MANDELL AVE, Chicago, IL  41.994991 -87.769279                9   \n",
       "3    7900  W FOSTER AVE, Chicago, IL  41.974089 -87.824812                8   \n",
       "4    7900  W FOSTER AVE, Chicago, IL  41.974089 -87.824812                8   \n",
       "\n",
       "   ...  cool   sunrise    sunset       codesum  preciptotal  stnpressure  \\\n",
       "0  ...   9.0  04:21:00  19:17:00  ['BR', 'HZ']          0.0        29.39   \n",
       "1  ...   9.0  04:21:00  19:17:00  ['BR', 'HZ']          0.0        29.39   \n",
       "2  ...   9.0  04:21:00  19:17:00  ['BR', 'HZ']          0.0        29.39   \n",
       "3  ...   9.0  04:21:00  19:17:00  ['BR', 'HZ']          0.0        29.39   \n",
       "4  ...   9.0  04:21:00  19:17:00  ['BR', 'HZ']          0.0        29.39   \n",
       "\n",
       "   sealevel  resultspeed  resultdir  avgspeed  \n",
       "0     30.11          5.8         18       6.5  \n",
       "1     30.11          5.8         18       6.5  \n",
       "2     30.11          5.8         18       6.5  \n",
       "3     30.11          5.8         18       6.5  \n",
       "4     30.11          5.8         18       6.5  \n",
       "\n",
       "[5 rows x 33 columns]"
      ]
     },
     "execution_count": 7,
     "metadata": {},
     "output_type": "execute_result"
    }
   ],
   "source": [
    "weather_train_df.head()"
   ]
  },
  {
   "cell_type": "code",
   "execution_count": 8,
   "id": "cc016497",
   "metadata": {},
   "outputs": [
    {
     "data": {
      "text/plain": [
       "(9693, 33)"
      ]
     },
     "execution_count": 8,
     "metadata": {},
     "output_type": "execute_result"
    }
   ],
   "source": [
    "# sanity check to ensure merge is successful\n",
    "weather_train_df.shape"
   ]
  },
  {
   "cell_type": "markdown",
   "id": "09a869b6",
   "metadata": {},
   "source": [
    "From just looking at the head of our training data we can already tell that there are some instances of rows with exactly the same data values in all columns apart from `species`. This is due to the event of multiple species of mosquitoes being identified when the trap is collected. In the interest of obtaining more accurate insights in our EDA, we will use a dataframe (`single_samples`) without these instances for when the instances are not relevant i.e. if `species`, `nummosquito`, `wnvpresent` are not required.\n"
   ]
  },
  {
   "cell_type": "code",
   "execution_count": 9,
   "id": "3d3f4bf7",
   "metadata": {},
   "outputs": [],
   "source": [
    "# Getting all columns in our training data apart from 'species'\n",
    "train_cols = [ col for col in train_clean.columns if col != 'species']"
   ]
  },
  {
   "cell_type": "code",
   "execution_count": 10,
   "id": "6eb85815",
   "metadata": {},
   "outputs": [],
   "source": [
    "# Assigning the training data with no duplicates to single_samples\n",
    "single_samples = train_clean.drop_duplicates(subset=train_cols)"
   ]
  },
  {
   "cell_type": "code",
   "execution_count": 11,
   "id": "5342d1a0",
   "metadata": {},
   "outputs": [
    {
     "data": {
      "text/plain": [
       "(8994, 17)"
      ]
     },
     "execution_count": 11,
     "metadata": {},
     "output_type": "execute_result"
    }
   ],
   "source": [
    " # Shape of single_samples\n",
    "single_samples.shape"
   ]
  },
  {
   "cell_type": "code",
   "execution_count": 12,
   "id": "9d560b85",
   "metadata": {},
   "outputs": [
    {
     "data": {
      "text/plain": [
       "Text(0, 0.5, 'Number of Traps Collected')"
      ]
     },
     "execution_count": 12,
     "metadata": {},
     "output_type": "execute_result"
    },
    {
     "data": {
      "image/png": "[encoded data removed]",
      "text/plain": [
       "<Figure size 432x288 with 1 Axes>"
      ]
     },
     "metadata": {
      "needs_background": "light"
     },
     "output_type": "display_data"
    }
   ],
   "source": [
    "# Plotting bar chart of sampling occurrences by year\n",
    "plt.tight_layout()\n",
    "plt.title('Distribution of Traps Collected by Year', fontsize=14)\n",
    "plt.bar(single_samples['year'].value_counts().sort_index().index,\n",
    "        single_samples['year'].value_counts().sort_index())\n",
    "plt.xlabel('Year', labelpad=10, fontsize=12)\n",
    "plt.xticks(ticks=single_samples['year'].value_counts().sort_index().index, \n",
    "           labels=single_samples['year'].value_counts().sort_index().index,)\n",
    "plt.ylabel('Number of Traps Collected', fontsize=12)"
   ]
  },
  {
   "cell_type": "markdown",
   "id": "33786802",
   "metadata": {},
   "source": [
    "- From the above figure, we can see that the sampling was not consistent over the four years, with the most amount of sampling occurring in 2007 and the least amount of sampling in 2011"
   ]
  },
  {
   "cell_type": "markdown",
   "id": "f3b49f0b",
   "metadata": {},
   "source": [
    "<a name=traps_month></a>"
   ]
  },
  {
   "cell_type": "code",
   "execution_count": 13,
   "id": "2f40acec",
   "metadata": {
    "scrolled": false
   },
   "outputs": [
    {
     "data": {
      "text/plain": [
       "Text(45.0, 0.5, 'Number of Traps Collected')"
      ]
     },
     "execution_count": 13,
     "metadata": {},
     "output_type": "execute_result"
    },
    {
     "data": {
      "image/png": "[encoded data removed]",
      "text/plain": [
       "<Figure size 576x288 with 1 Axes>"
      ]
     },
     "metadata": {
      "needs_background": "light"
     },
     "output_type": "display_data"
    }
   ],
   "source": [
    "# Plotting bar chart of sampling occurrences by month\n",
    "plt.figure(figsize=(8,4))\n",
    "plt.title('Distribution of Traps Collected by Month', fontsize=14)\n",
    "plt.tight_layout()\n",
    "plt.bar(single_samples['month'].value_counts().sort_index().index,\n",
    "        single_samples['month'].value_counts().sort_index())\n",
    "plt.xlabel('Month', labelpad=10, fontsize=12)\n",
    "plt.xticks(ticks=single_samples['month'].value_counts().sort_index().index, \n",
    "           labels=['May', 'June', 'July', 'August', 'September', 'October',])\n",
    "plt.ylabel('Number of Traps Collected', fontsize=12)"
   ]
  },
  {
   "cell_type": "markdown",
   "id": "b9848323",
   "metadata": {},
   "source": [
    "\n",
    "- The sampling is extremely skewed; there was a lot more sampling done from June to September, presumably as this is the warmest months in Chicago and so there would be a greater number of mosquitoes"
   ]
  },
  {
   "cell_type": "code",
   "execution_count": 14,
   "id": "20d93770",
   "metadata": {},
   "outputs": [
    {
     "data": {
      "text/plain": [
       "Text(81.0, 0.5, 'Number of Traps Collected')"
      ]
     },
     "execution_count": 14,
     "metadata": {},
     "output_type": "execute_result"
    },
    {
     "data": {
      "image/png": "[encoded data removed]",
      "text/plain": [
       "<Figure size 864x288 with 1 Axes>"
      ]
     },
     "metadata": {
      "needs_background": "light"
     },
     "output_type": "display_data"
    }
   ],
   "source": [
    "# Plotting bar chart of sampling occurrences by week\n",
    "plt.figure(figsize=(12,4))\n",
    "plt.title('Distribution of Traps Collected by Week', fontsize=14)\n",
    "plt.tight_layout()\n",
    "plt.bar(single_samples['week'].value_counts().sort_index().index,\n",
    "        single_samples['week'].value_counts().sort_index())\n",
    "plt.xlabel('Week Beginning\\n(Week)', labelpad=10, fontsize=12)\n",
    "plt.xticks(ticks=single_samples['week'].value_counts().sort_index().index, \n",
    "           labels=['30/05\\n(22)', '06/06\\n(23)', '13/06\\n(24)', '20/06\\n(25)', '27/06\\n(26)', '04/07\\n(27)', \n",
    "                   '11/07\\n(28)', '18/07\\n(29)', '25/07\\n(30)', '01/08\\n(31)', '08/08\\n(32)', \n",
    "                   '15/08\\n(33)', '22/08\\n(34)', '29/08\\n(35)', '05/09\\n(36)', '12/09\\n(37)', \n",
    "                   '19/09\\n(38)', '26/09\\n(39)', '03/10\\n(40)', '10/10\\n(41)'], rotation=42)\n",
    "plt.ylabel('Number of Traps Collected', fontsize=12)"
   ]
  },
  {
   "cell_type": "code",
   "execution_count": 15,
   "id": "20029c03",
   "metadata": {},
   "outputs": [
    {
     "data": {
      "text/html": [
       "<div>\n",
       "<style scoped>\n",
       "    .dataframe tbody tr th:only-of-type {\n",
       "        vertical-align: middle;\n",
       "    }\n",
       "\n",
       "    .dataframe tbody tr th {\n",
       "        vertical-align: top;\n",
       "    }\n",
       "\n",
       "    .dataframe thead th {\n",
       "        text-align: right;\n",
       "    }\n",
       "</style>\n",
       "<table border=\"1\" class=\"dataframe\">\n",
       "  <thead>\n",
       "    <tr style=\"text-align: right;\">\n",
       "      <th></th>\n",
       "      <th></th>\n",
       "      <th>block</th>\n",
       "      <th>latitude</th>\n",
       "      <th>longitude</th>\n",
       "      <th>addressaccuracy</th>\n",
       "      <th>nummosquitos</th>\n",
       "      <th>wnvpresent</th>\n",
       "      <th>year</th>\n",
       "      <th>month</th>\n",
       "      <th>weekday</th>\n",
       "      <th>station</th>\n",
       "      <th>...</th>\n",
       "      <th>dewpoint</th>\n",
       "      <th>wetbulb</th>\n",
       "      <th>heat</th>\n",
       "      <th>cool</th>\n",
       "      <th>preciptotal</th>\n",
       "      <th>stnpressure</th>\n",
       "      <th>sealevel</th>\n",
       "      <th>resultspeed</th>\n",
       "      <th>resultdir</th>\n",
       "      <th>avgspeed</th>\n",
       "    </tr>\n",
       "    <tr>\n",
       "      <th>week</th>\n",
       "      <th>date</th>\n",
       "      <th></th>\n",
       "      <th></th>\n",
       "      <th></th>\n",
       "      <th></th>\n",
       "      <th></th>\n",
       "      <th></th>\n",
       "      <th></th>\n",
       "      <th></th>\n",
       "      <th></th>\n",
       "      <th></th>\n",
       "      <th></th>\n",
       "      <th></th>\n",
       "      <th></th>\n",
       "      <th></th>\n",
       "      <th></th>\n",
       "      <th></th>\n",
       "      <th></th>\n",
       "      <th></th>\n",
       "      <th></th>\n",
       "      <th></th>\n",
       "      <th></th>\n",
       "    </tr>\n",
       "  </thead>\n",
       "  <tbody>\n",
       "    <tr>\n",
       "      <th rowspan=\"2\" valign=\"top\">22</th>\n",
       "      <th>2007-05-29</th>\n",
       "      <td>906</td>\n",
       "      <td>1046.922110</td>\n",
       "      <td>-2192.404258</td>\n",
       "      <td>198</td>\n",
       "      <td>40</td>\n",
       "      <td>0</td>\n",
       "      <td>50175</td>\n",
       "      <td>125</td>\n",
       "      <td>50</td>\n",
       "      <td>43</td>\n",
       "      <td>...</td>\n",
       "      <td>1468</td>\n",
       "      <td>1643.0</td>\n",
       "      <td>0.0</td>\n",
       "      <td>279.0</td>\n",
       "      <td>0.00</td>\n",
       "      <td>735.65</td>\n",
       "      <td>752.39</td>\n",
       "      <td>145.0</td>\n",
       "      <td>414</td>\n",
       "      <td>178.7</td>\n",
       "    </tr>\n",
       "    <tr>\n",
       "      <th>2009-05-28</th>\n",
       "      <td>2121</td>\n",
       "      <td>2425.908697</td>\n",
       "      <td>-5085.647096</td>\n",
       "      <td>459</td>\n",
       "      <td>187</td>\n",
       "      <td>0</td>\n",
       "      <td>116522</td>\n",
       "      <td>290</td>\n",
       "      <td>232</td>\n",
       "      <td>100</td>\n",
       "      <td>...</td>\n",
       "      <td>2958</td>\n",
       "      <td>3132.0</td>\n",
       "      <td>322.0</td>\n",
       "      <td>0.0</td>\n",
       "      <td>0.00</td>\n",
       "      <td>1687.58</td>\n",
       "      <td>1725.66</td>\n",
       "      <td>394.4</td>\n",
       "      <td>1698</td>\n",
       "      <td>478.2</td>\n",
       "    </tr>\n",
       "    <tr>\n",
       "      <th rowspan=\"3\" valign=\"top\">23</th>\n",
       "      <th>2007-06-05</th>\n",
       "      <td>2217</td>\n",
       "      <td>2512.953427</td>\n",
       "      <td>-5262.973680</td>\n",
       "      <td>492</td>\n",
       "      <td>127</td>\n",
       "      <td>0</td>\n",
       "      <td>120420</td>\n",
       "      <td>360</td>\n",
       "      <td>120</td>\n",
       "      <td>95</td>\n",
       "      <td>...</td>\n",
       "      <td>2845</td>\n",
       "      <td>3095.0</td>\n",
       "      <td>505.0</td>\n",
       "      <td>0.0</td>\n",
       "      <td>19.95</td>\n",
       "      <td>1748.10</td>\n",
       "      <td>1787.05</td>\n",
       "      <td>347.0</td>\n",
       "      <td>230</td>\n",
       "      <td>473.5</td>\n",
       "    </tr>\n",
       "    <tr>\n",
       "      <th>2009-06-02</th>\n",
       "      <td>3289</td>\n",
       "      <td>3849.021683</td>\n",
       "      <td>-8067.769334</td>\n",
       "      <td>744</td>\n",
       "      <td>613</td>\n",
       "      <td>0</td>\n",
       "      <td>184828</td>\n",
       "      <td>552</td>\n",
       "      <td>184</td>\n",
       "      <td>163</td>\n",
       "      <td>...</td>\n",
       "      <td>4303</td>\n",
       "      <td>4671.0</td>\n",
       "      <td>870.0</td>\n",
       "      <td>0.0</td>\n",
       "      <td>6.78</td>\n",
       "      <td>2705.38</td>\n",
       "      <td>2766.86</td>\n",
       "      <td>744.7</td>\n",
       "      <td>276</td>\n",
       "      <td>821.2</td>\n",
       "    </tr>\n",
       "    <tr>\n",
       "      <th>2009-06-03</th>\n",
       "      <td>130</td>\n",
       "      <td>545.637177</td>\n",
       "      <td>-1142.658755</td>\n",
       "      <td>109</td>\n",
       "      <td>298</td>\n",
       "      <td>0</td>\n",
       "      <td>26117</td>\n",
       "      <td>78</td>\n",
       "      <td>39</td>\n",
       "      <td>13</td>\n",
       "      <td>...</td>\n",
       "      <td>507</td>\n",
       "      <td>598.0</td>\n",
       "      <td>169.0</td>\n",
       "      <td>0.0</td>\n",
       "      <td>0.00</td>\n",
       "      <td>382.46</td>\n",
       "      <td>391.95</td>\n",
       "      <td>136.5</td>\n",
       "      <td>52</td>\n",
       "      <td>139.1</td>\n",
       "    </tr>\n",
       "    <tr>\n",
       "      <th>...</th>\n",
       "      <th>...</th>\n",
       "      <td>...</td>\n",
       "      <td>...</td>\n",
       "      <td>...</td>\n",
       "      <td>...</td>\n",
       "      <td>...</td>\n",
       "      <td>...</td>\n",
       "      <td>...</td>\n",
       "      <td>...</td>\n",
       "      <td>...</td>\n",
       "      <td>...</td>\n",
       "      <td>...</td>\n",
       "      <td>...</td>\n",
       "      <td>...</td>\n",
       "      <td>...</td>\n",
       "      <td>...</td>\n",
       "      <td>...</td>\n",
       "      <td>...</td>\n",
       "      <td>...</td>\n",
       "      <td>...</td>\n",
       "      <td>...</td>\n",
       "      <td>...</td>\n",
       "    </tr>\n",
       "    <tr>\n",
       "      <th rowspan=\"2\" valign=\"top\">39</th>\n",
       "      <th>2011-09-30</th>\n",
       "      <td>2220</td>\n",
       "      <td>2555.457130</td>\n",
       "      <td>-5352.582095</td>\n",
       "      <td>487</td>\n",
       "      <td>184</td>\n",
       "      <td>0</td>\n",
       "      <td>122671</td>\n",
       "      <td>549</td>\n",
       "      <td>305</td>\n",
       "      <td>89</td>\n",
       "      <td>...</td>\n",
       "      <td>2529</td>\n",
       "      <td>2867.0</td>\n",
       "      <td>798.0</td>\n",
       "      <td>0.0</td>\n",
       "      <td>7.73</td>\n",
       "      <td>1789.92</td>\n",
       "      <td>1830.33</td>\n",
       "      <td>913.0</td>\n",
       "      <td>2074</td>\n",
       "      <td>951.4</td>\n",
       "    </tr>\n",
       "    <tr>\n",
       "      <th>2013-09-26</th>\n",
       "      <td>3411</td>\n",
       "      <td>3848.634187</td>\n",
       "      <td>-8067.805347</td>\n",
       "      <td>724</td>\n",
       "      <td>505</td>\n",
       "      <td>4</td>\n",
       "      <td>185196</td>\n",
       "      <td>828</td>\n",
       "      <td>368</td>\n",
       "      <td>159</td>\n",
       "      <td>...</td>\n",
       "      <td>4784</td>\n",
       "      <td>5336.0</td>\n",
       "      <td>50.0</td>\n",
       "      <td>0.0</td>\n",
       "      <td>0.00</td>\n",
       "      <td>2703.30</td>\n",
       "      <td>2763.68</td>\n",
       "      <td>369.7</td>\n",
       "      <td>803</td>\n",
       "      <td>413.2</td>\n",
       "    </tr>\n",
       "    <tr>\n",
       "      <th rowspan=\"2\" valign=\"top\">40</th>\n",
       "      <th>2007-10-04</th>\n",
       "      <td>7677</td>\n",
       "      <td>7743.056292</td>\n",
       "      <td>-16224.837114</td>\n",
       "      <td>1511</td>\n",
       "      <td>1373</td>\n",
       "      <td>2</td>\n",
       "      <td>371295</td>\n",
       "      <td>1850</td>\n",
       "      <td>740</td>\n",
       "      <td>320</td>\n",
       "      <td>...</td>\n",
       "      <td>10360</td>\n",
       "      <td>11420.0</td>\n",
       "      <td>0.0</td>\n",
       "      <td>775.0</td>\n",
       "      <td>0.00</td>\n",
       "      <td>5434.65</td>\n",
       "      <td>5556.05</td>\n",
       "      <td>816.0</td>\n",
       "      <td>3145</td>\n",
       "      <td>1026.5</td>\n",
       "    </tr>\n",
       "    <tr>\n",
       "      <th>2009-10-01</th>\n",
       "      <td>2006</td>\n",
       "      <td>2719.700664</td>\n",
       "      <td>-5701.427094</td>\n",
       "      <td>511</td>\n",
       "      <td>212</td>\n",
       "      <td>0</td>\n",
       "      <td>130585</td>\n",
       "      <td>650</td>\n",
       "      <td>260</td>\n",
       "      <td>109</td>\n",
       "      <td>...</td>\n",
       "      <td>2990</td>\n",
       "      <td>3185.0</td>\n",
       "      <td>887.0</td>\n",
       "      <td>0.0</td>\n",
       "      <td>44.65</td>\n",
       "      <td>1895.65</td>\n",
       "      <td>1943.50</td>\n",
       "      <td>578.3</td>\n",
       "      <td>845</td>\n",
       "      <td>582.3</td>\n",
       "    </tr>\n",
       "    <tr>\n",
       "      <th>41</th>\n",
       "      <th>2007-10-09</th>\n",
       "      <td>654</td>\n",
       "      <td>1084.439687</td>\n",
       "      <td>-2276.880248</td>\n",
       "      <td>154</td>\n",
       "      <td>333</td>\n",
       "      <td>0</td>\n",
       "      <td>52182</td>\n",
       "      <td>260</td>\n",
       "      <td>52</td>\n",
       "      <td>51</td>\n",
       "      <td>...</td>\n",
       "      <td>1144</td>\n",
       "      <td>1378.0</td>\n",
       "      <td>27.0</td>\n",
       "      <td>0.0</td>\n",
       "      <td>0.00</td>\n",
       "      <td>760.96</td>\n",
       "      <td>778.19</td>\n",
       "      <td>314.0</td>\n",
       "      <td>728</td>\n",
       "      <td>345.3</td>\n",
       "    </tr>\n",
       "  </tbody>\n",
       "</table>\n",
       "<p>95 rows × 23 columns</p>\n",
       "</div>"
      ],
      "text/plain": [
       "                 block     latitude     longitude  addressaccuracy  \\\n",
       "week date                                                            \n",
       "22   2007-05-29    906  1046.922110  -2192.404258              198   \n",
       "     2009-05-28   2121  2425.908697  -5085.647096              459   \n",
       "23   2007-06-05   2217  2512.953427  -5262.973680              492   \n",
       "     2009-06-02   3289  3849.021683  -8067.769334              744   \n",
       "     2009-06-03    130   545.637177  -1142.658755              109   \n",
       "...                ...          ...           ...              ...   \n",
       "39   2011-09-30   2220  2555.457130  -5352.582095              487   \n",
       "     2013-09-26   3411  3848.634187  -8067.805347              724   \n",
       "40   2007-10-04   7677  7743.056292 -16224.837114             1511   \n",
       "     2009-10-01   2006  2719.700664  -5701.427094              511   \n",
       "41   2007-10-09    654  1084.439687  -2276.880248              154   \n",
       "\n",
       "                 nummosquitos  wnvpresent    year  month  weekday  station  \\\n",
       "week date                                                                    \n",
       "22   2007-05-29            40           0   50175    125       50       43   \n",
       "     2009-05-28           187           0  116522    290      232      100   \n",
       "23   2007-06-05           127           0  120420    360      120       95   \n",
       "     2009-06-02           613           0  184828    552      184      163   \n",
       "     2009-06-03           298           0   26117     78       39       13   \n",
       "...                       ...         ...     ...    ...      ...      ...   \n",
       "39   2011-09-30           184           0  122671    549      305       89   \n",
       "     2013-09-26           505           4  185196    828      368      159   \n",
       "40   2007-10-04          1373           2  371295   1850      740      320   \n",
       "     2009-10-01           212           0  130585    650      260      109   \n",
       "41   2007-10-09           333           0   52182    260       52       51   \n",
       "\n",
       "                 ...  dewpoint  wetbulb   heat   cool  preciptotal  \\\n",
       "week date        ...                                                 \n",
       "22   2007-05-29  ...      1468   1643.0    0.0  279.0         0.00   \n",
       "     2009-05-28  ...      2958   3132.0  322.0    0.0         0.00   \n",
       "23   2007-06-05  ...      2845   3095.0  505.0    0.0        19.95   \n",
       "     2009-06-02  ...      4303   4671.0  870.0    0.0         6.78   \n",
       "     2009-06-03  ...       507    598.0  169.0    0.0         0.00   \n",
       "...              ...       ...      ...    ...    ...          ...   \n",
       "39   2011-09-30  ...      2529   2867.0  798.0    0.0         7.73   \n",
       "     2013-09-26  ...      4784   5336.0   50.0    0.0         0.00   \n",
       "40   2007-10-04  ...     10360  11420.0    0.0  775.0         0.00   \n",
       "     2009-10-01  ...      2990   3185.0  887.0    0.0        44.65   \n",
       "41   2007-10-09  ...      1144   1378.0   27.0    0.0         0.00   \n",
       "\n",
       "                 stnpressure  sealevel  resultspeed  resultdir  avgspeed  \n",
       "week date                                                                 \n",
       "22   2007-05-29       735.65    752.39        145.0        414     178.7  \n",
       "     2009-05-28      1687.58   1725.66        394.4       1698     478.2  \n",
       "23   2007-06-05      1748.10   1787.05        347.0        230     473.5  \n",
       "     2009-06-02      2705.38   2766.86        744.7        276     821.2  \n",
       "     2009-06-03       382.46    391.95        136.5         52     139.1  \n",
       "...                      ...       ...          ...        ...       ...  \n",
       "39   2011-09-30      1789.92   1830.33        913.0       2074     951.4  \n",
       "     2013-09-26      2703.30   2763.68        369.7        803     413.2  \n",
       "40   2007-10-04      5434.65   5556.05        816.0       3145    1026.5  \n",
       "     2009-10-01      1895.65   1943.50        578.3        845     582.3  \n",
       "41   2007-10-09       760.96    778.19        314.0        728     345.3  \n",
       "\n",
       "[95 rows x 23 columns]"
      ]
     },
     "execution_count": 15,
     "metadata": {},
     "output_type": "execute_result"
    }
   ],
   "source": [
    "weather_train_df.groupby(['week', 'date']).sum()"
   ]
  },
  {
   "cell_type": "markdown",
   "id": "dcf2afac",
   "metadata": {},
   "source": [
    "- Similarly, the sampling done on a weekly basis was inconsistent, with the greatest disparity being the week starting the 4th of July which is likely due to the American holiday Independence Day\n",
    "- That a week beginning on a public holiday resulted in fewer samples/traps being collected suggests that this is rather that, for whatever reason, the number of traps lain each week is due to human fault, as opposed to a consistent number of traps being set out each week that caught no mosquitoes when they were collected, and hence were not logged"
   ]
  },
  {
   "cell_type": "code",
   "execution_count": 16,
   "id": "c3c98ea6",
   "metadata": {},
   "outputs": [
    {
     "data": {
      "text/plain": [
       "Text(45.0, 0.5, 'Number of Sampling Occurrences')"
      ]
     },
     "execution_count": 16,
     "metadata": {},
     "output_type": "execute_result"
    },
    {
     "data": {
      "image/png": "[encoded data removed]",
      "text/plain": [
       "<Figure size 576x288 with 1 Axes>"
      ]
     },
     "metadata": {
      "needs_background": "light"
     },
     "output_type": "display_data"
    }
   ],
   "source": [
    "# Plotting bar chart of sampling occurrences by weekday\n",
    "plt.figure(figsize=(8,4))\n",
    "plt.title('Distribution of Sampling Occurrences by Weekday')\n",
    "plt.tight_layout()\n",
    "plt.bar(single_samples['weekday'].value_counts().sort_index().index,\n",
    "        single_samples['weekday'].value_counts().sort_index())\n",
    "plt.xlabel('Day of Week', labelpad=10, fontsize=12)\n",
    "plt.xticks(ticks=single_samples['weekday'].value_counts().sort_index().index, \n",
    "           labels=['Monday', 'Tuesday', 'Wednesday', 'Thursday', 'Friday'],)\n",
    "plt.ylabel('Number of Sampling Occurrences', fontsize=12)"
   ]
  },
  {
   "cell_type": "markdown",
   "id": "c76502de",
   "metadata": {},
   "source": [
    "- Sampling done was also unequal over weekdays, with no sampling done on weekends and Friday being the most popular day for traps to be collected, and Tuesday the least popular"
   ]
  },
  {
   "cell_type": "markdown",
   "id": "3cb658fb",
   "metadata": {},
   "source": [
    "### `wnvpresent`"
   ]
  },
  {
   "cell_type": "code",
   "execution_count": 18,
   "id": "0dbc1d2b",
   "metadata": {},
   "outputs": [
    {
     "data": {
      "text/html": [
       "<div>\n",
       "<style scoped>\n",
       "    .dataframe tbody tr th:only-of-type {\n",
       "        vertical-align: middle;\n",
       "    }\n",
       "\n",
       "    .dataframe tbody tr th {\n",
       "        vertical-align: top;\n",
       "    }\n",
       "\n",
       "    .dataframe thead th {\n",
       "        text-align: right;\n",
       "    }\n",
       "</style>\n",
       "<table border=\"1\" class=\"dataframe\">\n",
       "  <thead>\n",
       "    <tr style=\"text-align: right;\">\n",
       "      <th></th>\n",
       "      <th>block</th>\n",
       "      <th>latitude</th>\n",
       "      <th>longitude</th>\n",
       "      <th>addressaccuracy</th>\n",
       "      <th>nummosquitos</th>\n",
       "      <th>wnvpresent</th>\n",
       "      <th>year</th>\n",
       "      <th>month</th>\n",
       "      <th>week</th>\n",
       "      <th>weekday</th>\n",
       "      <th>station</th>\n",
       "    </tr>\n",
       "    <tr>\n",
       "      <th>species</th>\n",
       "      <th></th>\n",
       "      <th></th>\n",
       "      <th></th>\n",
       "      <th></th>\n",
       "      <th></th>\n",
       "      <th></th>\n",
       "      <th></th>\n",
       "      <th></th>\n",
       "      <th></th>\n",
       "      <th></th>\n",
       "      <th></th>\n",
       "    </tr>\n",
       "  </thead>\n",
       "  <tbody>\n",
       "    <tr>\n",
       "      <th>CULEX PIPIENS</th>\n",
       "      <td>7928</td>\n",
       "      <td>8706.099281</td>\n",
       "      <td>-18245.628233</td>\n",
       "      <td>1643</td>\n",
       "      <td>5129</td>\n",
       "      <td>208</td>\n",
       "      <td>417996</td>\n",
       "      <td>1718</td>\n",
       "      <td>7113</td>\n",
       "      <td>754</td>\n",
       "      <td>329</td>\n",
       "    </tr>\n",
       "    <tr>\n",
       "      <th>CULEX PIPIENS/RESTUANS</th>\n",
       "      <td>9661</td>\n",
       "      <td>10299.471321</td>\n",
       "      <td>-21583.501046</td>\n",
       "      <td>1995</td>\n",
       "      <td>6352</td>\n",
       "      <td>246</td>\n",
       "      <td>494598</td>\n",
       "      <td>2009</td>\n",
       "      <td>8299</td>\n",
       "      <td>925</td>\n",
       "      <td>374</td>\n",
       "    </tr>\n",
       "    <tr>\n",
       "      <th>CULEX RESTUANS</th>\n",
       "      <td>1620</td>\n",
       "      <td>2051.621354</td>\n",
       "      <td>-4299.174964</td>\n",
       "      <td>392</td>\n",
       "      <td>667</td>\n",
       "      <td>49</td>\n",
       "      <td>98559</td>\n",
       "      <td>378</td>\n",
       "      <td>1561</td>\n",
       "      <td>191</td>\n",
       "      <td>78</td>\n",
       "    </tr>\n",
       "  </tbody>\n",
       "</table>\n",
       "</div>"
      ],
      "text/plain": [
       "                        block      latitude     longitude  addressaccuracy  \\\n",
       "species                                                                      \n",
       "CULEX PIPIENS            7928   8706.099281 -18245.628233             1643   \n",
       "CULEX PIPIENS/RESTUANS   9661  10299.471321 -21583.501046             1995   \n",
       "CULEX RESTUANS           1620   2051.621354  -4299.174964              392   \n",
       "\n",
       "                        nummosquitos  wnvpresent    year  month  week  \\\n",
       "species                                                                 \n",
       "CULEX PIPIENS                   5129         208  417996   1718  7113   \n",
       "CULEX PIPIENS/RESTUANS          6352         246  494598   2009  8299   \n",
       "CULEX RESTUANS                   667          49   98559    378  1561   \n",
       "\n",
       "                        weekday  station  \n",
       "species                                   \n",
       "CULEX PIPIENS               754      329  \n",
       "CULEX PIPIENS/RESTUANS      925      374  \n",
       "CULEX RESTUANS              191       78  "
      ]
     },
     "execution_count": 18,
     "metadata": {},
     "output_type": "execute_result"
    }
   ],
   "source": [
    "train_clean[train_clean['wnvpresent']==1].groupby(by='species').sum()"
   ]
  },
  {
   "cell_type": "code",
   "execution_count": 19,
   "id": "9fd19ed9",
   "metadata": {},
   "outputs": [
    {
     "data": {
      "image/png": "[encoded data removed]",
      "text/plain": [
       "<Figure size 576x288 with 1 Axes>"
      ]
     },
     "metadata": {
      "needs_background": "light"
     },
     "output_type": "display_data"
    }
   ],
   "source": [
    "# Plotting the presence of West Nile Virus among different species of Mosquitoes\n",
    "plt.figure(figsize=(8,4))\n",
    "moz_wnv = train_clean[train_clean['wnvpresent']==1].groupby(by='species').sum().reset_index()\n",
    "sns.barplot(data=moz_wnv, x='nummosquitos', y='species', color='#4986B6', orient='h')\n",
    "plt.title('West Nile Virus in Mosquito Species');"
   ]
  },
  {
   "cell_type": "markdown",
   "id": "d7965cd4",
   "metadata": {},
   "source": [
    "- From the above chart, we can see that the West Nile Virus is only present in Culex Pipiens and Culex Restuans, Culex Pipiens/Restuans being the assigned name to mosquitoes that were unable to be defininitively identified as one or the other."
   ]
  },
  {
   "cell_type": "code",
   "execution_count": 44,
   "id": "d895c138",
   "metadata": {},
   "outputs": [
    {
     "data": {
      "text/plain": [
       "Text(0, 0.5, 'Percentage of Mosquitoes \\nInfected with WNV (%)')"
      ]
     },
     "execution_count": 44,
     "metadata": {},
     "output_type": "execute_result"
    },
    {
     "data": {
      "text/plain": [
       "<Figure size 432x288 with 0 Axes>"
      ]
     },
     "metadata": {},
     "output_type": "display_data"
    },
    {
     "data": {
      "image/png": "[encoded data removed]",
      "text/plain": [
       "<Figure size 576x288 with 1 Axes>"
      ]
     },
     "metadata": {
      "needs_background": "light"
     },
     "output_type": "display_data"
    }
   ],
   "source": [
    "# Plotting the percentage of mosquitoes that were infected with WNV per year\n",
    "plt.tight_layout()\n",
    "plt.figure(figsize=(8,4))\n",
    "plt.title('Rate of West Nile Virus Infection in Mosquitoes by Year', fontsize=14)\n",
    "\n",
    "plt.bar(train_clean.groupby(by='year').sum().index,\n",
    "        weather_train_df[weather_train_df['wnvpresent']==1].groupby('year')['nummosquitos'].sum() / \n",
    "        weather_train_df.groupby('year')['nummosquitos'].sum() * 100)\n",
    "\n",
    "plt.xlabel('Year', labelpad=10, fontsize=12)\n",
    "plt.xticks(ticks=train_clean.groupby(by='year').sum().index, \n",
    "           labels=train_clean.groupby(by='year').sum().index,)\n",
    "plt.ylabel('Percentage of Mosquitoes \\nInfected with WNV (%)', fontsize=12)"
   ]
  },
  {
   "cell_type": "markdown",
   "id": "0919d580",
   "metadata": {},
   "source": [
    "- From the above chart, we can note that the proportion of mosquitoes that carried the West Nile Virus was much higher in 2013 and 2007 than in 2009 and 2011\n",
    "- This is due to a lower amount of sampling done in each 2009 and 2011. If more sampling were done, we would be able to have a clearer picutre of the trend of WNV virus infection over the years"
   ]
  },
  {
   "cell_type": "code",
   "execution_count": 22,
   "id": "2c53812e",
   "metadata": {
    "scrolled": false
   },
   "outputs": [
    {
     "data": {
      "text/plain": [
       "Text(0, 0.5, 'Number of Mosquitoes Infected with WNV')"
      ]
     },
     "execution_count": 22,
     "metadata": {},
     "output_type": "execute_result"
    },
    {
     "data": {
      "text/plain": [
       "<Figure size 432x288 with 0 Axes>"
      ]
     },
     "metadata": {},
     "output_type": "display_data"
    },
    {
     "data": {
      "image/png": "[encoded data removed]",
      "text/plain": [
       "<Figure size 576x288 with 1 Axes>"
      ]
     },
     "metadata": {
      "needs_background": "light"
     },
     "output_type": "display_data"
    }
   ],
   "source": [
    "# plotting the number of WNV-infected mosquitoes per month\n",
    "plt.tight_layout()\n",
    "plt.figure(figsize=(8,4))\n",
    "plt.title('Mosquitoes infected with West Nile Virus per trap per Month', fontsize=14)\n",
    "\n",
    "weather_train_df[weather_train_df['wnvpresent']==1].groupby('month')['nummosquitos'].mean().plot.bar(color='#4986B6')\n",
    "\n",
    "plt.xlabel('Month', labelpad=10, fontsize=12)\n",
    "plt.xticks(ticks=train_clean[train_clean['wnvpresent']==1].groupby(by='month').sum().reset_index().index, \n",
    "           labels=['June', 'July', 'August', 'September', 'October'],)\n",
    "plt.ylabel('Number of Mosquitoes Infected with WNV', fontsize=12)"
   ]
  },
  {
   "cell_type": "markdown",
   "id": "94d50315",
   "metadata": {},
   "source": [
    "- The majority of WNV mosquitoes were found in July, August, and September, which corresponds to the warmest months in Chicago\n",
    "- This is also proportional to the distribution of traps that were lain, with the majority of traps being lain within these three months\n",
    "- That being said, June is most notable for having a good number of traps being lain yet the traps not producing any WNV-infected mosquitoes"
   ]
  },
  {
   "cell_type": "code",
   "execution_count": null,
   "id": "f084456f",
   "metadata": {},
   "outputs": [],
   "source": [
    "train_clean[train_clean['wnvpresent']==1].groupby(by='month').sum()"
   ]
  },
  {
   "cell_type": "code",
   "execution_count": null,
   "id": "fe1a22cb",
   "metadata": {},
   "outputs": [],
   "source": [
    "train_clean[train_clean['wnvpresent']==1].groupby(by='week').sum().reset_index()"
   ]
  },
  {
   "cell_type": "code",
   "execution_count": null,
   "id": "02b41cf7",
   "metadata": {},
   "outputs": [],
   "source": [
    "train_clean[train_clean['wnvpresent']==1].groupby(by='week').sum()"
   ]
  },
  {
   "cell_type": "code",
   "execution_count": null,
   "id": "65a73bce",
   "metadata": {
    "scrolled": false
   },
   "outputs": [],
   "source": [
    "# plotting the number of WNV-infected mosquitoes per week\n",
    "plt.tight_layout()\n",
    "plt.figure(figsize=(10,4))\n",
    "plt.title('Mosquitoes infected with West Nile Virus per Week', fontsize=14)\n",
    "\n",
    "weather_train_df[weather_train_df['wnvpresent']==1].groupby('week')['nummosquitos'].mean().plot.bar(color='#4986B6')\n",
    "\n",
    "plt.xlabel('Week Beginning', labelpad=10, fontsize=12)\n",
    "plt.xticks(ticks=train_clean[train_clean['wnvpresent']==1].groupby(by='week').sum().reset_index().index, \n",
    "           labels=['27/06\\n(26)', '11/07\\n(28)', '18/07\\n(29)', '25/07\\n(30)', '01/08\\n(31)', '08/08\\n(32)', \n",
    "                   '15/08\\n(33)', '22/08\\n(34)', '29/08\\n(35)', '05/09\\n(36)', '12/09\\n(37)', '19/09\\n(38)', '26/09\\n(39)',\n",
    "                   '03/10\\n(40)',], rotation=42)\n",
    "plt.ylabel('Number of Mosquitoes Infected with WNV', fontsize=12)"
   ]
  },
  {
   "cell_type": "markdown",
   "id": "c4eb3616",
   "metadata": {},
   "source": [
    "- Not too dissimilar from the previous chart; just confirming with more detail that in particular the middle to end of August were when the most number of WNV-infected mosquitoes were found"
   ]
  },
  {
   "cell_type": "code",
   "execution_count": null,
   "id": "f0fb7788",
   "metadata": {},
   "outputs": [],
   "source": [
    "#~~~~~~~~~~~~~~~~~~~~~~~~~~~~~~~~~DICKSON~~~~~~~~~~~~~~~~~~~~~~~~~~~~~~~~~~~~~~~~~~~~~~~~~~~~#\n",
    "# not sure why your subplot charts and my subplot charts are so different, even accounting for the fact that yours is the average \n",
    "# per day\n",
    "# it seems that your subplots may be not by 'average mosq per day by day/week/month/year'\n",
    "# but instead 'average mosq per TESTING day by day/week/month/year'. In any case, it is a bit confusing. If anything, \n",
    "# should change to 'average mosq PER TEST per day by day/week/month/year'\n",
    "\n",
    "\n",
    "#Update 2 - added the groupby 'date' to get average mosq per day by day, week,month,year instead of \n",
    "# just mean(which is taking mean of samples and hence inaccurate)\n",
    "\n",
    "def subplot_histograms_wnv(dataframe, yvar, list_of_xvars, list_of_titles, list_of_xlabels, ylabel):\n",
    "    \"\"\"\n",
    "    This function creates bar charts of the average number of mosquitoes caught a day against varying time scales given by \n",
    "    the argument list_of_xvars.\n",
    "    dataframe: the dataframe from which data is to be used\n",
    "    yvar: the variable that we are measuring. 'nummosquitos', in this case\n",
    "    list_of_xvars: the list of of variables that we are plotting our yvar against\n",
    "    list_of_titles: the list of titles for our bar charts\n",
    "    list_of_xlabels: the list of xlabels for our bar charts\n",
    "    ylabel: the ylabel for our bar charts\n",
    "    \n",
    "    \"\"\"\n",
    "    nrows = int(np.ceil(len(list_of_xvars)/2)) \n",
    "    fig, ax = plt.subplots(nrows=nrows, ncols=2, figsize=(15,10)) \n",
    "    ax = ax.ravel() \n",
    "    for i, column in enumerate(list_of_xvars): # Gives us an index value to get into all our lists\n",
    "        df = dataframe.groupby([column,'date']).sum()\n",
    "        df.reset_index().groupby(column).mean()[yvar].plot(kind='bar', ax=ax[i])\n",
    "        ax[i].set_title(list_of_titles[i])\n",
    "        ax[i].set_xlabel(list_of_xlabels[i])\n",
    "        ax[i].set_ylabel(ylabel)\n",
    "        ax[i].tick_params(rotation = 0)\n",
    "    plt.tight_layout()"
   ]
  },
  {
   "cell_type": "code",
   "execution_count": null,
   "id": "6ed7b389",
   "metadata": {
    "scrolled": true
   },
   "outputs": [],
   "source": [
    "# Comparing the effects of sesonality on no. of mosquitos caught\n",
    "subplot_histograms_wnv(dataframe= weather_train_df[weather_train_df['wnvpresent']==1],\n",
    "                   yvar ='nummosquitos',\n",
    "                  list_of_xvars=['weekday', 'week', 'month', 'year'],\n",
    "                  list_of_titles=['Average no. of wnv mosquitos caught each day by weekday', 'Average no. of wnv mosquitos caught each day by week', 'Average no. of wnv mosquitos caught each day by month', 'Average no. of wnv mosquitos caught each day by year'],\n",
    "                  list_of_xlabels=['Day', 'Week', 'Month', 'Year'],\n",
    "                  ylabel='No. of mosquitos') \n",
    "\n",
    "# august has about same number of counts of mosquitos caught, but the infection rate is much higher\n",
    "# 2007 has a high count of wnv virus mosq though count is only slightly higher than 2009, 2011\n",
    "\n"
   ]
  },
  {
   "cell_type": "markdown",
   "id": "dec3cb43",
   "metadata": {},
   "source": [
    "Overall Frequency of WNV."
   ]
  },
  {
   "cell_type": "code",
   "execution_count": null,
   "id": "13d326ea",
   "metadata": {
    "scrolled": true
   },
   "outputs": [],
   "source": [
    "# charting the prevalence of WNV-infected mosquitoes\n",
    "sns.barplot(x=[0,1], y=weather_train_df['wnvpresent'].value_counts(normalize=True))\n",
    "plt.xlabel('Presence of West Nile Virus', fontsize=15)\n",
    "plt.ylabel('Frequency',fontsize=15)\n",
    "plt.tick_params(labelsize=14)\n",
    "plt.title('Frequency of WnvPresent',fontsize=16, y=1.03)\n",
    "plt.show()\n",
    "print(f\"{round(weather_train_df['wnvpresent'].value_counts(normalize=True)[1] * 100 ,1)}% of the mosquitoes sampled were found to have WNV.\")"
   ]
  },
  {
   "cell_type": "markdown",
   "id": "3059e363",
   "metadata": {},
   "source": [
    "- From the above chart, we can see that most of the mosquitoes sampled were found not to be absent of the West Nile Virus, with only 5.2% of them actually carrying it\n",
    "- If we were to use this raw data, the accuracy of our model would suffer due to the imbalance in result class labels. We will have to look into some way of correcting this imbalance, likely through oversamplying of the important class."
   ]
  },
  {
   "cell_type": "code",
   "execution_count": null,
   "id": "873d9c81",
   "metadata": {
    "scrolled": false
   },
   "outputs": [],
   "source": [
    "weather_train_df.groupby(['year','month'])['wnvpresent'].sum().unstack().plot.bar(figsize=(10,4))\n",
    "plt.xticks(rotation=0);"
   ]
  },
  {
   "cell_type": "markdown",
   "id": "07f4f2af",
   "metadata": {},
   "source": [
    "- In all the years in our dataset, August and September are the months in wich the most number of WNV-infected mosquitoes were detected, with July coming in a distant 3rd\n",
    "- THe above observation is of particular importance as when considering [this](#traps_month) graph, there were actually more traps lain in July than September which clearly indicates that the high rates of WNV present in September is despite lower sampling done, meaning that there are external reasons for it"
   ]
  },
  {
   "cell_type": "code",
   "execution_count": null,
   "id": "44493666",
   "metadata": {},
   "outputs": [],
   "source": [
    "weather_train_df[weather_train_df['wnvpresent']==1]"
   ]
  },
  {
   "cell_type": "code",
   "execution_count": null,
   "id": "4bc9921a",
   "metadata": {},
   "outputs": [],
   "source": [
    "# plotting a regression plot along dewpoint and wetbulb features to see their relationship with the presence of WNV\n",
    "sns.lmplot(data=weather_train_df, x='wetbulb', y='dewpoint', hue='wnvpresent', fit_reg=False);"
   ]
  },
  {
   "cell_type": "markdown",
   "id": "00833eb1",
   "metadata": {},
   "source": [
    "In summary, we see a confirmation of the trend we first saw when we looked at the occurence of WNV with respect to both Dewpoint temperature and Wetbulb temperature. As humidity and heat increases, we see a higher occurence of the virus. This is as expected as mosquitos require higher temperature and humidity in order to breed.<br>\n",
    "\n",
    "Range of WNV detection:\n",
    "* Dewpoint Temperature: 54 - 73 degrees Farenheit\n",
    "* Wetbulb Temperature: 62 - 76 degrees Farenheit"
   ]
  },
  {
   "cell_type": "code",
   "execution_count": null,
   "id": "ba315baa",
   "metadata": {},
   "outputs": [],
   "source": [
    "weather_train_df['trap'].value_counts().sort_values()"
   ]
  },
  {
   "cell_type": "code",
   "execution_count": null,
   "id": "06091f29",
   "metadata": {
    "scrolled": true
   },
   "outputs": [],
   "source": [
    "weather_train_df[weather_train_df['wnvpresent']==1].groupby('trap')['nummosquitos'].sum().sort_values()"
   ]
  },
  {
   "cell_type": "code",
   "execution_count": null,
   "id": "4c9f0ccb",
   "metadata": {},
   "outputs": [],
   "source": [
    "weather_train_df[weather_train_df['wnvpresent']==1].groupby(['tavg', 'trap']).mean()"
   ]
  },
  {
   "cell_type": "code",
   "execution_count": null,
   "id": "6f38a249",
   "metadata": {
    "scrolled": false
   },
   "outputs": [],
   "source": [
    "# plotting the average number of WNV-infected mosquitoes per trap against temperature\n",
    "plt.figure(figsize=(10,10))\n",
    "weather_train_df[weather_train_df['wnvpresent']==1].groupby('tavg')['nummosquitos'].mean().plot.bar(color='#4986B6')\n",
    "plt.xticks(rotation=42)\n",
    "plt.title('WNV detection vs Average Temp')\n",
    "plt.ylabel('WNV detection')\n",
    "plt.xlabel('Average Temperature');"
   ]
  },
  {
   "cell_type": "markdown",
   "id": "d2029994",
   "metadata": {},
   "source": [
    "- From the above chart, we can confirm the findings from our [external research] that the number of mosquitoes (and hence the presence of WNV) has a positive correlation with temperature\n",
    "- The number of mosquitoes peak at a point of 72 degrees Farenheit, and we can see a negative correlating trend from 80-82 degrees Farenheit onwards"
   ]
  },
  {
   "cell_type": "code",
   "execution_count": null,
   "id": "4ef44204",
   "metadata": {},
   "outputs": [],
   "source": [
    "weather_train_df[weather_train_df['wnvpresent']==1].groupby('tavg').mean()"
   ]
  },
  {
   "cell_type": "code",
   "execution_count": null,
   "id": "4db8270c",
   "metadata": {},
   "outputs": [],
   "source": []
  },
  {
   "cell_type": "code",
   "execution_count": null,
   "id": "0d7f1439",
   "metadata": {},
   "outputs": [],
   "source": []
  },
  {
   "cell_type": "code",
   "execution_count": null,
   "id": "6cd289d9",
   "metadata": {},
   "outputs": [],
   "source": []
  },
  {
   "cell_type": "code",
   "execution_count": null,
   "id": "f8e963ed",
   "metadata": {},
   "outputs": [],
   "source": []
  },
  {
   "cell_type": "code",
   "execution_count": null,
   "id": "a034941e",
   "metadata": {},
   "outputs": [],
   "source": []
  },
  {
   "cell_type": "code",
   "execution_count": null,
   "id": "dd387684",
   "metadata": {},
   "outputs": [],
   "source": []
  },
  {
   "cell_type": "code",
   "execution_count": null,
   "id": "460b8c97",
   "metadata": {},
   "outputs": [],
   "source": []
  },
  {
   "cell_type": "code",
   "execution_count": null,
   "id": "26e994e4",
   "metadata": {},
   "outputs": [],
   "source": []
  },
  {
   "cell_type": "code",
   "execution_count": null,
   "id": "029f78e8",
   "metadata": {},
   "outputs": [],
   "source": []
  },
  {
   "cell_type": "code",
   "execution_count": null,
   "id": "7f05944e",
   "metadata": {},
   "outputs": [],
   "source": []
  },
  {
   "cell_type": "markdown",
   "id": "2be45d16",
   "metadata": {},
   "source": [
    "## Testing Data\n",
    "---"
   ]
  },
  {
   "cell_type": "markdown",
   "id": "52ea6a66",
   "metadata": {},
   "source": [
    "## Spraying Data\n",
    "---"
   ]
  },
  {
   "cell_type": "markdown",
   "id": "9819d123",
   "metadata": {},
   "source": [
    "## Weather Data<a name=weather></a>\n",
    "---"
   ]
  },
  {
   "cell_type": "code",
   "execution_count": null,
   "id": "5befbe99",
   "metadata": {},
   "outputs": [],
   "source": [
    "import pandas as pd\n",
    "import numpy as np\n",
    "import matplotlib.pyplot as plt\n",
    "import seaborn as sns\n",
    "import datetime as dt\n",
    "import re\n",
    "import math\n",
    "\n",
    "%config InlineBackend.figure_format = 'retina'\n",
    "plt.rc('xtick', labelsize=12) \n",
    "plt.rc('ytick', labelsize=12)\n",
    "\n",
    "pd.set_option('display.max_columns', 500, 'display.max_rows', 500, 'display.width', 1000)"
   ]
  },
  {
   "cell_type": "code",
   "execution_count": null,
   "id": "b54bb68c",
   "metadata": {},
   "outputs": [],
   "source": [
    "weather = pd.read_csv('../data/weather.csv')"
   ]
  },
  {
   "cell_type": "code",
   "execution_count": null,
   "id": "e4ca7560",
   "metadata": {},
   "outputs": [],
   "source": [
    "weather.info()"
   ]
  },
  {
   "cell_type": "code",
   "execution_count": null,
   "id": "34e956b0",
   "metadata": {},
   "outputs": [],
   "source": [
    "weather.head()"
   ]
  },
  {
   "cell_type": "code",
   "execution_count": null,
   "id": "756a9afa",
   "metadata": {},
   "outputs": [],
   "source": [
    "#changing columns to lowercase\n",
    "weather.columns = weather.columns.str.lower()"
   ]
  },
  {
   "cell_type": "code",
   "execution_count": null,
   "id": "4a948454",
   "metadata": {},
   "outputs": [],
   "source": [
    "#checking on preciptotal since it is an object\n",
    "\n",
    "display(weather['preciptotal'].value_counts())\n",
    "\n",
    "#replacing preciptotal\n",
    "weather['preciptotal'].replace('  T', 0.005, inplace=True)\n",
    "\n",
    "#https://www.chicagotribune.com/news/ct-xpm-2011-04-16-ct-wea-0417-asktom-20110416-story.html"
   ]
  },
  {
   "cell_type": "code",
   "execution_count": null,
   "id": "7ecc95e8",
   "metadata": {},
   "outputs": [],
   "source": [
    "# we see that there are both - and M values. Let us standardize them\n",
    "weather = weather.replace({'-':np.nan,'M': np.nan})"
   ]
  },
  {
   "cell_type": "code",
   "execution_count": null,
   "id": "a35f1a31",
   "metadata": {},
   "outputs": [],
   "source": [
    "#changing date to dt object\n",
    "weather['date'] = pd.to_datetime(weather.date)\n",
    "\n",
    "#creating new date columns to see seasonal/time trends\n",
    "weather['year'] = weather.date.dt.year\n",
    "weather['month'] = weather.date.dt.month\n",
    "weather['weekday'] = weather['date'].apply(dt.date.isoweekday)"
   ]
  },
  {
   "cell_type": "code",
   "execution_count": null,
   "id": "df5d7b08",
   "metadata": {},
   "outputs": [],
   "source": [
    "# check na\n",
    "\n",
    "display(weather.isna().sum())"
   ]
  },
  {
   "cell_type": "code",
   "execution_count": null,
   "id": "6cf97e0a",
   "metadata": {},
   "outputs": [],
   "source": [
    "# inspecting tavg na values\n",
    "display(weather[weather['tavg'].isna()])\n",
    "\n",
    "#prove that tavg is ceil average of tmax and tmin\n",
    "all(np.ceil((weather[weather['tavg'].notna()]['tmax']+weather[weather['tavg'].notna()]['tmin'])/2)\n",
    "    == weather[weather['tavg'].notna()]['tavg'].astype(float))\n",
    "\n",
    "# since tavg is the ceil average of tmin and tmax, we will impute the na values as so"
   ]
  },
  {
   "cell_type": "code",
   "execution_count": null,
   "id": "69187c7b",
   "metadata": {},
   "outputs": [],
   "source": [
    "# imputing tavg with avg with tmin,tmax\n",
    "\n",
    "weather.loc[weather['tavg'].isna(),'tavg'] = np.ceil((weather[weather['tavg'].isna()]['tmax']+weather[weather['tavg'].isna()]['tmin'])/2).astype(int)"
   ]
  },
  {
   "cell_type": "code",
   "execution_count": null,
   "id": "faa362f9",
   "metadata": {},
   "outputs": [],
   "source": [
    "# Check on weather water 1 values\n",
    "\n",
    "display(weather.water1.value_counts())\n",
    "\n",
    "weather = weather.drop('water1',axis=1)\n",
    "\n",
    "# dropping the whole of Water1 as it has only 1 single variable - M for Missing"
   ]
  },
  {
   "cell_type": "code",
   "execution_count": null,
   "id": "5844cc71",
   "metadata": {},
   "outputs": [],
   "source": [
    "# Checking on weather depth values\n",
    "\n",
    "display(weather.depth.value_counts())\n",
    "display(weather.station.value_counts())\n",
    "\n",
    "# We check to see if the values are of similar rows i.e. they correspond to one another\n",
    "\n",
    "print(all(weather[weather['depth']=='0'].index == weather[weather['station']==1].index))\n",
    "\n",
    "weather = weather.drop('depth',axis=1)\n",
    "\n",
    "# Since the indexes are the same, we drop them to prevent high correlation between the columns"
   ]
  },
  {
   "cell_type": "code",
   "execution_count": null,
   "id": "3dcefb0a",
   "metadata": {},
   "outputs": [],
   "source": [
    "# check to see if na values are alternate\n",
    "print(weather[weather['depart'].isna()]['station'].value_counts())\n",
    "print(weather[weather['sunset'].isna()]['station'].value_counts())\n",
    "print(weather[weather['sunrise'].isna()]['station'].value_counts())\n",
    "\n",
    "# we notice that the depart columns has na values half of our df length. \n",
    "# Hence, we decided to check if it is alternate. \n",
    "# we found out that indeed, they are alternate and are values mostly missing from station 2\n",
    "# for departing from normal temperature, we already have temperature average, so we can drop this\n",
    "# for sunset and sunrise, we can assume that they are similar for both stations, and hence we will do a ffill"
   ]
  },
  {
   "cell_type": "code",
   "execution_count": null,
   "id": "912dbc06",
   "metadata": {},
   "outputs": [],
   "source": [
    "# Checking on snowfall values\n",
    "\n",
    "display(weather['snowfall'].value_counts())\n",
    "\n",
    "weather = weather.drop('snowfall',axis=1)\n",
    "\n",
    "# As there is no snow for the collection months of May-Oct, they are mostly M and 0 values. \n",
    "# We can hence drop this column\n"
   ]
  },
  {
   "cell_type": "code",
   "execution_count": null,
   "id": "fe022779",
   "metadata": {},
   "outputs": [],
   "source": [
    "# dropping depart form normal temp column\n",
    "weather = weather.drop('depart',axis=1)\n",
    "\n",
    "# ffill for sunset and sunrise\n",
    "\n",
    "weather[['sunset','sunrise']]= weather[['sunset','sunrise']].fillna(method = 'ffill')"
   ]
  },
  {
   "cell_type": "code",
   "execution_count": null,
   "id": "cfd82f8a",
   "metadata": {},
   "outputs": [],
   "source": [
    "#reformat time\n",
    "formatted_time = []\n",
    "for time in weather['sunrise']:\n",
    "    new_time = re.sub(r'(\\d\\d)(\\d\\d)',r'\\1:\\2',time)\n",
    "    formatted_time.append(new_time)\n",
    "    \n",
    "weather['sunrise'] = formatted_time"
   ]
  },
  {
   "cell_type": "code",
   "execution_count": null,
   "id": "88c3a39f",
   "metadata": {},
   "outputs": [],
   "source": [
    "#change to dt object\n",
    "weather['sunrise']= pd.to_datetime(weather['sunrise']).dt.time\n",
    "weather['sunrise']"
   ]
  },
  {
   "cell_type": "code",
   "execution_count": null,
   "id": "aacde75f",
   "metadata": {},
   "outputs": [],
   "source": [
    "# discovered erroneous sunset timings of 1860. Making an intelligent guess that it is 1900\n",
    "weather['sunset'].replace('1860','1900',inplace=True)\n",
    "weather['sunset'].replace('1760','1800',inplace=True)\n",
    "weather['sunset'].replace('1660','1700',inplace=True)\n",
    "\n",
    "#reformatting time\n",
    "formatted_time = []\n",
    "for time in weather['sunset']:\n",
    "    new_time = re.sub(r'(\\d\\d)(\\d\\d)',r'\\1:\\2',time)\n",
    "    formatted_time.append(new_time)\n",
    "    \n",
    "weather['sunset'] = formatted_time\n",
    "\n",
    "#changed to dt object\n",
    "weather['sunset']= pd.to_datetime(weather['sunset']).dt.time\n",
    "weather['sunset']"
   ]
  },
  {
   "cell_type": "code",
   "execution_count": null,
   "id": "b3270670",
   "metadata": {},
   "outputs": [],
   "source": [
    "# From the noaa_weather_qclcd_documentation, codesum ' ' is equals to moderate\n",
    "\n",
    "weather['codesum'] = weather['codesum'].replace(' ', 'Moderate')"
   ]
  },
  {
   "cell_type": "code",
   "execution_count": null,
   "id": "c85434e4",
   "metadata": {},
   "outputs": [],
   "source": [
    "# split codesum from space separated into a list\n",
    "\n",
    "weather['codesum'] = weather['codesum'].str.split(' ')"
   ]
  },
  {
   "cell_type": "code",
   "execution_count": null,
   "id": "6c78ee14",
   "metadata": {},
   "outputs": [],
   "source": [
    "# Checking the rest of the na values\n",
    "display(weather['stnpressure'].isna().sum())\n",
    "display(weather[weather['stnpressure'].isna()])"
   ]
  },
  {
   "cell_type": "code",
   "execution_count": null,
   "id": "fe749412",
   "metadata": {},
   "outputs": [],
   "source": [
    "weather['sealevel'].isna().sum()\n",
    "display(weather[weather['sealevel'].isna()])"
   ]
  },
  {
   "cell_type": "code",
   "execution_count": null,
   "id": "c2830866",
   "metadata": {},
   "outputs": [],
   "source": [
    "display(weather['wetbulb'].isna().sum())\n",
    "display(weather[weather['wetbulb'].isna()])\n",
    "\n",
    "# we see that these 3 columns of stnpressure,have very little na values. \n",
    "# We will fill them with the median of the month"
   ]
  },
  {
   "cell_type": "code",
   "execution_count": null,
   "id": "9a1fab9e",
   "metadata": {},
   "outputs": [],
   "source": [
    "# Impute the median of wetbulb according to the median of their months\n",
    "\n",
    "display(weather.loc[weather['wetbulb'].isna(),'date'].dt.month)\n",
    "\n",
    "wb_june_median = weather[weather['month'] == 6]['wetbulb'].median()\n",
    "wb_aug_median = weather[weather['month'] == 8]['wetbulb'].median()\n",
    "\n",
    "weather.loc[848, 'wetbulb'] = wb_june_median\n",
    "weather.loc[2410, 'wetbulb'] = wb_aug_median \n",
    "weather.loc[2412, 'wetbulb'] = wb_aug_median \n",
    "weather.loc[2415, 'wetbulb'] = wb_aug_median "
   ]
  },
  {
   "cell_type": "code",
   "execution_count": null,
   "id": "9bab066a",
   "metadata": {},
   "outputs": [],
   "source": [
    "# Impute the median of stnpressure according to the median of their months\n",
    "\n",
    "print(weather.loc[weather['stnpressure'].isna(),'date'].dt.month)\n",
    "\n",
    "sp_jun_median = round(weather[weather['month'] == 6]['stnpressure'].median(),2)\n",
    "sp_aug_median = round(weather[weather['month'] == 8]['stnpressure'].median(),2)\n",
    "\n",
    "weather.loc[87, 'stnpressure'] = sp_jun_median\n",
    "weather.loc[848, 'stnpressure'] = sp_jun_median\n",
    "weather.loc[2410, 'stnpressure'] = sp_aug_median\n",
    "weather.loc[2411, 'stnpressure'] = sp_aug_median"
   ]
  },
  {
   "cell_type": "code",
   "execution_count": null,
   "id": "4e2449b9",
   "metadata": {},
   "outputs": [],
   "source": [
    "# Impute the median of sealevel according to the median of their months\n",
    "\n",
    "print(weather.loc[weather['sealevel'].isna(),'date'].dt.month)\n",
    "\n",
    "sl_jun_median = round(weather[weather['month'] == 6]['sealevel'].median(),2)\n",
    "sl_jul_median = round(weather[weather['month'] == 7]['sealevel'].median(),2)\n",
    "sl_aug_median = round(weather[weather['month'] == 8]['sealevel'].median(),2)\n",
    "sl_sep_median = round(weather[weather['month'] == 9]['sealevel'].median(),2)\n",
    "\n",
    "weather.loc[87, 'sealevel'] = sl_jun_median\n",
    "weather.loc[832, 'sealevel'] = sl_jun_median\n",
    "weather.loc[2743, 'sealevel'] = sl_jul_median\n",
    "weather.loc[2067, 'sealevel'] = sl_aug_median \n",
    "weather.loc[994, 'sealevel'] = sl_sep_median \n",
    "weather.loc[1732, 'sealevel'] = sl_sep_median \n",
    "weather.loc[1745, 'sealevel'] = sl_sep_median \n",
    "weather.loc[1756, 'sealevel'] = sl_sep_median \n",
    "weather.loc[2090, 'sealevel'] = sl_sep_median "
   ]
  },
  {
   "cell_type": "code",
   "execution_count": null,
   "id": "2693ab04",
   "metadata": {},
   "outputs": [],
   "source": [
    "# dealing with null values from precip total\n",
    "precip_na_index = weather[weather['preciptotal'].isna()].index\n",
    "\n",
    "date1, date2 = weather.loc[precip_na_index]['date'].values\n",
    "\n",
    "display(weather[weather['date'] == date1])\n",
    "\n",
    "display(weather[weather['date'] == date1])\n",
    "\n",
    "# imputing np.nan as 0 value\n",
    "\n",
    "weather['preciptotal'] = weather['preciptotal'].fillna(0)\n",
    "\n",
    "# we see that for the nan values in precip total belonging to station 2, the corresponding date on station 1 is 0\n",
    "# hence, an intelligent guess would be that there is no rain that day and we imputed as so"
   ]
  },
  {
   "cell_type": "code",
   "execution_count": null,
   "id": "30f32b04",
   "metadata": {},
   "outputs": [],
   "source": [
    "# Convert all the strings to appropriate int type\n",
    "\n",
    "weather['tavg'] = weather['tavg'].astype(float)\n",
    "weather['wetbulb'] = weather['wetbulb'].astype(float)\n",
    "weather['heat'] = weather['heat'].astype(float)\n",
    "weather['cool'] = weather['cool'].astype(float)\n",
    "weather['preciptotal'] = weather['preciptotal'].astype(float)\n",
    "weather['stnpressure'] = weather['stnpressure'].astype(float)\n",
    "weather['sealevel'] = weather['sealevel'].astype(float)\n",
    "weather['avgspeed'] = weather['avgspeed'].astype(float)"
   ]
  },
  {
   "cell_type": "code",
   "execution_count": null,
   "id": "daf78429",
   "metadata": {},
   "outputs": [],
   "source": [
    "# the average speed is the wind speed. let us impute these na values\n",
    "\n",
    "display(weather[weather['avgspeed'].isna()])\n",
    "display(f'averagespeed b/t stations: {weather[\"avgspeed\"].diff().mean()}')\n",
    "\n",
    "# using station 1 to predict station 2\n",
    "weather['avgspeed'] = weather['avgspeed'].fillna(method='ffill')\n",
    "\n",
    "# as we can see,, the average mean diff between station 1 and 2  is minimal. \n",
    "# Hence, we can use the station 1 value to predict station 2 value"
   ]
  },
  {
   "cell_type": "code",
   "execution_count": null,
   "id": "82ab97c6",
   "metadata": {},
   "outputs": [],
   "source": [
    "# any temp average value above 65 will be recorded as cool, and vice versa heat\n",
    "# impute na values for heat and cool\n",
    "\n",
    "def impute_heat_cool(row):\n",
    "    \n",
    "    if math.isnan(row['heat']):\n",
    "\n",
    "        temp = 65 - row['tavg']\n",
    "        \n",
    "        if temp<0:\n",
    "            row['heat'] = 0\n",
    "            row['cool'] = temp\n",
    "            \n",
    "        if temp>0:\n",
    "            row['cool']=0\n",
    "            row['heat'] = temp\n",
    "        else:\n",
    "            row['heat'] = row['cool']= 0\n",
    "        \n",
    "    if math.isnan(row['cool']):\n",
    "        \n",
    "        temp = 65 - row['tavg']\n",
    "        \n",
    "        if temp<0:\n",
    "            row['heat'] = 0\n",
    "            row['cool'] = temp\n",
    "            \n",
    "        if temp>0:\n",
    "            row['cool']=0\n",
    "            row['heat'] = temp\n",
    "            \n",
    "    return row \n",
    "        "
   ]
  },
  {
   "cell_type": "code",
   "execution_count": null,
   "id": "089a0ef7",
   "metadata": {},
   "outputs": [],
   "source": [
    "weather = weather.apply(impute_heat_cool,axis=1)"
   ]
  },
  {
   "cell_type": "code",
   "execution_count": null,
   "id": "dfd0a606",
   "metadata": {},
   "outputs": [],
   "source": [
    "weather.isna().sum()"
   ]
  },
  {
   "cell_type": "code",
   "execution_count": null,
   "id": "93b82b60",
   "metadata": {},
   "outputs": [],
   "source": [
    "#now that we have cleaned the data, we can save to csv file\n",
    "\n",
    "weather.to_csv('../data/weather_clean.csv',index=False)"
   ]
  },
  {
   "cell_type": "code",
   "execution_count": null,
   "id": "a7b39dd3",
   "metadata": {},
   "outputs": [],
   "source": [
    "pd.read_csv('../data/weather_clean.csv')"
   ]
  },
  {
   "cell_type": "code",
   "execution_count": null,
   "id": "596cf039",
   "metadata": {},
   "outputs": [],
   "source": [
    "train_clean = pd.read_csv('../data/train_clean.csv')\n",
    "test_clean = pd.read_csv('../data/test_clean.csv')\n",
    "spray_clean = pd.read_csv('../data/spray_clean.csv')\n",
    "weather_clean = pd.read_csv('../data/weather_clean.csv')"
   ]
  },
  {
   "cell_type": "code",
   "execution_count": null,
   "id": "267e93ec",
   "metadata": {},
   "outputs": [],
   "source": [
    "test_clean.shape"
   ]
  },
  {
   "cell_type": "code",
   "execution_count": null,
   "id": "88664d4c",
   "metadata": {},
   "outputs": [],
   "source": [
    "weather_clean['date'] = pd.to_datetime(weather_clean['date'])"
   ]
  },
  {
   "cell_type": "code",
   "execution_count": null,
   "id": "3a32800b",
   "metadata": {},
   "outputs": [],
   "source": [
    "train_clean['dayofweek'].value_counts()\n",
    "weather_clean['week'] = weather_clean['date'].apply(lambda x: x.week)"
   ]
  },
  {
   "cell_type": "code",
   "execution_count": null,
   "id": "c25155a7",
   "metadata": {},
   "outputs": [],
   "source": [
    "weather_clean['dayofweek'] = weather_clean['date'].apply(lambda x: x.dayofweek)"
   ]
  },
  {
   "cell_type": "code",
   "execution_count": null,
   "id": "8cb03dd2",
   "metadata": {},
   "outputs": [],
   "source": [
    "weather_clean['week'].head()"
   ]
  },
  {
   "cell_type": "code",
   "execution_count": null,
   "id": "b1d3b572",
   "metadata": {},
   "outputs": [],
   "source": [
    "weather.columns"
   ]
  },
  {
   "cell_type": "code",
   "execution_count": null,
   "id": "e86526c2",
   "metadata": {},
   "outputs": [],
   "source": [
    "merged_df = train_clean.merge(weather_clean, how='left',on=['year', 'week', 'month', 'dayofweek'])"
   ]
  },
  {
   "cell_type": "code",
   "execution_count": null,
   "id": "b0d1541f",
   "metadata": {},
   "outputs": [],
   "source": [
    "train_clean"
   ]
  },
  {
   "cell_type": "code",
   "execution_count": null,
   "id": "381a41b4",
   "metadata": {},
   "outputs": [],
   "source": [
    "merged_df['station']"
   ]
  },
  {
   "cell_type": "code",
   "execution_count": null,
   "id": "25b67465",
   "metadata": {},
   "outputs": [],
   "source": [
    "#function to convert coordinates to radians before calculating distance between 2 coordinates\n",
    "\n",
    "def get_distance(lat1, lon1, lat2, lon2): \n",
    "    \n",
    "    R = 6373.0\n",
    "    \n",
    "    lat1, lon1, lat2, lon2 = map(math.radians, [lat1, lon1, lat2, lon2])\n",
    "    \n",
    "    dlon = lon2 - lon1 \n",
    "    dlat = lat2 - lat1\n",
    "\n",
    "    temp = (  \n",
    "         math.sin(dlat / 2) ** 2 \n",
    "       + math.cos(lat1) \n",
    "       * math.cos(lat2) \n",
    "       * math.sin(dlon / 2) ** 2\n",
    "    )\n",
    "    \n",
    "    C = (2 * math.atan2(math.sqrt(temp), math.sqrt(1 - temp)))\n",
    "\n",
    "    distance = R * C\n",
    "    \n",
    "    return distance\n",
    "\n",
    "\n",
    "#function to calculate nearest station from trap according to distance\n",
    "\n",
    "def nearest_station(trap_lat, trap_lon):\n",
    "    \n",
    "    station1_lat = 41.995 \n",
    "    station1_lon = -87.933 \n",
    "    station2_lat = 41.786 \n",
    "    station2_lon = -87.752\n",
    "    \n",
    "    #calculates trap distance with station 1 / 2\n",
    "    dist_station1 = get_distance(station1_lat,station1_lon,trap_lat,trap_lon)\n",
    "    dist_station2 = get_distance(station2_lat,station2_lon,trap_lat,trap_lon)\n",
    "    \n",
    "    #comparing distances\n",
    "    if dist_station1 > dist_station2:\n",
    "        return 2\n",
    "    else:\n",
    "        return 1\n",
    "    \n",
    "train_clean['station'] = train_clean.apply(lambda x: nearest_station(x.latitude,x.longitude), axis = 1)\n",
    "test_clean['station'] = test_clean.apply(lambda x: nearest_station(x.latitude,x.longitude), axis = 1)\n",
    "\n",
    "train_clean['date'] = pd.to_datetime(train_clean['date'])\n",
    "test_clean['date'] = pd.to_datetime(test_clean['date'])\n",
    "weather_clean['date'] = pd.to_datetime(weather_clean['date'])\n",
    "\n",
    "weather_train_df = pd.merge(train_clean, weather_clean, on =['date','station','year','month','week','dayofweek'])"
   ]
  },
  {
   "cell_type": "code",
   "execution_count": null,
   "id": "f20991cc",
   "metadata": {
    "scrolled": false
   },
   "outputs": [],
   "source": [
    "mapdata = np.loadtxt(\"../data/mapdata_copyright_openstreetmap_contributors.txt\")\n",
    "aspect = mapdata.shape[0] * 1.0 / mapdata.shape[1]\n",
    "\n",
    "lon_lat_box = (-88, -87.5, 41.6, 42.1)\n",
    "plt.figure(figsize=(16,16))\n",
    "plt.imshow(mapdata,\n",
    "           cmap=plt.get_cmap('GnBu_r'),\n",
    "           extent=lon_lat_box,\n",
    "           aspect=aspect)\n",
    "\n",
    "# extracting 2011 trap data\n",
    "traps = weather_train_df[['date', 'trap','longitude', 'latitude', 'wnvpresent']]\n",
    "traps_11 = traps[traps[\"date\"].dt.year == 2011]\n",
    "trap_values = traps_11[['longitude', 'latitude']].drop_duplicates().values\n",
    "\n",
    "# extracting 2011 spray data\n",
    "sprays = spray[spray['longitude']>-88]\n",
    "spray_11 = sprays[sprays[\"year\"]== 2011]\n",
    "spray_11_values = spray_11[['longitude', 'latitude']].drop_duplicates().values\n",
    "\n",
    "# extracting 2011 wnv data\n",
    "wnvpresent_11 = traps[(traps['wnvpresent'] == 1) & (traps[\"date\"].dt.year == 2011)]\n",
    "wnvpresent_values = wnvpresent_11[['longitude', 'latitude']].drop_duplicates().values\n",
    "\n",
    "#plot\n",
    "plt.scatter(spray_11_values[:,0], spray_11_values[:,1], c='orange', alpha=1, label=\"Spray\")\n",
    "plt.scatter(trap_values[:,0], trap_values[:,1], s = 500, c='blue',marker='x',label='Trap', alpha = 0.5)\n",
    "plt.scatter(wnvpresent_values[:,0], wnvpresent_values[:,1], s = 60, c='r', marker='o', label='wnv present mozzies')\n",
    "\n",
    "plt.title('Map of Sprays, Traps and WNV Positive Cases (2011)')\n",
    "plt.legend();"
   ]
  },
  {
   "cell_type": "code",
   "execution_count": null,
   "id": "0dfc2cf6",
   "metadata": {},
   "outputs": [],
   "source": [
    "mapdata = np.loadtxt(\"../data/mapdata_copyright_openstreetmap_contributors.txt\")\n",
    "aspect = mapdata.shape[0] * 1.0 / mapdata.shape[1]\n",
    "\n",
    "lon_lat_box = (-88, -87.5, 41.6, 42.1)\n",
    "plt.figure(figsize=(20,16))\n",
    "plt.imshow(mapdata,\n",
    "           cmap=plt.get_cmap('GnBu_r'),\n",
    "           extent=lon_lat_box,\n",
    "           aspect=aspect)\n",
    "\n",
    "# get 2013 trap data\n",
    "traps = weather_train_df[['date', 'trap','longitude', 'latitude', 'wnvpresent']]\n",
    "traps_13 = traps[traps[\"date\"].dt.year == 2013]\n",
    "trap_values = traps_13[['longitude', 'latitude']].drop_duplicates().values\n",
    "\n",
    "#get 2013 spray data\n",
    "sprays = spray[spray['longitude']>-88]\n",
    "spray_13 = sprays[sprays[\"year\"]== 2013]\n",
    "spray_13_values = spray_13[['longitude', 'latitude']].drop_duplicates().values\n",
    "\n",
    "#get 2013 wnv data\n",
    "wnvpresent_13 = traps[(traps['wnvpresent'] == 1) & (traps[\"date\"].dt.year == 2013)]\n",
    "wnvpresent_values = wnvpresent_13[['longitude', 'latitude']].drop_duplicates().values\n",
    "\n",
    "#plot\n",
    "plt.scatter(spray_13_values[:,0], spray_13_values[:,1], c='orange', alpha=1, label=\"Spray\")\n",
    "plt.scatter(trap_values[:,0], trap_values[:,1], s = 500, c='blue',marker='x',label='Trap', alpha = 0.5)\n",
    "plt.scatter(wnvpresent_values[:,0], wnvpresent_values[:,1], s = 60, c='r', marker='o', label='wnv present mozzies')\n",
    "\n",
    "plt.title('Map of Sprays, Traps and WNV Positive Cases (2013)')\n",
    "plt.legend();\n",
    "\n",
    "#alot more spray done in 2013 than 2011. \n",
    "#is this effective? have to look at effectiveness of sprays broken down by month"
   ]
  },
  {
   "cell_type": "code",
   "execution_count": null,
   "id": "7c7c8be2",
   "metadata": {},
   "outputs": [],
   "source": [
    "#load map data\n",
    "mapdata = np.loadtxt(\"../data/mapdata_copyright_openstreetmap_contributors.txt\")\n",
    "aspect = mapdata.shape[0] * 1.0 / mapdata.shape[1]\n",
    "lon_lat_box = (-88, -87.5, 41.6, 42.1)\n",
    "\n",
    "fig,ax = plt.subplots(ncols = int(weather_train_df['month'].unique().shape[0]/2), nrows = 2, figsize=(20,15))\n",
    "\n",
    "ax = ax.ravel()\n",
    "\n",
    "for i, month in enumerate(weather_train_df['month'].unique()):\n",
    "    \n",
    "    ax[i].imshow(mapdata, cmap=plt.get_cmap('GnBu_r'), extent=lon_lat_box, aspect=aspect)\n",
    "\n",
    "    #traps data\n",
    "    traps = weather_train_df[['date', 'trap','longitude', 'latitude', 'wnvpresent']]\n",
    "    locations = traps[['longitude', 'latitude']].drop_duplicates().values\n",
    "\n",
    "    #2011 spray data\n",
    "    spray = spray[spray['longitude']>-88]\n",
    "    spray_11_month = spray[(spray[\"year\"]== 2011) & (spray[\"month\"] == month)]\n",
    "    sprays = spray_11_month[['longitude', 'latitude']].drop_duplicates().values\n",
    "\n",
    "    #2011 wnvpresent data\n",
    "    wnvpresent_11_month = traps[(traps['wnvpresent'] == 1) & (traps[\"date\"].dt.year == 2011) & (traps[\"date\"].dt.month == month)]\n",
    "    wnvpresents = wnvpresent_11_month[['longitude', 'latitude']].drop_duplicates().values\n",
    "\n",
    "    ax[i].scatter(sprays[:,0], sprays[:,1], c='orange', alpha=1, label=\"Spray\")\n",
    "    ax[i].scatter(locations[:,0], locations[:,1], s = 100, c='blue',marker='x',label='Trap',alpha=0.5)\n",
    "    ax[i].scatter(wnvpresents[:,0], wnvpresents[:,1], s = 30, c='r', marker='o', label='wnv present mozzies')\n",
    "\n",
    "    ax[i].set_title(f'Month: {month}')\n",
    "    \n",
    "plt.suptitle('Spray, Trap and WNV Positive Cases in 2011 across Months')\n",
    "plt.legend(loc='upper right', bbox_to_anchor=(1, 2.5));"
   ]
  },
  {
   "cell_type": "code",
   "execution_count": null,
   "id": "d3e7d86e",
   "metadata": {},
   "outputs": [],
   "source": [
    "#load map data\n",
    "mapdata = np.loadtxt(\"../data/mapdata_copyright_openstreetmap_contributors.txt\")\n",
    "aspect = mapdata.shape[0] * 1.0 / mapdata.shape[1]\n",
    "lon_lat_box = (-88, -87.5, 41.6, 42.1)\n",
    "\n",
    "fig,ax = plt.subplots(ncols = int(weather_train_df['month'].unique().shape[0]/2), nrows = 2, figsize=(20,15))\n",
    "\n",
    "ax = ax.ravel()\n",
    "\n",
    "for i, month in enumerate(weather_train_df['month'].unique()):\n",
    "    \n",
    "    ax[i].imshow(mapdata, cmap=plt.get_cmap('GnBu_r'), extent=lon_lat_box, aspect=aspect)\n",
    "\n",
    "    #traps data\n",
    "    locations = traps[['longitude', 'latitude']].drop_duplicates().values\n",
    "\n",
    "    #2013 spray data\n",
    "    spray = spray[spray['longitude']>-88]\n",
    "    spray_13_month = spray[(spray[\"year\"]== 2013) & (spray[\"month\"] == month)]\n",
    "    sprays = spray_13_month[['longitude', 'latitude']].drop_duplicates().values\n",
    "\n",
    "    #2013 wnvpresent data\n",
    "    wnvpresent_13_month = traps[(traps['wnvpresent'] == 1) & (traps[\"date\"].dt.year == 2013) & (traps[\"date\"].dt.month == month)]\n",
    "    wnvpresents = wnvpresent_13_month[['longitude', 'latitude']].drop_duplicates().values\n",
    "\n",
    "    ax[i].scatter(sprays[:,0], sprays[:,1], c='orange', alpha=1, label=\"Spray\")\n",
    "    ax[i].scatter(locations[:,0], locations[:,1], s = 100, c='blue',marker='x',label='Trap',alpha=0.5)\n",
    "    ax[i].scatter(wnvpresents[:,0], wnvpresents[:,1], s = 30, c='r', marker='o', label='wnv present mozzies')\n",
    "\n",
    "    ax[i].set_title(f'Month: {month}')\n",
    "    \n",
    "plt.suptitle('Spray, Trap and WNV Positive Cases in 2013 across Months')\n",
    "plt.legend(loc='upper right', bbox_to_anchor=(1, 2.5));\n",
    "\n",
    "# spraying ineffective as even after august spray still has lots of spots\n",
    "# number of mosquitos with wnv have dropped consistently in month 10. possibly due to temperature"
   ]
  },
  {
   "cell_type": "code",
   "execution_count": null,
   "id": "aca9bb0a",
   "metadata": {},
   "outputs": [],
   "source": [
    "def subplot_histograms_caught(dataframe, yvar, list_of_xvars, list_of_titles, list_of_xlabels, ylabel):\n",
    "    nrows = int(np.ceil(len(list_of_xvars)/2)) \n",
    "    fig, ax = plt.subplots(nrows=nrows, ncols=2, figsize=(15,10)) \n",
    "    ax = ax.ravel() \n",
    "    for i, column in enumerate(list_of_xvars): # Gives us an index value to get into all our lists\n",
    "        dataframe.groupby(column)[yvar].sum().plot(kind='bar', ax=ax[i])\n",
    "        ax[i].set_title(list_of_titles[i])\n",
    "        ax[i].set_xlabel(list_of_xlabels[i])\n",
    "        ax[i].set_ylabel(ylabel)\n",
    "    plt.tight_layout()"
   ]
  },
  {
   "cell_type": "code",
   "execution_count": null,
   "id": "eefb0830",
   "metadata": {},
   "outputs": [],
   "source": [
    "# Comparing the effects of sesonality on no. of mosquitos caught\n",
    "subplot_histograms_caught(dataframe= weather_train_df,\n",
    "                   yvar ='nummosquitos',\n",
    "                  list_of_xvars=['weekday_y', 'week', 'month', 'year'],\n",
    "                  list_of_titles=['Average no. of mosquitos caught each day', 'Average. of mosquitos caught each week', 'Average. of mosquitos caught each month', 'Average. of mosquitos caught each year'],\n",
    "                  list_of_xlabels=['Day', 'Week', 'Month', 'Year'], \n",
    "                  ylabel='No. of mosquitos')\n",
    "\n",
    "# as expected, day does not have much variance\n",
    "# jul and august have higher count of mosquitos\n",
    "# 2013 have much higher count of mosquitos. Were more traps set then or were there mainly more mosquitos?"
   ]
  },
  {
   "cell_type": "code",
   "execution_count": null,
   "id": "d434343f",
   "metadata": {},
   "outputs": [],
   "source": [
    "def subplot_histograms_wnv(dataframe, yvar, list_of_xvars, list_of_titles, list_of_xlabels, ylabel):\n",
    "    nrows = int(np.ceil(len(list_of_xvars)/2)) \n",
    "    fig, ax = plt.subplots(nrows=nrows, ncols=2, figsize=(15,10)) \n",
    "    ax = ax.ravel() \n",
    "    for i, column in enumerate(list_of_xvars): # Gives us an index value to get into all our lists\n",
    "        dataframe.groupby(column)[yvar].count().plot(kind='bar', ax=ax[i])\n",
    "        ax[i].set_title(list_of_titles[i])\n",
    "        ax[i].set_xlabel(list_of_xlabels[i])\n",
    "        ax[i].set_ylabel(ylabel)\n",
    "    plt.tight_layout()"
   ]
  },
  {
   "cell_type": "code",
   "execution_count": null,
   "id": "b58b891f",
   "metadata": {},
   "outputs": [],
   "source": [
    "# Comparing the effects of sesonality on no. of mosquitos caught\n",
    "subplot_histograms_wnv(dataframe= weather_train_df[weather_train_df['wnvpresent']==1],\n",
    "                   yvar ='nummosquitos',\n",
    "                  list_of_xvars=['weekday_y', 'week', 'month', 'year'],\n",
    "                  list_of_titles=['Average no. of wnv mosquitos caught each day', 'Average. of wnv mosquitos caught each week', 'Average. of wnv mosquitos caught each month', 'Average. of wnv mosquitos caught each year'],\n",
    "                  list_of_xlabels=['Day', 'Week', 'Month', 'Year'],\n",
    "                  ylabel='No. of mosquitos') \n",
    "\n",
    "# august has about same number of counts of mosquitos caught, but the infection rate is much higher\n",
    "# 2007 has a high count of wnv virus mosq though count is only slightly higher than 2009, 2011"
   ]
  },
  {
   "cell_type": "code",
   "execution_count": null,
   "id": "bb5cf2bf",
   "metadata": {},
   "outputs": [],
   "source": [
    "weather_train_df.groupby(['year','species']).wnvpresent.mean().unstack().plot.bar(figsize=(8,6))\n",
    "plt.xticks(rotation=0, fontsize=14)\n",
    "plt.yticks(fontsize=14)\n",
    "plt.title('Probability of mosquito species carrying virus', fontsize=16, y=1.01)\n",
    "plt.ylabel('Probability', fontsize=14)\n",
    "plt.xlabel('Year',fontsize=14)\n",
    "plt.legend(fontsize=9)\n",
    "plt.show()\n",
    "\n",
    "# culex pipens and restauns highest probability"
   ]
  },
  {
   "cell_type": "code",
   "execution_count": null,
   "id": "bfa0c356",
   "metadata": {},
   "outputs": [],
   "source": [
    "weather_train_df['resultspeed'].value_counts().sort_index()\n"
   ]
  },
  {
   "cell_type": "code",
   "execution_count": null,
   "id": "645e8ea4",
   "metadata": {},
   "outputs": [],
   "source": [
    "weather_train_df[['trap', 'week', 'nummosquitos', 'wnvpresent', 'tavg', 'wetbulb', 'dewpoint', 'codesum', ]]\n"
   ]
  },
  {
   "cell_type": "code",
   "execution_count": null,
   "id": "8fb1c5c5",
   "metadata": {},
   "outputs": [],
   "source": []
  },
  {
   "cell_type": "code",
   "execution_count": null,
   "id": "5a75c939",
   "metadata": {},
   "outputs": [],
   "source": []
  },
  {
   "cell_type": "code",
   "execution_count": null,
   "id": "878e65bd",
   "metadata": {},
   "outputs": [],
   "source": []
  },
  {
   "cell_type": "code",
   "execution_count": null,
   "id": "cc4acc96",
   "metadata": {},
   "outputs": [],
   "source": []
  },
  {
   "cell_type": "code",
   "execution_count": null,
   "id": "fd45e4d9",
   "metadata": {},
   "outputs": [],
   "source": []
  },
  {
   "cell_type": "code",
   "execution_count": null,
   "id": "f1270bfb",
   "metadata": {},
   "outputs": [],
   "source": []
  },
  {
   "cell_type": "code",
   "execution_count": null,
   "id": "e766e78b",
   "metadata": {},
   "outputs": [],
   "source": []
  },
  {
   "cell_type": "code",
   "execution_count": null,
   "id": "01d45d54",
   "metadata": {},
   "outputs": [],
   "source": []
  },
  {
   "cell_type": "code",
   "execution_count": null,
   "id": "698a7dc0",
   "metadata": {},
   "outputs": [],
   "source": []
  }
 ],
 "metadata": {
  "kernelspec": {
   "display_name": "Python 3 (ipykernel)",
   "language": "python",
   "name": "python3"
  },
  "language_info": {
   "codemirror_mode": {
    "name": "ipython",
    "version": 3
   },
   "file_extension": ".py",
   "mimetype": "text/x-python",
   "name": "python",
   "nbconvert_exporter": "python",
   "pygments_lexer": "ipython3",
   "version": "3.9.7"
  }
 },
 "nbformat": 4,
 "nbformat_minor": 5
}
